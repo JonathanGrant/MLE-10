{
 "cells": [
  {
   "cell_type": "markdown",
   "id": "24d097db",
   "metadata": {},
   "source": [
    "<p align = \"center\" draggable=”false” ><img src=\"https://user-images.githubusercontent.com/37101144/161836199-fdb0219d-0361-4988-bf26-48b0fad160a3.png\"\n",
    "     width=\"200px\"\n",
    "     height=\"auto\"/>\n",
    "</p>\n",
    "\n",
    "# <h1 align=\"center\" id=\"heading\">Sentiment Analysis of Twitter Data</h1>\n",
    "\n",
    "<hr>\n",
    "\n",
    "\n",
    "### ☑️ Objectives\n",
    "At the end of this session, you will be able to:\n",
    "- [ ] Understand how to find and run pre-trained models\n",
    "- [ ] Evaluate results from pre-trained models\n",
    "- [ ] Run a pre-trained model using real twitter data\n",
    "\n",
    "\n",
    "### 🔨 Pre-Assignment\n",
    "\n",
    "Create a new Conda environment for sentiment anaylsis (sa)\n",
    "\n",
    "```bash\n",
    "  conda create -n sa python=3.8 jupyter -y\n",
    "```\n",
    "\n",
    "Activate your new environment\n",
    "```bash\n",
    "  conda activate sa\n",
    "```\n",
    "\n",
    "Open the jupyter-notebook\n",
    "```bash\n",
    "  jupyter-notebook\n",
    "```\n",
    "\n",
    "Navigate through the repo in the notebook to find `imports.ipynb` for this week and open it.\n",
    "\n",
    "Run all of the cells in the notebook.\n",
    "\n",
    "\n",
    "### Background\n",
    "Please review the weekly narrative [here](https://www.notion.so/Week-2-Data-Centric-AI-the-AI-Product-Lifecycle-72a84c1517b44fcbb3e6bd11d47477dc#2b73937612bb46559f5b91dc2bf55e7d)\n",
    "\n",
    "\n"
   ]
  },
  {
   "cell_type": "markdown",
   "id": "b3934e6e",
   "metadata": {},
   "source": [
    "<hr>"
   ]
  },
  {
   "cell_type": "markdown",
   "id": "d1a5ab14",
   "metadata": {},
   "source": [
    "## 🚀 Let's Get Started"
   ]
  },
  {
   "cell_type": "markdown",
   "id": "bea542cb",
   "metadata": {},
   "source": [
    "Let's first start with our imports"
   ]
  },
  {
   "cell_type": "code",
   "execution_count": 1,
   "id": "f67dcb2b",
   "metadata": {
    "scrolled": true
   },
   "outputs": [],
   "source": [
    "import csv # Allows us to read and write csv files\n",
    "from pprint import pprint # Make our print functions easier to read\n",
    "import pandas as pd # Better csv reader\n",
    "\n",
    "from transformers import pipeline # Hugging face pipeline to load online models"
   ]
  },
  {
   "cell_type": "markdown",
   "id": "62d4028f",
   "metadata": {},
   "source": [
    "🤗 Transformers provides thousands of pretrained models to perform tasks on different modalities such as text, vision, and audio.\n",
    "\n",
    "These models can be applied on:\n",
    "- 📝 Text, for tasks like text classification, information extraction, question answering, summarization, translation, text generation, in over 100 languages.\n",
    "\n",
    "- 🖼️ Images, for tasks like image classification, object detection, and segmentation.\n",
    "- 🗣️ Audio, for tasks like speech recognition and audio classification.\n",
    "\n",
    "This is the pipeline method in transformers that we'll be using to analyze our sentiment data. Since we're not specifying a pretrained model, the pipeline has a default sentiment analysis model called [distilbert-base-uncased-finetuned-sst-2-english](https://huggingface.co/distilbert-base-uncased-finetuned-sst-2-english)."
   ]
  },
  {
   "cell_type": "code",
   "execution_count": 2,
   "id": "9c3e6e41",
   "metadata": {},
   "outputs": [
    {
     "name": "stderr",
     "output_type": "stream",
     "text": [
      "No model was supplied, defaulted to distilbert-base-uncased-finetuned-sst-2-english and revision af0f99b (https://huggingface.co/distilbert-base-uncased-finetuned-sst-2-english).\n",
      "Using a pipeline without specifying a model name and revision in production is not recommended.\n"
     ]
    }
   ],
   "source": [
    "sentiment_pipeline = pipeline(\"sentiment-analysis\")"
   ]
  },
  {
   "cell_type": "markdown",
   "id": "e30b34b2",
   "metadata": {},
   "source": [
    "In this example, we'll supply two polar sentiments and test out the model pipeline."
   ]
  },
  {
   "cell_type": "code",
   "execution_count": 4,
   "id": "de41c494",
   "metadata": {},
   "outputs": [
    {
     "data": {
      "text/plain": [
       "[{'label': 'POSITIVE', 'score': 0.9998694658279419},\n",
       " {'label': 'NEGATIVE', 'score': 0.994263231754303}]"
      ]
     },
     "execution_count": 4,
     "metadata": {},
     "output_type": "execute_result"
    }
   ],
   "source": [
    "data = [\"This is great!\", \"Oh no!\"]\n",
    "sentiment_pipeline(data)"
   ]
  },
  {
   "cell_type": "markdown",
   "id": "39d04139",
   "metadata": {},
   "source": [
    "The `label` in this case indicates the prediction for the sentiment type.\n",
    "\n",
    "The `score` indicates the confidence of the prediction (between 0 and 1).\n",
    "\n",
    "Since our sentiments were very polar, it was easier for the model to predict the sentiment type.\n",
    "\n",
    "Let's see what happens when we use a less clear example:"
   ]
  },
  {
   "cell_type": "code",
   "execution_count": 5,
   "id": "c077f881",
   "metadata": {},
   "outputs": [
    {
     "data": {
      "text/plain": [
       "[{'label': 'NEGATIVE', 'score': 0.9955561757087708},\n",
       " {'label': 'NEGATIVE', 'score': 0.9860844016075134}]"
      ]
     },
     "execution_count": 5,
     "metadata": {},
     "output_type": "execute_result"
    }
   ],
   "source": [
    "challenging_sentiments = [\"I don't think freddriq should leave, he's been helpful.\",\n",
    "                          \"Is that the lake we went to last month?\"]\n",
    "sentiment_pipeline(challenging_sentiments)"
   ]
  },
  {
   "cell_type": "markdown",
   "id": "c64b62d4",
   "metadata": {},
   "source": [
    "<hr>\n",
    "\n",
    "### Loading the Twitter Data\n",
    "\n",
    "Let's play with some twitter data. We'll be using a modified version of the [Elon Musk twitter dataset on Kaggle](https://www.kaggle.com/datasets/andradaolteanu/all-elon-musks-tweets)."
   ]
  },
  {
   "cell_type": "code",
   "execution_count": 9,
   "id": "4c1a44d0",
   "metadata": {},
   "outputs": [
    {
     "data": {
      "text/html": [
       "<div>\n",
       "<style scoped>\n",
       "    .dataframe tbody tr th:only-of-type {\n",
       "        vertical-align: middle;\n",
       "    }\n",
       "\n",
       "    .dataframe tbody tr th {\n",
       "        vertical-align: top;\n",
       "    }\n",
       "\n",
       "    .dataframe thead th {\n",
       "        text-align: right;\n",
       "    }\n",
       "</style>\n",
       "<table border=\"1\" class=\"dataframe\">\n",
       "  <thead>\n",
       "    <tr style=\"text-align: right;\">\n",
       "      <th></th>\n",
       "      <th>tweet</th>\n",
       "    </tr>\n",
       "  </thead>\n",
       "  <tbody>\n",
       "    <tr>\n",
       "      <th>0</th>\n",
       "      <td>@vincent13031925 For now. Costs are decreasing...</td>\n",
       "    </tr>\n",
       "    <tr>\n",
       "      <th>1</th>\n",
       "      <td>Love this beautiful shot</td>\n",
       "    </tr>\n",
       "    <tr>\n",
       "      <th>2</th>\n",
       "      <td>@agnostoxxx @CathieDWood @ARKInvest Trust the ...</td>\n",
       "    </tr>\n",
       "    <tr>\n",
       "      <th>3</th>\n",
       "      <td>The art In Cyberpunk is incredible</td>\n",
       "    </tr>\n",
       "    <tr>\n",
       "      <th>4</th>\n",
       "      <td>@itsALLrisky 🤣🤣</td>\n",
       "    </tr>\n",
       "    <tr>\n",
       "      <th>...</th>\n",
       "      <td>...</td>\n",
       "    </tr>\n",
       "    <tr>\n",
       "      <th>12557</th>\n",
       "      <td>@eugenelee3 @PPathole @SpaceX @Tesla Yeah, not...</td>\n",
       "    </tr>\n",
       "    <tr>\n",
       "      <th>12558</th>\n",
       "      <td>@PPathole @SpaceX @Tesla That was my night job...</td>\n",
       "    </tr>\n",
       "    <tr>\n",
       "      <th>12559</th>\n",
       "      <td>@PPathole @SpaceX @Tesla True. Ancient times …...</td>\n",
       "    </tr>\n",
       "    <tr>\n",
       "      <th>12560</th>\n",
       "      <td>@Erdayastronaut @Tesla Absolutely</td>\n",
       "    </tr>\n",
       "    <tr>\n",
       "      <th>12561</th>\n",
       "      <td>@Erdayastronaut @Tesla Tesla is building up co...</td>\n",
       "    </tr>\n",
       "  </tbody>\n",
       "</table>\n",
       "<p>12562 rows × 1 columns</p>\n",
       "</div>"
      ],
      "text/plain": [
       "                                                   tweet\n",
       "0      @vincent13031925 For now. Costs are decreasing...\n",
       "1                               Love this beautiful shot\n",
       "2      @agnostoxxx @CathieDWood @ARKInvest Trust the ...\n",
       "3                     The art In Cyberpunk is incredible\n",
       "4                                        @itsALLrisky 🤣🤣\n",
       "...                                                  ...\n",
       "12557  @eugenelee3 @PPathole @SpaceX @Tesla Yeah, not...\n",
       "12558  @PPathole @SpaceX @Tesla That was my night job...\n",
       "12559  @PPathole @SpaceX @Tesla True. Ancient times …...\n",
       "12560                  @Erdayastronaut @Tesla Absolutely\n",
       "12561  @Erdayastronaut @Tesla Tesla is building up co...\n",
       "\n",
       "[12562 rows x 1 columns]"
      ]
     },
     "execution_count": 9,
     "metadata": {},
     "output_type": "execute_result"
    }
   ],
   "source": [
    "df = pd.read_csv('../data/elonmusk_tweets.csv', names=['tweet'])  # This is not really a csv, just a text file\n",
    "df"
   ]
  },
  {
   "cell_type": "markdown",
   "id": "e630a8f1",
   "metadata": {},
   "source": [
    "First things first - let's look at the sentiment as determined by the [distilbert-base-uncased-finetuned-sst-2-english](https://huggingface.co/distilbert-base-uncased-finetuned-sst-2-english) (default model) in the pipeline."
   ]
  },
  {
   "cell_type": "code",
   "execution_count": 11,
   "id": "42b10279",
   "metadata": {},
   "outputs": [],
   "source": [
    "distil_sentiment = sentiment_pipeline(list(df['tweet'].values))"
   ]
  },
  {
   "cell_type": "markdown",
   "id": "8ce3fefd",
   "metadata": {},
   "source": [
    "Let's check out the distribution of positive/negative Tweets and see the breakdown using Python's 🐍 standard library `collections.Counter`!"
   ]
  },
  {
   "cell_type": "code",
   "execution_count": 13,
   "id": "971a841d",
   "metadata": {},
   "outputs": [
    {
     "data": {
      "text/html": [
       "<div>\n",
       "<style scoped>\n",
       "    .dataframe tbody tr th:only-of-type {\n",
       "        vertical-align: middle;\n",
       "    }\n",
       "\n",
       "    .dataframe tbody tr th {\n",
       "        vertical-align: top;\n",
       "    }\n",
       "\n",
       "    .dataframe thead th {\n",
       "        text-align: right;\n",
       "    }\n",
       "</style>\n",
       "<table border=\"1\" class=\"dataframe\">\n",
       "  <thead>\n",
       "    <tr style=\"text-align: right;\">\n",
       "      <th></th>\n",
       "      <th>score</th>\n",
       "    </tr>\n",
       "  </thead>\n",
       "  <tbody>\n",
       "    <tr>\n",
       "      <th>count</th>\n",
       "      <td>12562.000000</td>\n",
       "    </tr>\n",
       "    <tr>\n",
       "      <th>mean</th>\n",
       "      <td>0.952361</td>\n",
       "    </tr>\n",
       "    <tr>\n",
       "      <th>std</th>\n",
       "      <td>0.096420</td>\n",
       "    </tr>\n",
       "    <tr>\n",
       "      <th>min</th>\n",
       "      <td>0.500018</td>\n",
       "    </tr>\n",
       "    <tr>\n",
       "      <th>25%</th>\n",
       "      <td>0.965393</td>\n",
       "    </tr>\n",
       "    <tr>\n",
       "      <th>50%</th>\n",
       "      <td>0.991955</td>\n",
       "    </tr>\n",
       "    <tr>\n",
       "      <th>75%</th>\n",
       "      <td>0.997941</td>\n",
       "    </tr>\n",
       "    <tr>\n",
       "      <th>max</th>\n",
       "      <td>0.999886</td>\n",
       "    </tr>\n",
       "  </tbody>\n",
       "</table>\n",
       "</div>"
      ],
      "text/plain": [
       "              score\n",
       "count  12562.000000\n",
       "mean       0.952361\n",
       "std        0.096420\n",
       "min        0.500018\n",
       "25%        0.965393\n",
       "50%        0.991955\n",
       "75%        0.997941\n",
       "max        0.999886"
      ]
     },
     "execution_count": 13,
     "metadata": {},
     "output_type": "execute_result"
    }
   ],
   "source": [
    "distil_df = pd.DataFrame(distil_sentiment)\n",
    "distil_df.describe()"
   ]
  },
  {
   "cell_type": "markdown",
   "id": "42155a0c",
   "metadata": {},
   "source": [
    "Let's do that process again, but use a model with an additional potential label \"NEUTRAL\" called [bertweet-sentiment-analysis](https://huggingface.co/finiteautomata/bertweet-base-sentiment-analysis)\n",
    "\n",
    "To start - we'll build a pipeline with the new model by using the 🤗 Hugging Face address: `finiteautomata/bertweet-base-sentiment-analysis`"
   ]
  },
  {
   "cell_type": "code",
   "execution_count": 9,
   "id": "3fd6e37f",
   "metadata": {},
   "outputs": [
    {
     "data": {
      "application/vnd.jupyter.widget-view+json": {
       "model_id": "b9773826ef124a18a7bcfabf93adedda",
       "version_major": 2,
       "version_minor": 0
      },
      "text/plain": [
       "Downloading:   0%|          | 0.00/1.42k [00:00<?, ?B/s]"
      ]
     },
     "metadata": {},
     "output_type": "display_data"
    }
   ],
   "source": [
    "bertweet_pipeline = pipeline(model=\"finiteautomata/bertweet-base-sentiment-analysis\")"
   ]
  },
  {
   "cell_type": "markdown",
   "id": "7025127d",
   "metadata": {},
   "source": [
    "Next, and the same as before, let's run the analysis on 100 of Elon's tweets."
   ]
  },
  {
   "cell_type": "code",
   "execution_count": 8,
   "id": "5daa650d",
   "metadata": {},
   "outputs": [
    {
     "ename": "NameError",
     "evalue": "name 'bertweet_pipeline' is not defined",
     "output_type": "error",
     "traceback": [
      "\u001b[0;31m---------------------------------------------------------------------------\u001b[0m",
      "\u001b[0;31mNameError\u001b[0m                                 Traceback (most recent call last)",
      "\u001b[0;32m/tmp/ipykernel_938/3995340007.py\u001b[0m in \u001b[0;36m<module>\u001b[0;34m\u001b[0m\n\u001b[0;32m----> 1\u001b[0;31m \u001b[0mbert_sentiment\u001b[0m \u001b[0;34m=\u001b[0m \u001b[0mbertweet_pipeline\u001b[0m\u001b[0;34m(\u001b[0m\u001b[0mlist\u001b[0m\u001b[0;34m(\u001b[0m\u001b[0mdf\u001b[0m\u001b[0;34m[\u001b[0m\u001b[0;34m'tweet'\u001b[0m\u001b[0;34m]\u001b[0m\u001b[0;34m.\u001b[0m\u001b[0mvalues\u001b[0m\u001b[0;34m)\u001b[0m\u001b[0;34m)\u001b[0m\u001b[0;34m\u001b[0m\u001b[0;34m\u001b[0m\u001b[0m\n\u001b[0m",
      "\u001b[0;31mNameError\u001b[0m: name 'bertweet_pipeline' is not defined"
     ]
    }
   ],
   "source": [
    "bert_sentiment = bertweet_pipeline(list(df['tweet'].values))"
   ]
  },
  {
   "cell_type": "markdown",
   "id": "6d8a316d",
   "metadata": {},
   "source": [
    "And then, let's check out the breakdown of positive, negative, AND neutral sentiments!"
   ]
  },
  {
   "cell_type": "code",
   "execution_count": 16,
   "id": "6996cc58",
   "metadata": {},
   "outputs": [
    {
     "name": "stdout",
     "output_type": "stream",
     "text": [
      "      label     score\n",
      "0       NEU  0.952393\n",
      "1       POS  0.990994\n",
      "2       NEU  0.973386\n",
      "3       POS  0.982427\n",
      "4       NEG  0.962732\n",
      "...     ...       ...\n",
      "12557   NEU  0.520728\n",
      "12558   POS  0.595945\n",
      "12559   NEG  0.782732\n",
      "12560   POS  0.715958\n",
      "12561   POS  0.696965\n",
      "\n",
      "[12562 rows x 2 columns]\n"
     ]
    },
    {
     "data": {
      "text/html": [
       "<div>\n",
       "<style scoped>\n",
       "    .dataframe tbody tr th:only-of-type {\n",
       "        vertical-align: middle;\n",
       "    }\n",
       "\n",
       "    .dataframe tbody tr th {\n",
       "        vertical-align: top;\n",
       "    }\n",
       "\n",
       "    .dataframe thead th {\n",
       "        text-align: right;\n",
       "    }\n",
       "</style>\n",
       "<table border=\"1\" class=\"dataframe\">\n",
       "  <thead>\n",
       "    <tr style=\"text-align: right;\">\n",
       "      <th></th>\n",
       "      <th>score</th>\n",
       "    </tr>\n",
       "  </thead>\n",
       "  <tbody>\n",
       "    <tr>\n",
       "      <th>count</th>\n",
       "      <td>12562.000000</td>\n",
       "    </tr>\n",
       "    <tr>\n",
       "      <th>mean</th>\n",
       "      <td>0.851021</td>\n",
       "    </tr>\n",
       "    <tr>\n",
       "      <th>std</th>\n",
       "      <td>0.137383</td>\n",
       "    </tr>\n",
       "    <tr>\n",
       "      <th>min</th>\n",
       "      <td>0.344159</td>\n",
       "    </tr>\n",
       "    <tr>\n",
       "      <th>25%</th>\n",
       "      <td>0.768498</td>\n",
       "    </tr>\n",
       "    <tr>\n",
       "      <th>50%</th>\n",
       "      <td>0.907914</td>\n",
       "    </tr>\n",
       "    <tr>\n",
       "      <th>75%</th>\n",
       "      <td>0.961667</td>\n",
       "    </tr>\n",
       "    <tr>\n",
       "      <th>max</th>\n",
       "      <td>0.992863</td>\n",
       "    </tr>\n",
       "  </tbody>\n",
       "</table>\n",
       "</div>"
      ],
      "text/plain": [
       "              score\n",
       "count  12562.000000\n",
       "mean       0.851021\n",
       "std        0.137383\n",
       "min        0.344159\n",
       "25%        0.768498\n",
       "50%        0.907914\n",
       "75%        0.961667\n",
       "max        0.992863"
      ]
     },
     "execution_count": 16,
     "metadata": {},
     "output_type": "execute_result"
    }
   ],
   "source": [
    "bert_df = pd.DataFrame(bert_sentiment)\n",
    "print(bert_df)\n",
    "bert_df.describe()"
   ]
  },
  {
   "cell_type": "code",
   "execution_count": 17,
   "id": "b24dc806",
   "metadata": {},
   "outputs": [
    {
     "data": {
      "text/plain": [
       "(                                                   tweet\n",
       " 0      @vincent13031925 For now. Costs are decreasing...\n",
       " 1                               Love this beautiful shot\n",
       " 2      @agnostoxxx @CathieDWood @ARKInvest Trust the ...\n",
       " 3                     The art In Cyberpunk is incredible\n",
       " 4                                        @itsALLrisky 🤣🤣\n",
       " ...                                                  ...\n",
       " 12557  @eugenelee3 @PPathole @SpaceX @Tesla Yeah, not...\n",
       " 12558  @PPathole @SpaceX @Tesla That was my night job...\n",
       " 12559  @PPathole @SpaceX @Tesla True. Ancient times …...\n",
       " 12560                  @Erdayastronaut @Tesla Absolutely\n",
       " 12561  @Erdayastronaut @Tesla Tesla is building up co...\n",
       " \n",
       " [12562 rows x 1 columns],\n",
       "           label     score\n",
       " 0      NEGATIVE  0.996366\n",
       " 1      POSITIVE  0.999882\n",
       " 2      NEGATIVE  0.849832\n",
       " 3      POSITIVE  0.999886\n",
       " 4      NEGATIVE  0.983950\n",
       " ...         ...       ...\n",
       " 12557  NEGATIVE  0.999204\n",
       " 12558  NEGATIVE  0.987740\n",
       " 12559  NEGATIVE  0.986868\n",
       " 12560  POSITIVE  0.996573\n",
       " 12561  POSITIVE  0.997279\n",
       " \n",
       " [12562 rows x 2 columns],\n",
       "       label     score\n",
       " 0       NEU  0.952393\n",
       " 1       POS  0.990994\n",
       " 2       NEU  0.973386\n",
       " 3       POS  0.982427\n",
       " 4       NEG  0.962732\n",
       " ...     ...       ...\n",
       " 12557   NEU  0.520728\n",
       " 12558   POS  0.595945\n",
       " 12559   NEG  0.782732\n",
       " 12560   POS  0.715958\n",
       " 12561   POS  0.696965\n",
       " \n",
       " [12562 rows x 2 columns])"
      ]
     },
     "execution_count": 17,
     "metadata": {},
     "output_type": "execute_result"
    }
   ],
   "source": [
    "df, distil_df, bert_df"
   ]
  },
  {
   "cell_type": "code",
   "execution_count": 18,
   "id": "2731f562",
   "metadata": {},
   "outputs": [
    {
     "data": {
      "text/html": [
       "<div>\n",
       "<style scoped>\n",
       "    .dataframe tbody tr th:only-of-type {\n",
       "        vertical-align: middle;\n",
       "    }\n",
       "\n",
       "    .dataframe tbody tr th {\n",
       "        vertical-align: top;\n",
       "    }\n",
       "\n",
       "    .dataframe thead th {\n",
       "        text-align: right;\n",
       "    }\n",
       "</style>\n",
       "<table border=\"1\" class=\"dataframe\">\n",
       "  <thead>\n",
       "    <tr style=\"text-align: right;\">\n",
       "      <th></th>\n",
       "      <th>tweet</th>\n",
       "      <th>label_distil</th>\n",
       "      <th>score_distil</th>\n",
       "      <th>label_bert</th>\n",
       "      <th>score_bert</th>\n",
       "    </tr>\n",
       "  </thead>\n",
       "  <tbody>\n",
       "    <tr>\n",
       "      <th>0</th>\n",
       "      <td>@vincent13031925 For now. Costs are decreasing...</td>\n",
       "      <td>NEGATIVE</td>\n",
       "      <td>0.996366</td>\n",
       "      <td>NEU</td>\n",
       "      <td>0.952393</td>\n",
       "    </tr>\n",
       "    <tr>\n",
       "      <th>1</th>\n",
       "      <td>Love this beautiful shot</td>\n",
       "      <td>POSITIVE</td>\n",
       "      <td>0.999882</td>\n",
       "      <td>POS</td>\n",
       "      <td>0.990994</td>\n",
       "    </tr>\n",
       "    <tr>\n",
       "      <th>2</th>\n",
       "      <td>@agnostoxxx @CathieDWood @ARKInvest Trust the ...</td>\n",
       "      <td>NEGATIVE</td>\n",
       "      <td>0.849832</td>\n",
       "      <td>NEU</td>\n",
       "      <td>0.973386</td>\n",
       "    </tr>\n",
       "    <tr>\n",
       "      <th>3</th>\n",
       "      <td>The art In Cyberpunk is incredible</td>\n",
       "      <td>POSITIVE</td>\n",
       "      <td>0.999886</td>\n",
       "      <td>POS</td>\n",
       "      <td>0.982427</td>\n",
       "    </tr>\n",
       "    <tr>\n",
       "      <th>4</th>\n",
       "      <td>@itsALLrisky 🤣🤣</td>\n",
       "      <td>NEGATIVE</td>\n",
       "      <td>0.983950</td>\n",
       "      <td>NEG</td>\n",
       "      <td>0.962732</td>\n",
       "    </tr>\n",
       "    <tr>\n",
       "      <th>...</th>\n",
       "      <td>...</td>\n",
       "      <td>...</td>\n",
       "      <td>...</td>\n",
       "      <td>...</td>\n",
       "      <td>...</td>\n",
       "    </tr>\n",
       "    <tr>\n",
       "      <th>12557</th>\n",
       "      <td>@eugenelee3 @PPathole @SpaceX @Tesla Yeah, not...</td>\n",
       "      <td>NEGATIVE</td>\n",
       "      <td>0.999204</td>\n",
       "      <td>NEU</td>\n",
       "      <td>0.520728</td>\n",
       "    </tr>\n",
       "    <tr>\n",
       "      <th>12558</th>\n",
       "      <td>@PPathole @SpaceX @Tesla That was my night job...</td>\n",
       "      <td>NEGATIVE</td>\n",
       "      <td>0.987740</td>\n",
       "      <td>POS</td>\n",
       "      <td>0.595945</td>\n",
       "    </tr>\n",
       "    <tr>\n",
       "      <th>12559</th>\n",
       "      <td>@PPathole @SpaceX @Tesla True. Ancient times …...</td>\n",
       "      <td>NEGATIVE</td>\n",
       "      <td>0.986868</td>\n",
       "      <td>NEG</td>\n",
       "      <td>0.782732</td>\n",
       "    </tr>\n",
       "    <tr>\n",
       "      <th>12560</th>\n",
       "      <td>@Erdayastronaut @Tesla Absolutely</td>\n",
       "      <td>POSITIVE</td>\n",
       "      <td>0.996573</td>\n",
       "      <td>POS</td>\n",
       "      <td>0.715958</td>\n",
       "    </tr>\n",
       "    <tr>\n",
       "      <th>12561</th>\n",
       "      <td>@Erdayastronaut @Tesla Tesla is building up co...</td>\n",
       "      <td>POSITIVE</td>\n",
       "      <td>0.997279</td>\n",
       "      <td>POS</td>\n",
       "      <td>0.696965</td>\n",
       "    </tr>\n",
       "  </tbody>\n",
       "</table>\n",
       "<p>12562 rows × 5 columns</p>\n",
       "</div>"
      ],
      "text/plain": [
       "                                                   tweet label_distil  \\\n",
       "0      @vincent13031925 For now. Costs are decreasing...     NEGATIVE   \n",
       "1                               Love this beautiful shot     POSITIVE   \n",
       "2      @agnostoxxx @CathieDWood @ARKInvest Trust the ...     NEGATIVE   \n",
       "3                     The art In Cyberpunk is incredible     POSITIVE   \n",
       "4                                        @itsALLrisky 🤣🤣     NEGATIVE   \n",
       "...                                                  ...          ...   \n",
       "12557  @eugenelee3 @PPathole @SpaceX @Tesla Yeah, not...     NEGATIVE   \n",
       "12558  @PPathole @SpaceX @Tesla That was my night job...     NEGATIVE   \n",
       "12559  @PPathole @SpaceX @Tesla True. Ancient times …...     NEGATIVE   \n",
       "12560                  @Erdayastronaut @Tesla Absolutely     POSITIVE   \n",
       "12561  @Erdayastronaut @Tesla Tesla is building up co...     POSITIVE   \n",
       "\n",
       "       score_distil label_bert  score_bert  \n",
       "0          0.996366        NEU    0.952393  \n",
       "1          0.999882        POS    0.990994  \n",
       "2          0.849832        NEU    0.973386  \n",
       "3          0.999886        POS    0.982427  \n",
       "4          0.983950        NEG    0.962732  \n",
       "...             ...        ...         ...  \n",
       "12557      0.999204        NEU    0.520728  \n",
       "12558      0.987740        POS    0.595945  \n",
       "12559      0.986868        NEG    0.782732  \n",
       "12560      0.996573        POS    0.715958  \n",
       "12561      0.997279        POS    0.696965  \n",
       "\n",
       "[12562 rows x 5 columns]"
      ]
     },
     "execution_count": 18,
     "metadata": {},
     "output_type": "execute_result"
    }
   ],
   "source": [
    "tweet_df = df.merge(distil_df, left_index=True, right_index=True).merge(bert_df, left_index=True, right_index=True, suffixes=['_distil', '_bert'])\n",
    "tweet_df"
   ]
  },
  {
   "cell_type": "code",
   "execution_count": 19,
   "id": "5feb6644",
   "metadata": {},
   "outputs": [
    {
     "data": {
      "text/html": [
       "<div>\n",
       "<style scoped>\n",
       "    .dataframe tbody tr th:only-of-type {\n",
       "        vertical-align: middle;\n",
       "    }\n",
       "\n",
       "    .dataframe tbody tr th {\n",
       "        vertical-align: top;\n",
       "    }\n",
       "\n",
       "    .dataframe thead th {\n",
       "        text-align: right;\n",
       "    }\n",
       "</style>\n",
       "<table border=\"1\" class=\"dataframe\">\n",
       "  <thead>\n",
       "    <tr style=\"text-align: right;\">\n",
       "      <th></th>\n",
       "      <th>tweet</th>\n",
       "      <th>label_distil</th>\n",
       "      <th>score_distil</th>\n",
       "      <th>label_bert</th>\n",
       "      <th>score_bert</th>\n",
       "    </tr>\n",
       "  </thead>\n",
       "  <tbody>\n",
       "    <tr>\n",
       "      <th>8</th>\n",
       "      <td>Blimps rock  https://t.co/e8cu5FkNOI</td>\n",
       "      <td>NEGATIVE</td>\n",
       "      <td>0.993785</td>\n",
       "      <td>POS</td>\n",
       "      <td>0.609027</td>\n",
       "    </tr>\n",
       "    <tr>\n",
       "      <th>19</th>\n",
       "      <td>Kong vs Godzilla has record for most meth ever...</td>\n",
       "      <td>POSITIVE</td>\n",
       "      <td>0.621602</td>\n",
       "      <td>NEG</td>\n",
       "      <td>0.763040</td>\n",
       "    </tr>\n",
       "    <tr>\n",
       "      <th>26</th>\n",
       "      <td>@AustinTeslaClub @OwenSparks_ @WholeMarsBlog G...</td>\n",
       "      <td>NEGATIVE</td>\n",
       "      <td>0.984065</td>\n",
       "      <td>POS</td>\n",
       "      <td>0.894048</td>\n",
       "    </tr>\n",
       "    <tr>\n",
       "      <th>34</th>\n",
       "      <td>@cleantechnica Congrats to NIO. That is a toug...</td>\n",
       "      <td>NEGATIVE</td>\n",
       "      <td>0.554293</td>\n",
       "      <td>POS</td>\n",
       "      <td>0.989051</td>\n",
       "    </tr>\n",
       "    <tr>\n",
       "      <th>41</th>\n",
       "      <td>Soon our monkey will be on twitch &amp;amp; discor...</td>\n",
       "      <td>NEGATIVE</td>\n",
       "      <td>0.777532</td>\n",
       "      <td>POS</td>\n",
       "      <td>0.505962</td>\n",
       "    </tr>\n",
       "    <tr>\n",
       "      <th>...</th>\n",
       "      <td>...</td>\n",
       "      <td>...</td>\n",
       "      <td>...</td>\n",
       "      <td>...</td>\n",
       "      <td>...</td>\n",
       "    </tr>\n",
       "    <tr>\n",
       "      <th>12458</th>\n",
       "      <td>The exec conf room at Tesla used to be called ...</td>\n",
       "      <td>NEGATIVE</td>\n",
       "      <td>0.997439</td>\n",
       "      <td>POS</td>\n",
       "      <td>0.652339</td>\n",
       "    </tr>\n",
       "    <tr>\n",
       "      <th>12491</th>\n",
       "      <td>It was Xmas, so we brought presents for the ki...</td>\n",
       "      <td>NEGATIVE</td>\n",
       "      <td>0.997753</td>\n",
       "      <td>POS</td>\n",
       "      <td>0.777680</td>\n",
       "    </tr>\n",
       "    <tr>\n",
       "      <th>12528</th>\n",
       "      <td>@Erdayastronaut @thesheetztweetz Yeah, should ...</td>\n",
       "      <td>NEGATIVE</td>\n",
       "      <td>0.997490</td>\n",
       "      <td>POS</td>\n",
       "      <td>0.550293</td>\n",
       "    </tr>\n",
       "    <tr>\n",
       "      <th>12555</th>\n",
       "      <td>@PPathole @SwiftOnSecurity Getting there</td>\n",
       "      <td>NEGATIVE</td>\n",
       "      <td>0.987638</td>\n",
       "      <td>POS</td>\n",
       "      <td>0.504522</td>\n",
       "    </tr>\n",
       "    <tr>\n",
       "      <th>12558</th>\n",
       "      <td>@PPathole @SpaceX @Tesla That was my night job...</td>\n",
       "      <td>NEGATIVE</td>\n",
       "      <td>0.987740</td>\n",
       "      <td>POS</td>\n",
       "      <td>0.595945</td>\n",
       "    </tr>\n",
       "  </tbody>\n",
       "</table>\n",
       "<p>747 rows × 5 columns</p>\n",
       "</div>"
      ],
      "text/plain": [
       "                                                   tweet label_distil  \\\n",
       "8                   Blimps rock  https://t.co/e8cu5FkNOI     NEGATIVE   \n",
       "19     Kong vs Godzilla has record for most meth ever...     POSITIVE   \n",
       "26     @AustinTeslaClub @OwenSparks_ @WholeMarsBlog G...     NEGATIVE   \n",
       "34     @cleantechnica Congrats to NIO. That is a toug...     NEGATIVE   \n",
       "41     Soon our monkey will be on twitch &amp; discor...     NEGATIVE   \n",
       "...                                                  ...          ...   \n",
       "12458  The exec conf room at Tesla used to be called ...     NEGATIVE   \n",
       "12491  It was Xmas, so we brought presents for the ki...     NEGATIVE   \n",
       "12528  @Erdayastronaut @thesheetztweetz Yeah, should ...     NEGATIVE   \n",
       "12555           @PPathole @SwiftOnSecurity Getting there     NEGATIVE   \n",
       "12558  @PPathole @SpaceX @Tesla That was my night job...     NEGATIVE   \n",
       "\n",
       "       score_distil label_bert  score_bert  \n",
       "8          0.993785        POS    0.609027  \n",
       "19         0.621602        NEG    0.763040  \n",
       "26         0.984065        POS    0.894048  \n",
       "34         0.554293        POS    0.989051  \n",
       "41         0.777532        POS    0.505962  \n",
       "...             ...        ...         ...  \n",
       "12458      0.997439        POS    0.652339  \n",
       "12491      0.997753        POS    0.777680  \n",
       "12528      0.997490        POS    0.550293  \n",
       "12555      0.987638        POS    0.504522  \n",
       "12558      0.987740        POS    0.595945  \n",
       "\n",
       "[747 rows x 5 columns]"
      ]
     },
     "execution_count": 19,
     "metadata": {},
     "output_type": "execute_result"
    }
   ],
   "source": [
    "tweet_df[(tweet_df['label_distil'].str[:3] != tweet_df['label_bert']) & (tweet_df['label_bert'] != 'NEU')]"
   ]
  },
  {
   "cell_type": "code",
   "execution_count": 27,
   "id": "0cd8cdc7",
   "metadata": {},
   "outputs": [
    {
     "data": {
      "text/plain": [
       "NEU    7787\n",
       "POS    3327\n",
       "NEG    1448\n",
       "Name: label_bert, dtype: int64"
      ]
     },
     "execution_count": 27,
     "metadata": {},
     "output_type": "execute_result"
    }
   ],
   "source": [
    "tweet_df['label_bert'].value_counts()"
   ]
  },
  {
   "cell_type": "code",
   "execution_count": 28,
   "id": "2689fbf2",
   "metadata": {},
   "outputs": [
    {
     "data": {
      "text/plain": [
       "0.15643979057591623"
      ]
     },
     "execution_count": 28,
     "metadata": {},
     "output_type": "execute_result"
    }
   ],
   "source": [
    "747 / (3327 + 1448)"
   ]
  },
  {
   "cell_type": "code",
   "execution_count": 20,
   "id": "92c3d626",
   "metadata": {},
   "outputs": [],
   "source": [
    "import seaborn as sns"
   ]
  },
  {
   "cell_type": "code",
   "execution_count": 25,
   "id": "165ad58f",
   "metadata": {},
   "outputs": [
    {
     "data": {
      "text/plain": [
       "<AxesSubplot:ylabel='label_distil'>"
      ]
     },
     "execution_count": 25,
     "metadata": {},
     "output_type": "execute_result"
    },
    {
     "data": {
      "image/png": "[encoded data removed]",
      "text/plain": [
       "<Figure size 432x288 with 1 Axes>"
      ]
     },
     "metadata": {},
     "output_type": "display_data"
    }
   ],
   "source": [
    "tweet_df['label_distil'].value_counts().plot.pie()"
   ]
  },
  {
   "cell_type": "code",
   "execution_count": 26,
   "id": "f7a27735",
   "metadata": {},
   "outputs": [
    {
     "data": {
      "text/plain": [
       "<AxesSubplot:ylabel='label_bert'>"
      ]
     },
     "execution_count": 26,
     "metadata": {},
     "output_type": "execute_result"
    },
    {
     "data": {
      "image/png": "[encoded data removed]",
      "text/plain": [
       "<Figure size 432x288 with 1 Axes>"
      ]
     },
     "metadata": {},
     "output_type": "display_data"
    }
   ],
   "source": [
    "tweet_df['label_bert'].value_counts().plot.pie()"
   ]
  },
  {
   "cell_type": "code",
   "execution_count": null,
   "id": "8812cbb4",
   "metadata": {},
   "outputs": [],
   "source": []
  },
  {
   "cell_type": "code",
   "execution_count": null,
   "id": "5d848818",
   "metadata": {},
   "outputs": [],
   "source": []
  },
  {
   "cell_type": "markdown",
   "id": "8185798d",
   "metadata": {},
   "source": [
    "❓ What do you notice about the difference in the results? \n",
    "most of the negative, and some of the positive, are acually neutral. This is what i'd guess for most people's tweets (obvious outliers excluded)\n",
    "\n",
    "❓ Do the results for the `bertweet-base` model look better, or worse, than the results for the `distilbert-base` model? Why?\n",
    "Yes because of neutral. However, as seen below, \"Trust the shrub\" is shown as negative and neutral. I disagree, should be positive (though idk what shrub he means)."
   ]
  },
  {
   "cell_type": "code",
   "execution_count": 15,
   "id": "cfdbb326",
   "metadata": {},
   "outputs": [
    {
     "name": "stdout",
     "output_type": "stream",
     "text": [
      "@vincent13031925 For now. Costs are decreasing rapidly.,{'label': 'NEGATIVE', 'score': 0.9963656663894653},{'label': 'NEU', 'score': 0.952393114566803}\n",
      "Love this beautiful shot,{'label': 'POSITIVE', 'score': 0.9998824596405029},{'label': 'POS', 'score': 0.9909942746162415}\n",
      "@agnostoxxx @CathieDWood @ARKInvest Trust the shrub,{'label': 'NEGATIVE', 'score': 0.8498324751853943},{'label': 'NEU', 'score': 0.9733855128288269}\n",
      "The art In Cyberpunk is incredible,{'label': 'POSITIVE', 'score': 0.9998857975006104},{'label': 'POS', 'score': 0.9824265241622925}\n",
      "@itsALLrisky 🤣🤣,{'label': 'NEGATIVE', 'score': 0.9839497804641724},{'label': 'NEG', 'score': 0.9627320766448975}\n"
     ]
    }
   ],
   "source": [
    "for tweet, distil, bert in zip(tweets[:5], distil_sentiment, bert_sentiment):\n",
    "    print(\",\".join([str(tweet), str(distil), str(bert)]))"
   ]
  },
  {
   "cell_type": "markdown",
   "id": "6684f9ae",
   "metadata": {},
   "source": [
    "<hr>\n",
    "\n",
    "### Partner Exercise\n",
    "\n",
    "With your partner, try and determine what the following tweets might be classified as. Try to classify them into the same groups as both of the model pipelines we saw today - and try adding a few of your own sentences/Tweets! "
   ]
  },
  {
   "cell_type": "code",
   "execution_count": 12,
   "id": "dcc55db9",
   "metadata": {},
   "outputs": [],
   "source": [
    "example_difficult_tweets = [\n",
    "    \"Kong vs Godzilla has record for most meth ever consumed in a writer's room\",\n",
    "    \"@ashleevance Battery energy density is the key to electric aircraft. Autonomy for aircraft could have been done a long time ago. Modern airliners are very close to autonomous.\",\n",
    "    \"Tesla's action is not directly reflective of my opinion. Having some Bitcoin, which is simply a less dumb form of liquidity than cash, is adventurous enough for an S&P500 company.\",\n",
    "    \"Going to mars is going to happen before we go outside\",\n",
    "    \"The pfizer vaccine exists\",\n",
    "]"
   ]
  },
  {
   "cell_type": "markdown",
   "id": "324e3837",
   "metadata": {},
   "source": [
    "The `distilbert-base` model:"
   ]
  },
  {
   "cell_type": "code",
   "execution_count": 13,
   "id": "3fd3d5a9",
   "metadata": {},
   "outputs": [
    {
     "name": "stdout",
     "output_type": "stream",
     "text": [
      "[{'label': 'POSITIVE', 'score': 0.5429086089134216}]\n",
      "Kong vs Godzilla has record for most meth ever consumed in a writer's room\n",
      "\n",
      "[{'label': 'NEGATIVE', 'score': 0.6348389983177185}]\n",
      "@ashleevance Battery energy density is the key to electric aircraft. Autonomy for aircraft could have been done a long time ago. Modern airliners are very close to autonomous.\n",
      "\n",
      "[{'label': 'POSITIVE', 'score': 0.9419689178466797}]\n",
      "Tesla's action is not directly reflective of my opinion. Having some Bitcoin, which is simply a less dumb form of liquidity than cash, is adventurous enough for an S&P500 company.\n",
      "\n",
      "[{'label': 'NEGATIVE', 'score': 0.9032431840896606}]\n",
      "Going to mars is going to happen before we go outside\n",
      "\n",
      "[{'label': 'POSITIVE', 'score': 0.9319126605987549}]\n",
      "The pfizer vaccine exists\n",
      "\n"
     ]
    }
   ],
   "source": [
    "for tweet in example_difficult_tweets[0:1000]:\n",
    "    pprint(sentiment_pipeline(tweet))\n",
    "    print(tweet + '\\n')"
   ]
  },
  {
   "cell_type": "markdown",
   "id": "61230295",
   "metadata": {},
   "source": [
    "The `bertweet-base` model:"
   ]
  },
  {
   "cell_type": "code",
   "execution_count": 14,
   "id": "82f2d3e2",
   "metadata": {},
   "outputs": [
    {
     "name": "stdout",
     "output_type": "stream",
     "text": [
      "[{'label': 'NEG', 'score': 0.7213016152381897}]\n",
      "Kong vs Godzilla has record for most meth ever consumed in a writer's room\n",
      "\n",
      "[{'label': 'NEU', 'score': 0.8023845553398132}]\n",
      "@ashleevance Battery energy density is the key to electric aircraft. Autonomy for aircraft could have been done a long time ago. Modern airliners are very close to autonomous.\n",
      "\n",
      "[{'label': 'NEU', 'score': 0.8843538165092468}]\n",
      "Tesla's action is not directly reflective of my opinion. Having some Bitcoin, which is simply a less dumb form of liquidity than cash, is adventurous enough for an S&P500 company.\n",
      "\n",
      "[{'label': 'NEU', 'score': 0.9084119200706482}]\n",
      "Going to mars is going to happen before we go outside\n",
      "\n",
      "[{'label': 'NEU', 'score': 0.9259754419326782}]\n",
      "The pfizer vaccine exists\n",
      "\n"
     ]
    }
   ],
   "source": [
    "for tweet in example_difficult_tweets[0:1000]:\n",
    "    pprint(bertweet_pipeline(tweet))\n",
    "    print(tweet + '\\n')"
   ]
  },
  {
   "cell_type": "markdown",
   "id": "97f2c1c5",
   "metadata": {},
   "source": [
    "❓ How did you do? Did you find any surprising results? \n",
    "Yeah, \n",
    "\n",
    "❓ Are there any instances where the two models gave different predictions for the same tweet?"
   ]
  },
  {
   "cell_type": "code",
   "execution_count": 25,
   "id": "83dd8d56",
   "metadata": {},
   "outputs": [
    {
     "data": {
      "text/html": [
       "<div>\n",
       "<style scoped>\n",
       "    .dataframe tbody tr th:only-of-type {\n",
       "        vertical-align: middle;\n",
       "    }\n",
       "\n",
       "    .dataframe tbody tr th {\n",
       "        vertical-align: top;\n",
       "    }\n",
       "\n",
       "    .dataframe thead th {\n",
       "        text-align: right;\n",
       "    }\n",
       "</style>\n",
       "<table border=\"1\" class=\"dataframe\">\n",
       "  <thead>\n",
       "    <tr style=\"text-align: right;\">\n",
       "      <th></th>\n",
       "      <th>text</th>\n",
       "    </tr>\n",
       "  </thead>\n",
       "  <tbody>\n",
       "    <tr>\n",
       "      <th>0</th>\n",
       "      <td>bad</td>\n",
       "    </tr>\n",
       "    <tr>\n",
       "      <th>1</th>\n",
       "      <td>not bad</td>\n",
       "    </tr>\n",
       "    <tr>\n",
       "      <th>2</th>\n",
       "      <td>not not bad</td>\n",
       "    </tr>\n",
       "    <tr>\n",
       "      <th>3</th>\n",
       "      <td>not not not bad</td>\n",
       "    </tr>\n",
       "    <tr>\n",
       "      <th>4</th>\n",
       "      <td>not not not not bad</td>\n",
       "    </tr>\n",
       "    <tr>\n",
       "      <th>...</th>\n",
       "      <td>...</td>\n",
       "    </tr>\n",
       "    <tr>\n",
       "      <th>95</th>\n",
       "      <td>not not not not not not not not not not not no...</td>\n",
       "    </tr>\n",
       "    <tr>\n",
       "      <th>96</th>\n",
       "      <td>not not not not not not not not not not not no...</td>\n",
       "    </tr>\n",
       "    <tr>\n",
       "      <th>97</th>\n",
       "      <td>not not not not not not not not not not not no...</td>\n",
       "    </tr>\n",
       "    <tr>\n",
       "      <th>98</th>\n",
       "      <td>not not not not not not not not not not not no...</td>\n",
       "    </tr>\n",
       "    <tr>\n",
       "      <th>99</th>\n",
       "      <td>not not not not not not not not not not not no...</td>\n",
       "    </tr>\n",
       "  </tbody>\n",
       "</table>\n",
       "<p>100 rows × 1 columns</p>\n",
       "</div>"
      ],
      "text/plain": [
       "                                                 text\n",
       "0                                                 bad\n",
       "1                                             not bad\n",
       "2                                         not not bad\n",
       "3                                     not not not bad\n",
       "4                                 not not not not bad\n",
       "..                                                ...\n",
       "95  not not not not not not not not not not not no...\n",
       "96  not not not not not not not not not not not no...\n",
       "97  not not not not not not not not not not not no...\n",
       "98  not not not not not not not not not not not no...\n",
       "99  not not not not not not not not not not not no...\n",
       "\n",
       "[100 rows x 1 columns]"
      ]
     },
     "execution_count": 25,
     "metadata": {},
     "output_type": "execute_result"
    }
   ],
   "source": [
    "negation_data = []\n",
    "for i in range(100):\n",
    "    negation_data.append(\"not \"*i + \"bad\")\n",
    "negation_df = pd.DataFrame(negation_data, columns=['text'])\n",
    "negation_df"
   ]
  },
  {
   "cell_type": "code",
   "execution_count": 26,
   "id": "31591c26",
   "metadata": {},
   "outputs": [
    {
     "data": {
      "text/plain": [
       "[[{'label': 'NEU', 'score': 0.6235402822494507},\n",
       "  {'label': 'NEG', 'score': 0.3679775595664978},\n",
       "  {'label': 'POS', 'score': 0.008482151664793491}],\n",
       " [{'label': 'NEU', 'score': 0.6126991510391235},\n",
       "  {'label': 'NEG', 'score': 0.3788066506385803},\n",
       "  {'label': 'POS', 'score': 0.008494199253618717}],\n",
       " [{'label': 'NEU', 'score': 0.603658139705658},\n",
       "  {'label': 'NEG', 'score': 0.387899249792099},\n",
       "  {'label': 'POS', 'score': 0.008442623540759087}],\n",
       " [{'label': 'NEU', 'score': 0.6143737435340881},\n",
       "  {'label': 'NEG', 'score': 0.37714672088623047},\n",
       "  {'label': 'POS', 'score': 0.008479557931423187}],\n",
       " [{'label': 'NEU', 'score': 0.6243600845336914},\n",
       "  {'label': 'NEG', 'score': 0.3671889901161194},\n",
       "  {'label': 'POS', 'score': 0.008450922556221485}]]"
      ]
     },
     "execution_count": 26,
     "metadata": {},
     "output_type": "execute_result"
    }
   ],
   "source": [
    "# import torch\n",
    "# torch.distributed.init_process_group(backend='gloo')\n",
    "\n",
    "scores = bertweet_pipeline(list(negation_df['text']), top_k=None)\n",
    "scores[-5:]"
   ]
  },
  {
   "cell_type": "code",
   "execution_count": 27,
   "id": "6515bcaf",
   "metadata": {},
   "outputs": [
    {
     "data": {
      "text/html": [
       "<div>\n",
       "<style scoped>\n",
       "    .dataframe tbody tr th:only-of-type {\n",
       "        vertical-align: middle;\n",
       "    }\n",
       "\n",
       "    .dataframe tbody tr th {\n",
       "        vertical-align: top;\n",
       "    }\n",
       "\n",
       "    .dataframe thead th {\n",
       "        text-align: right;\n",
       "    }\n",
       "</style>\n",
       "<table border=\"1\" class=\"dataframe\">\n",
       "  <thead>\n",
       "    <tr style=\"text-align: right;\">\n",
       "      <th></th>\n",
       "      <th>label_0</th>\n",
       "      <th>score_0</th>\n",
       "      <th>label_1</th>\n",
       "      <th>score_1</th>\n",
       "      <th>label_2</th>\n",
       "      <th>score_2</th>\n",
       "    </tr>\n",
       "  </thead>\n",
       "  <tbody>\n",
       "    <tr>\n",
       "      <th>0</th>\n",
       "      <td>NEG</td>\n",
       "      <td>0.890787</td>\n",
       "      <td>NEU</td>\n",
       "      <td>0.092434</td>\n",
       "      <td>POS</td>\n",
       "      <td>0.016780</td>\n",
       "    </tr>\n",
       "    <tr>\n",
       "      <th>1</th>\n",
       "      <td>POS</td>\n",
       "      <td>0.979815</td>\n",
       "      <td>NEU</td>\n",
       "      <td>0.017561</td>\n",
       "      <td>NEG</td>\n",
       "      <td>0.002623</td>\n",
       "    </tr>\n",
       "    <tr>\n",
       "      <th>2</th>\n",
       "      <td>POS</td>\n",
       "      <td>0.984266</td>\n",
       "      <td>NEU</td>\n",
       "      <td>0.013773</td>\n",
       "      <td>NEG</td>\n",
       "      <td>0.001961</td>\n",
       "    </tr>\n",
       "    <tr>\n",
       "      <th>3</th>\n",
       "      <td>POS</td>\n",
       "      <td>0.985005</td>\n",
       "      <td>NEU</td>\n",
       "      <td>0.012725</td>\n",
       "      <td>NEG</td>\n",
       "      <td>0.002270</td>\n",
       "    </tr>\n",
       "    <tr>\n",
       "      <th>4</th>\n",
       "      <td>POS</td>\n",
       "      <td>0.981906</td>\n",
       "      <td>NEU</td>\n",
       "      <td>0.014461</td>\n",
       "      <td>NEG</td>\n",
       "      <td>0.003634</td>\n",
       "    </tr>\n",
       "    <tr>\n",
       "      <th>...</th>\n",
       "      <td>...</td>\n",
       "      <td>...</td>\n",
       "      <td>...</td>\n",
       "      <td>...</td>\n",
       "      <td>...</td>\n",
       "      <td>...</td>\n",
       "    </tr>\n",
       "    <tr>\n",
       "      <th>95</th>\n",
       "      <td>NEU</td>\n",
       "      <td>0.623540</td>\n",
       "      <td>NEG</td>\n",
       "      <td>0.367978</td>\n",
       "      <td>POS</td>\n",
       "      <td>0.008482</td>\n",
       "    </tr>\n",
       "    <tr>\n",
       "      <th>96</th>\n",
       "      <td>NEU</td>\n",
       "      <td>0.612699</td>\n",
       "      <td>NEG</td>\n",
       "      <td>0.378807</td>\n",
       "      <td>POS</td>\n",
       "      <td>0.008494</td>\n",
       "    </tr>\n",
       "    <tr>\n",
       "      <th>97</th>\n",
       "      <td>NEU</td>\n",
       "      <td>0.603658</td>\n",
       "      <td>NEG</td>\n",
       "      <td>0.387899</td>\n",
       "      <td>POS</td>\n",
       "      <td>0.008443</td>\n",
       "    </tr>\n",
       "    <tr>\n",
       "      <th>98</th>\n",
       "      <td>NEU</td>\n",
       "      <td>0.614374</td>\n",
       "      <td>NEG</td>\n",
       "      <td>0.377147</td>\n",
       "      <td>POS</td>\n",
       "      <td>0.008480</td>\n",
       "    </tr>\n",
       "    <tr>\n",
       "      <th>99</th>\n",
       "      <td>NEU</td>\n",
       "      <td>0.624360</td>\n",
       "      <td>NEG</td>\n",
       "      <td>0.367189</td>\n",
       "      <td>POS</td>\n",
       "      <td>0.008451</td>\n",
       "    </tr>\n",
       "  </tbody>\n",
       "</table>\n",
       "<p>100 rows × 6 columns</p>\n",
       "</div>"
      ],
      "text/plain": [
       "   label_0   score_0 label_1   score_1 label_2   score_2\n",
       "0      NEG  0.890787     NEU  0.092434     POS  0.016780\n",
       "1      POS  0.979815     NEU  0.017561     NEG  0.002623\n",
       "2      POS  0.984266     NEU  0.013773     NEG  0.001961\n",
       "3      POS  0.985005     NEU  0.012725     NEG  0.002270\n",
       "4      POS  0.981906     NEU  0.014461     NEG  0.003634\n",
       "..     ...       ...     ...       ...     ...       ...\n",
       "95     NEU  0.623540     NEG  0.367978     POS  0.008482\n",
       "96     NEU  0.612699     NEG  0.378807     POS  0.008494\n",
       "97     NEU  0.603658     NEG  0.387899     POS  0.008443\n",
       "98     NEU  0.614374     NEG  0.377147     POS  0.008480\n",
       "99     NEU  0.624360     NEG  0.367189     POS  0.008451\n",
       "\n",
       "[100 rows x 6 columns]"
      ]
     },
     "execution_count": 27,
     "metadata": {},
     "output_type": "execute_result"
    }
   ],
   "source": [
    "score_df = pd.DataFrame([[x[0]['label'], x[0]['score'], x[1]['label'], x[1]['score'], x[2]['label'], x[2]['score']] for x in scores], columns=['label_0', 'score_0', 'label_1', 'score_1', 'label_2', 'score_2'])\n",
    "score_df"
   ]
  },
  {
   "cell_type": "code",
   "execution_count": 28,
   "id": "c0312dbe",
   "metadata": {},
   "outputs": [
    {
     "data": {
      "text/plain": [
       "<AxesSubplot:ylabel='label_0'>"
      ]
     },
     "execution_count": 28,
     "metadata": {},
     "output_type": "execute_result"
    },
    {
     "data": {
      "image/png": "[encoded data removed]",
      "text/plain": [
       "<Figure size 432x288 with 1 Axes>"
      ]
     },
     "metadata": {},
     "output_type": "display_data"
    }
   ],
   "source": [
    "score_df['label_0'].value_counts().plot.pie()"
   ]
  },
  {
   "cell_type": "code",
   "execution_count": 29,
   "id": "4901f4cd",
   "metadata": {},
   "outputs": [
    {
     "data": {
      "text/plain": [
       "<AxesSubplot:ylabel='label_1'>"
      ]
     },
     "execution_count": 29,
     "metadata": {},
     "output_type": "execute_result"
    },
    {
     "data": {
      "image/png": "[encoded data removed]",
      "text/plain": [
       "<Figure size 432x288 with 1 Axes>"
      ]
     },
     "metadata": {},
     "output_type": "display_data"
    }
   ],
   "source": [
    "score_df['label_1'].value_counts().plot.pie()"
   ]
  },
  {
   "cell_type": "code",
   "execution_count": 30,
   "id": "93973ecc",
   "metadata": {},
   "outputs": [
    {
     "data": {
      "text/plain": [
       "<AxesSubplot:ylabel='label_2'>"
      ]
     },
     "execution_count": 30,
     "metadata": {},
     "output_type": "execute_result"
    },
    {
     "data": {
      "image/png": "[encoded data removed]",
      "text/plain": [
       "<Figure size 432x288 with 1 Axes>"
      ]
     },
     "metadata": {},
     "output_type": "display_data"
    }
   ],
   "source": [
    "score_df['label_2'].value_counts().plot.pie()"
   ]
  },
  {
   "cell_type": "code",
   "execution_count": 31,
   "id": "9946616a",
   "metadata": {},
   "outputs": [
    {
     "data": {
      "text/plain": [
       "<AxesSubplot:ylabel='Frequency'>"
      ]
     },
     "execution_count": 31,
     "metadata": {},
     "output_type": "execute_result"
    },
    {
     "data": {
      "image/png": "[encoded data removed]",
      "text/plain": [
       "<Figure size 432x288 with 1 Axes>"
      ]
     },
     "metadata": {
      "needs_background": "light"
     },
     "output_type": "display_data"
    }
   ],
   "source": [
    "score_df.plot.hist(['score_0', 'score_1', 'score_2'])"
   ]
  },
  {
   "cell_type": "code",
   "execution_count": 32,
   "id": "43b13406",
   "metadata": {},
   "outputs": [
    {
     "data": {
      "text/plain": [
       "<AxesSubplot:>"
      ]
     },
     "execution_count": 32,
     "metadata": {},
     "output_type": "execute_result"
    },
    {
     "data": {
      "image/png": "[encoded data removed]",
      "text/plain": [
       "<Figure size 432x288 with 1 Axes>"
      ]
     },
     "metadata": {
      "needs_background": "light"
     },
     "output_type": "display_data"
    }
   ],
   "source": [
    "score_df.plot.line(y=['score_0', 'score_1', 'score_2'])"
   ]
  },
  {
   "cell_type": "code",
   "execution_count": 36,
   "id": "6dfd2d88",
   "metadata": {},
   "outputs": [
    {
     "data": {
      "text/html": [
       "<div>\n",
       "<style scoped>\n",
       "    .dataframe tbody tr th:only-of-type {\n",
       "        vertical-align: middle;\n",
       "    }\n",
       "\n",
       "    .dataframe tbody tr th {\n",
       "        vertical-align: top;\n",
       "    }\n",
       "\n",
       "    .dataframe thead th {\n",
       "        text-align: right;\n",
       "    }\n",
       "</style>\n",
       "<table border=\"1\" class=\"dataframe\">\n",
       "  <thead>\n",
       "    <tr style=\"text-align: right;\">\n",
       "      <th></th>\n",
       "      <th>label_0</th>\n",
       "      <th>score_0</th>\n",
       "      <th>label_1</th>\n",
       "      <th>score_1</th>\n",
       "      <th>label_2</th>\n",
       "      <th>score_2</th>\n",
       "      <th>pos_score</th>\n",
       "      <th>neg_score</th>\n",
       "      <th>neu_score</th>\n",
       "      <th>pos</th>\n",
       "      <th>neg</th>\n",
       "      <th>neu</th>\n",
       "    </tr>\n",
       "  </thead>\n",
       "  <tbody>\n",
       "    <tr>\n",
       "      <th>0</th>\n",
       "      <td>NEG</td>\n",
       "      <td>0.890787</td>\n",
       "      <td>NEU</td>\n",
       "      <td>0.092434</td>\n",
       "      <td>POS</td>\n",
       "      <td>0.016780</td>\n",
       "      <td>0.016780</td>\n",
       "      <td>0.890787</td>\n",
       "      <td>0.092434</td>\n",
       "      <td>0.016780</td>\n",
       "      <td>0.016780</td>\n",
       "      <td>0.016780</td>\n",
       "    </tr>\n",
       "    <tr>\n",
       "      <th>1</th>\n",
       "      <td>POS</td>\n",
       "      <td>0.979815</td>\n",
       "      <td>NEU</td>\n",
       "      <td>0.017561</td>\n",
       "      <td>NEG</td>\n",
       "      <td>0.002623</td>\n",
       "      <td>0.979815</td>\n",
       "      <td>0.002623</td>\n",
       "      <td>0.017561</td>\n",
       "      <td>0.002623</td>\n",
       "      <td>0.002623</td>\n",
       "      <td>0.002623</td>\n",
       "    </tr>\n",
       "    <tr>\n",
       "      <th>2</th>\n",
       "      <td>POS</td>\n",
       "      <td>0.984266</td>\n",
       "      <td>NEU</td>\n",
       "      <td>0.013773</td>\n",
       "      <td>NEG</td>\n",
       "      <td>0.001961</td>\n",
       "      <td>0.984266</td>\n",
       "      <td>0.001961</td>\n",
       "      <td>0.013773</td>\n",
       "      <td>0.001961</td>\n",
       "      <td>0.001961</td>\n",
       "      <td>0.001961</td>\n",
       "    </tr>\n",
       "    <tr>\n",
       "      <th>3</th>\n",
       "      <td>POS</td>\n",
       "      <td>0.985005</td>\n",
       "      <td>NEU</td>\n",
       "      <td>0.012725</td>\n",
       "      <td>NEG</td>\n",
       "      <td>0.002270</td>\n",
       "      <td>0.985005</td>\n",
       "      <td>0.002270</td>\n",
       "      <td>0.012725</td>\n",
       "      <td>0.002270</td>\n",
       "      <td>0.002270</td>\n",
       "      <td>0.002270</td>\n",
       "    </tr>\n",
       "    <tr>\n",
       "      <th>4</th>\n",
       "      <td>POS</td>\n",
       "      <td>0.981906</td>\n",
       "      <td>NEU</td>\n",
       "      <td>0.014461</td>\n",
       "      <td>NEG</td>\n",
       "      <td>0.003634</td>\n",
       "      <td>0.981906</td>\n",
       "      <td>0.003634</td>\n",
       "      <td>0.014461</td>\n",
       "      <td>0.003634</td>\n",
       "      <td>0.003634</td>\n",
       "      <td>0.003634</td>\n",
       "    </tr>\n",
       "    <tr>\n",
       "      <th>...</th>\n",
       "      <td>...</td>\n",
       "      <td>...</td>\n",
       "      <td>...</td>\n",
       "      <td>...</td>\n",
       "      <td>...</td>\n",
       "      <td>...</td>\n",
       "      <td>...</td>\n",
       "      <td>...</td>\n",
       "      <td>...</td>\n",
       "      <td>...</td>\n",
       "      <td>...</td>\n",
       "      <td>...</td>\n",
       "    </tr>\n",
       "    <tr>\n",
       "      <th>95</th>\n",
       "      <td>NEU</td>\n",
       "      <td>0.623540</td>\n",
       "      <td>NEG</td>\n",
       "      <td>0.367978</td>\n",
       "      <td>POS</td>\n",
       "      <td>0.008482</td>\n",
       "      <td>0.008482</td>\n",
       "      <td>0.367978</td>\n",
       "      <td>0.623540</td>\n",
       "      <td>0.008482</td>\n",
       "      <td>0.008482</td>\n",
       "      <td>0.008482</td>\n",
       "    </tr>\n",
       "    <tr>\n",
       "      <th>96</th>\n",
       "      <td>NEU</td>\n",
       "      <td>0.612699</td>\n",
       "      <td>NEG</td>\n",
       "      <td>0.378807</td>\n",
       "      <td>POS</td>\n",
       "      <td>0.008494</td>\n",
       "      <td>0.008494</td>\n",
       "      <td>0.378807</td>\n",
       "      <td>0.612699</td>\n",
       "      <td>0.008494</td>\n",
       "      <td>0.008494</td>\n",
       "      <td>0.008494</td>\n",
       "    </tr>\n",
       "    <tr>\n",
       "      <th>97</th>\n",
       "      <td>NEU</td>\n",
       "      <td>0.603658</td>\n",
       "      <td>NEG</td>\n",
       "      <td>0.387899</td>\n",
       "      <td>POS</td>\n",
       "      <td>0.008443</td>\n",
       "      <td>0.008443</td>\n",
       "      <td>0.387899</td>\n",
       "      <td>0.603658</td>\n",
       "      <td>0.008443</td>\n",
       "      <td>0.008443</td>\n",
       "      <td>0.008443</td>\n",
       "    </tr>\n",
       "    <tr>\n",
       "      <th>98</th>\n",
       "      <td>NEU</td>\n",
       "      <td>0.614374</td>\n",
       "      <td>NEG</td>\n",
       "      <td>0.377147</td>\n",
       "      <td>POS</td>\n",
       "      <td>0.008480</td>\n",
       "      <td>0.008480</td>\n",
       "      <td>0.377147</td>\n",
       "      <td>0.614374</td>\n",
       "      <td>0.008480</td>\n",
       "      <td>0.008480</td>\n",
       "      <td>0.008480</td>\n",
       "    </tr>\n",
       "    <tr>\n",
       "      <th>99</th>\n",
       "      <td>NEU</td>\n",
       "      <td>0.624360</td>\n",
       "      <td>NEG</td>\n",
       "      <td>0.367189</td>\n",
       "      <td>POS</td>\n",
       "      <td>0.008451</td>\n",
       "      <td>0.008451</td>\n",
       "      <td>0.367189</td>\n",
       "      <td>0.624360</td>\n",
       "      <td>0.008451</td>\n",
       "      <td>0.008451</td>\n",
       "      <td>0.008451</td>\n",
       "    </tr>\n",
       "  </tbody>\n",
       "</table>\n",
       "<p>100 rows × 12 columns</p>\n",
       "</div>"
      ],
      "text/plain": [
       "   label_0   score_0 label_1   score_1 label_2   score_2  pos_score  \\\n",
       "0      NEG  0.890787     NEU  0.092434     POS  0.016780   0.016780   \n",
       "1      POS  0.979815     NEU  0.017561     NEG  0.002623   0.979815   \n",
       "2      POS  0.984266     NEU  0.013773     NEG  0.001961   0.984266   \n",
       "3      POS  0.985005     NEU  0.012725     NEG  0.002270   0.985005   \n",
       "4      POS  0.981906     NEU  0.014461     NEG  0.003634   0.981906   \n",
       "..     ...       ...     ...       ...     ...       ...        ...   \n",
       "95     NEU  0.623540     NEG  0.367978     POS  0.008482   0.008482   \n",
       "96     NEU  0.612699     NEG  0.378807     POS  0.008494   0.008494   \n",
       "97     NEU  0.603658     NEG  0.387899     POS  0.008443   0.008443   \n",
       "98     NEU  0.614374     NEG  0.377147     POS  0.008480   0.008480   \n",
       "99     NEU  0.624360     NEG  0.367189     POS  0.008451   0.008451   \n",
       "\n",
       "    neg_score  neu_score       pos       neg       neu  \n",
       "0    0.890787   0.092434  0.016780  0.016780  0.016780  \n",
       "1    0.002623   0.017561  0.002623  0.002623  0.002623  \n",
       "2    0.001961   0.013773  0.001961  0.001961  0.001961  \n",
       "3    0.002270   0.012725  0.002270  0.002270  0.002270  \n",
       "4    0.003634   0.014461  0.003634  0.003634  0.003634  \n",
       "..        ...        ...       ...       ...       ...  \n",
       "95   0.367978   0.623540  0.008482  0.008482  0.008482  \n",
       "96   0.378807   0.612699  0.008494  0.008494  0.008494  \n",
       "97   0.387899   0.603658  0.008443  0.008443  0.008443  \n",
       "98   0.377147   0.614374  0.008480  0.008480  0.008480  \n",
       "99   0.367189   0.624360  0.008451  0.008451  0.008451  \n",
       "\n",
       "[100 rows x 12 columns]"
      ]
     },
     "execution_count": 36,
     "metadata": {},
     "output_type": "execute_result"
    }
   ],
   "source": [
    "import numpy as np\n",
    "for prefix in ['pos', 'neg', 'neu']:\n",
    "    score_df[f'{prefix}_score'] = np.where(score_df['label_0'] == prefix.upper(), score_df['score_0'], np.where(score_df['label_1'] == prefix.upper(), score_df['score_1'], score_df['score_2']))\n",
    "score_df"
   ]
  },
  {
   "cell_type": "code",
   "execution_count": 37,
   "id": "35507045",
   "metadata": {},
   "outputs": [
    {
     "data": {
      "text/plain": [
       "<AxesSubplot:>"
      ]
     },
     "execution_count": 37,
     "metadata": {},
     "output_type": "execute_result"
    },
    {
     "data": {
      "image/png": "[encoded data removed]",
      "text/plain": [
       "<Figure size 432x288 with 1 Axes>"
      ]
     },
     "metadata": {
      "needs_background": "light"
     },
     "output_type": "display_data"
    }
   ],
   "source": [
    "score_df.plot.line(y=['neg_score', 'pos_score', 'neu_score'])"
   ]
  },
  {
   "cell_type": "code",
   "execution_count": null,
   "id": "bca19dc1",
   "metadata": {},
   "outputs": [],
   "source": []
  },
  {
   "cell_type": "code",
   "execution_count": null,
   "id": "ef1a28a9",
   "metadata": {},
   "outputs": [],
   "source": []
  },
  {
   "cell_type": "code",
   "execution_count": null,
   "id": "b53959be",
   "metadata": {},
   "outputs": [],
   "source": []
  },
  {
   "cell_type": "code",
   "execution_count": null,
   "id": "6ab7c23f",
   "metadata": {},
   "outputs": [],
   "source": []
  },
  {
   "cell_type": "code",
   "execution_count": null,
   "id": "5c526556",
   "metadata": {},
   "outputs": [],
   "source": []
  },
  {
   "cell_type": "code",
   "execution_count": null,
   "id": "028672da",
   "metadata": {},
   "outputs": [],
   "source": []
  },
  {
   "cell_type": "code",
   "execution_count": null,
   "id": "867d1ee5",
   "metadata": {},
   "outputs": [],
   "source": []
  },
  {
   "cell_type": "code",
   "execution_count": null,
   "id": "1e5c53c2",
   "metadata": {},
   "outputs": [],
   "source": []
  },
  {
   "cell_type": "code",
   "execution_count": null,
   "id": "f8446f2e",
   "metadata": {},
   "outputs": [],
   "source": []
  },
  {
   "cell_type": "code",
   "execution_count": null,
   "id": "d70a48f8",
   "metadata": {},
   "outputs": [],
   "source": []
  },
  {
   "cell_type": "code",
   "execution_count": null,
   "id": "893ec214",
   "metadata": {},
   "outputs": [],
   "source": []
  },
  {
   "cell_type": "code",
   "execution_count": null,
   "id": "20d6dfce",
   "metadata": {},
   "outputs": [],
   "source": []
  }
 ],
 "metadata": {
  "kernelspec": {
   "display_name": "Python 3 (ipykernel)",
   "language": "python",
   "name": "python3"
  },
  "language_info": {
   "codemirror_mode": {
    "name": "ipython",
    "version": 3
   },
   "file_extension": ".py",
   "mimetype": "text/x-python",
   "name": "python",
   "nbconvert_exporter": "python",
   "pygments_lexer": "ipython3",
   "version": "3.9.7"
  },
  "vscode": {
   "interpreter": {
    "hash": "635e31ff34c0350df6e9d804eda70786d94f48b17fcc73c378df4ea6ec0d01fd"
   }
  }
 },
 "nbformat": 4,
 "nbformat_minor": 5
}

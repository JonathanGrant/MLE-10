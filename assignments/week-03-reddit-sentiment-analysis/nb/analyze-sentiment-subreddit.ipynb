{
 "cells": [
  {
   "cell_type": "markdown",
   "metadata": {},
   "source": [
    "<p align = \"center\" draggable=”false” ><img src=\"https://user-images.githubusercontent.com/37101144/161836199-fdb0219d-0361-4988-bf26-48b0fad160a3.png\" \n",
    "     width=\"200px\"\n",
    "     height=\"auto\"/>\n",
    "</p>"
   ]
  },
  {
   "cell_type": "markdown",
   "metadata": {},
   "source": [
    "# <h1 align=\"center\" id=\"heading\">Sentiment Analysis of Reddit Data using Reddit API</h1>"
   ]
  },
  {
   "cell_type": "markdown",
   "metadata": {},
   "source": [
    "In this live coding session, we leverage the Python Reddit API Wrapper (`PRAW`) to retrieve data from subreddits on [Reddit](https://www.reddit.com), and perform sentiment analysis using [`pipelines`](https://huggingface.co/docs/transformers/main_classes/pipelines) from [HuggingFace ( 🤗 the GitHub of Machine Learning )](https://techcrunch.com/2022/05/09/hugging-face-reaches-2-billion-valuation-to-build-the-github-of-machine-learning/), powered by [transformer](https://arxiv.org/pdf/1706.03762.pdf)."
   ]
  },
  {
   "cell_type": "markdown",
   "metadata": {},
   "source": [
    "## Objectives"
   ]
  },
  {
   "cell_type": "markdown",
   "metadata": {},
   "source": [
    "At the end of the session, you will "
   ]
  },
  {
   "cell_type": "markdown",
   "metadata": {},
   "source": [
    "- know how to work with APIs\n",
    "- feel more comfortable navigating thru documentation, even inspecting the source code\n",
    "- understand what a `pipeline` object is in HuggingFace\n",
    "- perform sentiment analysis using `pipeline`\n",
    "- run a python script in command line and get the results"
   ]
  },
  {
   "cell_type": "markdown",
   "metadata": {
    "heading_collapsed": true
   },
   "source": [
    "## How to Submit"
   ]
  },
  {
   "cell_type": "markdown",
   "metadata": {},
   "source": [
    "- At the end of each task, commit* the work into the repository you created before the assignment\n",
    "- After completing all three tasks, make sure to push the notebook containing all code blocks and output cells to your repository you created before the assignment\n",
    "- Submit the link to the notebook in Canvas"
   ]
  },
  {
   "cell_type": "markdown",
   "metadata": {
    "hidden": true
   },
   "source": [
    "\\***NEVER** commit a notebook displaying errors unless it is instructed otherwise. However, commit often; recall git ABC = **A**lways **B**e **C**ommitting."
   ]
  },
  {
   "cell_type": "markdown",
   "metadata": {},
   "source": [
    "## Tasks"
   ]
  },
  {
   "cell_type": "markdown",
   "metadata": {
    "heading_collapsed": true
   },
   "source": [
    "### Task I: Instantiate a Reddit API Object"
   ]
  },
  {
   "cell_type": "markdown",
   "metadata": {
    "hidden": true
   },
   "source": [
    "The first task is to instantiate a Reddit API object using [PRAW](https://praw.readthedocs.io/en/stable/), through which you will retrieve data. PRAW is a wrapper for [Reddit API](https://www.reddit.com/dev/api) that makes interacting with the Reddit API easier unless you are already an expert of [`requests`](https://docs.python-requests.org/en/latest/)."
   ]
  },
  {
   "cell_type": "markdown",
   "metadata": {
    "hidden": true
   },
   "source": [
    "#### 1. Install packages"
   ]
  },
  {
   "cell_type": "markdown",
   "metadata": {
    "hidden": true
   },
   "source": [
    "Please ensure you've ran all the cells in the `imports.ipynb`, located [here](https://github.com/FourthBrain/MLE-8/blob/main/assignments/week-3-analyze-sentiment-subreddit/imports.ipynb), to make sure you have all the required packages for today's assignment."
   ]
  },
  {
   "cell_type": "markdown",
   "metadata": {
    "hidden": true
   },
   "source": [
    "####  2. Create a new app on Reddit "
   ]
  },
  {
   "cell_type": "markdown",
   "metadata": {
    "hidden": true
   },
   "source": [
    "Create a new app on Reddit and save secret tokens; refer to [post in medium](https://towardsdatascience.com/how-to-use-the-reddit-api-in-python-5e05ddfd1e5c) for more details."
   ]
  },
  {
   "cell_type": "markdown",
   "metadata": {
    "hidden": true
   },
   "source": [
    "- Create a Reddit account if you don't have one, log into your account.\n",
    "- To access the API, we need create an app. Slight updates, on the website, you need to navigate to `preference` > `app`, or click [this link](https://www.reddit.com/prefs/apps) and scroll all the way down. \n",
    "- Click to create a new app, fill in the **name**, choose `script`, fill in  **description** and **redirect uri** ( The redirect URI is where the user is sent after they've granted OAuth access to your application (more info [here](https://github.com/reddit-archive/reddit/wiki/OAuth2)) For our purpose, you can enter some random url, e.g., www.google.com; as shown below.\n",
    "\n",
    "\n",
    "    <img src=\"https://miro.medium.com/max/700/1*lRBvxpIe8J2nZYJ6ucMgHA.png\" width=\"500\"/>\n",
    "- Jot down `client_id` (left upper corner) and `client_secret` \n",
    "\n",
    "    NOTE: CLIENT_ID refers to 'personal use script\" and CLIENT_SECRET to secret.\n",
    "    \n",
    "    <div>\n",
    "    <img src=\"https://miro.medium.com/max/700/1*7cGAKth1PMrEf2sHcQWPoA.png\" width=\"300\"/>\n",
    "    </div>\n",
    "\n",
    "- Create `secrets_reddit.py` in the same directory with this notebook, fill in `client_id` and `secret_id` obtained from the last step. We will need to import those constants in the next step.\n",
    "    ```\n",
    "    REDDIT_API_CLIENT_ID = \"client_id\"\n",
    "    REDDIT_API_CLIENT_SECRET = \"secret_id\"\n",
    "    REDDIT_API_USER_AGENT = \"any string except bot; ex. My User Agent\"\n",
    "    ```\n",
    "- Add `secrets_reddit.py` to your `.gitignore` file if not already done. NEVER push credentials to a repo, private or public. "
   ]
  },
  {
   "cell_type": "markdown",
   "metadata": {
    "hidden": true
   },
   "source": [
    "#### 3. Instantiate a `Reddit` object"
   ]
  },
  {
   "cell_type": "markdown",
   "metadata": {
    "hidden": true
   },
   "source": [
    "Now you are ready to create a read-only `Reddit` instance. Refer to [documentation](https://praw.readthedocs.io/en/stable/code_overview/reddit_instance.html) when necessary."
   ]
  },
  {
   "cell_type": "code",
   "execution_count": 2,
   "metadata": {
    "hidden": true
   },
   "outputs": [],
   "source": [
    "import praw\n",
    "import secrets_reddit\n",
    "\n",
    "# Create a Reddit object which allows us to interact with the Reddit API\n",
    "reddit = praw.Reddit(\n",
    "    client_id=secrets_reddit.REDDIT_API_CLIENT_ID,\n",
    "    client_secret=secrets_reddit.REDDIT_API_CLIENT_SECRET,\n",
    "    user_agent=secrets_reddit.REDDIT_API_USER_AGENT,\n",
    ")"
   ]
  },
  {
   "cell_type": "code",
   "execution_count": 3,
   "metadata": {
    "hidden": true
   },
   "outputs": [
    {
     "name": "stdout",
     "output_type": "stream",
     "text": [
      "<praw.reddit.Reddit object at 0x7fd6ef84a490>\n"
     ]
    }
   ],
   "source": [
    "print(reddit) "
   ]
  },
  {
   "cell_type": "markdown",
   "metadata": {},
   "source": [
    "<details>\n",
    "<summary>Expected output:</summary>   \n",
    "\n",
    "```<praw.reddit.Reddit object at 0x10f8a0ac0>```\n",
    "</details>"
   ]
  },
  {
   "cell_type": "markdown",
   "metadata": {
    "hidden": true
   },
   "source": [
    "#### 4. Instantiate a `subreddit` object"
   ]
  },
  {
   "cell_type": "markdown",
   "metadata": {
    "hidden": true
   },
   "source": [
    "Lastly, create a `subreddit` object for your favorite subreddit and inspect the object. The expected output you will see ar from `r/machinelearning` unless otherwise specified."
   ]
  },
  {
   "cell_type": "code",
   "execution_count": 7,
   "metadata": {
    "hidden": true
   },
   "outputs": [
    {
     "data": {
      "text/plain": [
       "Subreddit(display_name='AskPhysics')"
      ]
     },
     "execution_count": 7,
     "metadata": {},
     "output_type": "execute_result"
    }
   ],
   "source": [
    "subreddit = reddit.random_subreddit()\n",
    "subreddit"
   ]
  },
  {
   "cell_type": "markdown",
   "metadata": {
    "hidden": true
   },
   "source": [
    "What is the display name of the subreddit?"
   ]
  },
  {
   "cell_type": "code",
   "execution_count": 8,
   "metadata": {
    "hidden": true
   },
   "outputs": [
    {
     "data": {
      "text/plain": [
       "'AskPhysics'"
      ]
     },
     "execution_count": 8,
     "metadata": {},
     "output_type": "execute_result"
    }
   ],
   "source": [
    "subreddit.display_name"
   ]
  },
  {
   "cell_type": "markdown",
   "metadata": {},
   "source": [
    "<details>\n",
    "<summary>Expected output:</summary>   \n",
    "\n",
    "    machinelearning\n",
    "</details>"
   ]
  },
  {
   "cell_type": "markdown",
   "metadata": {
    "hidden": true
   },
   "source": [
    "How about its title, is it different from the display name?"
   ]
  },
  {
   "cell_type": "code",
   "execution_count": 11,
   "metadata": {
    "hidden": true
   },
   "outputs": [
    {
     "data": {
      "text/plain": [
       "'Ask Physics'"
      ]
     },
     "execution_count": 11,
     "metadata": {},
     "output_type": "execute_result"
    }
   ],
   "source": [
    "subreddit.title"
   ]
  },
  {
   "cell_type": "markdown",
   "metadata": {},
   "source": [
    "<details>\n",
    "<summary>Expected output:</summary>   \n",
    "\n",
    "    Machine Learning\n",
    "</details>"
   ]
  },
  {
   "cell_type": "markdown",
   "metadata": {
    "hidden": true
   },
   "source": [
    "Print out the description of the subreddit:"
   ]
  },
  {
   "cell_type": "code",
   "execution_count": 13,
   "metadata": {
    "hidden": true
   },
   "outputs": [
    {
     "name": "stdout",
     "output_type": "stream",
     "text": [
      "/r/AskPhysics exists to answer questions about physics.\n",
      "\n",
      "* Questions should be relevant, and answers should be on-topic and correct.\n",
      "\n",
      "* We don't condone cheating on school work, and homework questions should be handled [according to these guidelines.](https://www.reddit.com/r/AskPhysics/comments/563dcm/meta_yes_homework_questions_are_ok_heres_how_to/)\n",
      "\n",
      "* Incivility will not be tolerated.\n",
      "\n",
      "* If your question isn't answered in a day, you can post it in the Tuesday thread in /r/Physics (unless it's homework-related).\n",
      "\n",
      "See also:\n",
      "\n",
      "* /r/Physics\n",
      "\n",
      "* /r/AskScience\n",
      "\n",
      "* [The AskScience FAQ](https://www.reddit.com/r/askscience/wiki/faq)\n",
      "\n",
      "###How to use LaTeX?\n",
      "\n",
      "First, you will need to install one of the [recommended add-ons](/r/Physics/wiki/syntax).\n",
      "To include an equation typeset in LaTeX in your post, put the LaTeX code between `` [;`` and ``;] ``.\n",
      "\n",
      "[;i\\hbar \\frac{\\partial}{\\partial t}\n",
      "\\Psi = \\hat H\\Psi;]\n"
     ]
    }
   ],
   "source": [
    "print(subreddit.description)"
   ]
  },
  {
   "cell_type": "markdown",
   "metadata": {},
   "source": [
    "<details>\n",
    "<summary>Expected output:</summary>\n",
    "\n",
    "    **[Rules For Posts](https://www.reddit.com/r/MachineLearning/about/rules/)**\n",
    "    --------\n",
    "    +[Research](https://www.reddit.com/r/MachineLearning/search?sort=new&restrict_sr=on&q=flair%3AResearch)\n",
    "    --------\n",
    "    +[Discussion](https://www.reddit.com/r/MachineLearning/search?sort=new&restrict_sr=on&q=flair%3ADiscussion)\n",
    "    --------\n",
    "    +[Project](https://www.reddit.com/r/MachineLearning/search?sort=new&restrict_sr=on&q=flair%3AProject)\n",
    "    --------\n",
    "    +[News](https://www.reddit.com/r/MachineLearning/search?sort=new&restrict\n",
    "</details>"
   ]
  },
  {
   "cell_type": "markdown",
   "metadata": {
    "heading_collapsed": true
   },
   "source": [
    "### Task II: Parse comments"
   ]
  },
  {
   "cell_type": "markdown",
   "metadata": {
    "heading_collapsed": true,
    "hidden": true
   },
   "source": [
    "#### 1. Top Posts of All Time"
   ]
  },
  {
   "cell_type": "markdown",
   "metadata": {
    "hidden": true
   },
   "source": [
    "Find titles of top 10 posts of **all time** from your favorite subreddit. Refer to [Obtain Submission Instances from a Subreddit Section](https://praw.readthedocs.io/en/stable/getting_started/quick_start.html)) if necessary. Verify if the titles match what you read on Reddit."
   ]
  },
  {
   "cell_type": "code",
   "execution_count": 65,
   "metadata": {
    "ExecuteTime": {
     "end_time": "2022-11-05T12:24:38.097093Z",
     "start_time": "2022-11-05T12:24:38.088609Z"
    },
    "hidden": true
   },
   "outputs": [],
   "source": [
    "# try run this line, what do you see? press q once you are done\n",
    "?subreddit.top "
   ]
  },
  {
   "cell_type": "code",
   "execution_count": 40,
   "metadata": {},
   "outputs": [],
   "source": [
    "def print_posts(posts):\n",
    "    for post in posts:\n",
    "        print(f'[{post.score}] {post.title}')"
   ]
  },
  {
   "cell_type": "code",
   "execution_count": 41,
   "metadata": {
    "hidden": true
   },
   "outputs": [
    {
     "name": "stdout",
     "output_type": "stream",
     "text": [
      "[781] My advice to all youngsters: Don't spend your years at high school trying to get ahead for university\n",
      "[497] I failed 5 out of 11 classes during my first year of university, studying physics. Do you ever feel not smart enough to dive into physics, do you ever think that your brain can't make your dreams come true because you just might not be as smart as you thought you were?\n",
      "[405] The early physicist Torricelli wrote \"We live submerged at the bottom of an ocean of air.\" Like we see on the ordinary oceans, are there giant waves of air crashing against each other in the upper atmosphere?\n",
      "[346] I'm making puzzle game about learning real physic and mathematics. You are a little mage that visits villages and helps people. Forage/craft items by performing magic spells, build friendships, master schools of magic, become powerful. You study in the Library of Alexandria. Do you like it?\n",
      "[342] Going 198% of the speed of light?\n",
      "[337] What are your best (worst) physics jokes? Bonus points for higher level material.\n",
      "[321] As physicist, how do deal with people believing in stuff like \"quantum medecine\" or \"stone energy\" ?\n",
      "[311] Am I correct that if the Earth rotates from west to east with zero speed at the poles but about 1600 km/h at the equator, then there must be some sort of eastward or westward acceleration when I travel north or south?\n",
      "[297] If the sun just suddenly disappeared, it would take us 8 minutes to find out. But does earth still orbit where the sun was,or will it go out of the orbit immediately after it disappeared?\n",
      "[293] How do I rate my cat as a capacitor?\n"
     ]
    }
   ],
   "source": [
    "print_posts(subreddit.top(limit=10, time_filter='all'))"
   ]
  },
  {
   "cell_type": "markdown",
   "metadata": {
    "hidden": true
   },
   "source": [
    "<details> <summary>Expected output:</summary>\n",
    "\n",
    "    [Project] From books to presentations in 10s with AR + ML\n",
    "    [D] A Demo from 1993 of 32-year-old Yann LeCun showing off the World's first Convolutional Network for Text Recognition\n",
    "    [R] First Order Motion Model applied to animate paintings\n",
    "    [N] AI can turn old photos into moving Images / Link is given in the comments - You can also turn your old photo like this\n",
    "    [D] This AI reveals how much time politicians stare at their phone at work\n",
    "    [D] Types of Machine Learning Papers\n",
    "    [D] The machine learning community has a toxicity problem\n",
    "    [Project] NEW PYTHON PACKAGE: Sync GAN Art to Music with \"Lucid Sonic Dreams\"! (Link in Comments)\n",
    "    [P] Using oil portraits and First Order Model to bring the paintings back to life\n",
    "    [D] Convolution Neural Network Visualization - Made with Unity 3D and lots of Code / source - stefsietz (IG)    \n",
    "</details>"
   ]
  },
  {
   "cell_type": "markdown",
   "metadata": {
    "heading_collapsed": true,
    "hidden": true
   },
   "source": [
    "#### 2. Top 10 Posts of This Week"
   ]
  },
  {
   "cell_type": "markdown",
   "metadata": {
    "hidden": true
   },
   "source": [
    "What are the titles of the top 10 posts of **this week** from your favorite subreddit?"
   ]
  },
  {
   "cell_type": "code",
   "execution_count": 42,
   "metadata": {
    "hidden": true
   },
   "outputs": [
    {
     "name": "stdout",
     "output_type": "stream",
     "text": [
      "[75] How dense would the empire state building need to be for its gravity to cause a 6kg bowling ball dropped from the top to crash into the building before hitting the ground (dropped 1 m away from the building at the top)?\n",
      "[67] How powerful can a laser theoretically be?\n",
      "[57] How do we know that gravity should be added to quantum physics?\n",
      "[43] Would I be smart enough to study physics?\n",
      "[44] Could you survive jumping off the Empire State Building if you landed on 1 million pillows?\n",
      "[41] What does observation really mean when talking about quantum physics?\n",
      "[43] What does information mean in the context of physics? Like the black hole information paradox?\n",
      "[42] The universe is expanding in the spatial dimensions. Is it also expanding in time?\n",
      "[40] What's the reasoning behind placing dx in front of the integrand?\n",
      "[30] If particles are excitations in a field, how do they move?\n"
     ]
    }
   ],
   "source": [
    "print_posts(subreddit.top(limit=10, time_filter='week'))"
   ]
  },
  {
   "cell_type": "markdown",
   "metadata": {
    "hidden": true
   },
   "source": [
    "<details><summary>Expected output:</summary>\n",
    "\n",
    "    [N] Ian Goodfellow, Apple’s director of machine learning, is leaving the company due to its return to work policy. In a note to staff, he said “I believe strongly that more flexibility would have been the best policy for my team.” He was likely the company’s most cited ML expert.\n",
    "    [R][P] Thin-Plate Spline Motion Model for Image Animation + Gradio Web Demo\n",
    "    [P] I’ve been trying to understand the limits of some of the available machine learning models out there. Built an app that lets you try a mix of CLIP from Open AI + Apple’s version of MobileNet, and more directly on your phone's camera roll.\n",
    "    [R] Meta is releasing a 175B parameter language model\n",
    "    [N] Hugging Face raised $100M at $2B to double down on community, open-source & ethics\n",
    "    [P] T-SNE to view and order your Spotify tracks\n",
    "    [D] : HELP Finding a Book - A book written for Google Engineers about foundational Math to support ML\n",
    "    [R] Scaled up CLIP-like model (~2B) shows 86% Zero-shot on Imagenet\n",
    "    [D] Do you use NLTK or Spacy for text preprocessing?\n",
    "    [D] Democratizing Diffusion Models - LDMs: High-Resolution Image Synthesis with Latent Diffusion Models, a 5-minute paper summary by Casual GAN Papers\n",
    "</details>"
   ]
  },
  {
   "cell_type": "markdown",
   "metadata": {},
   "source": [
    "💽❓ Data Question:\n",
    "\n",
    "Check out what other attributes the `praw.models.Submission` class has in the [docs](https://praw.readthedocs.io/en/stable/code_overview/models/submission.html). \n",
    "\n",
    "1. After having a chance to look through the docs, is there any other information that you might want to extract? How might this additional data help you?\n",
    "\n",
    "Write a sample piece of code below extracting three additional pieces of information from the submission below."
   ]
  },
  {
   "cell_type": "code",
   "execution_count": 44,
   "metadata": {},
   "outputs": [
    {
     "data": {
      "text/plain": [
       "(0.97, 129, 1600317514.0)"
      ]
     },
     "execution_count": 44,
     "metadata": {},
     "output_type": "execute_result"
    }
   ],
   "source": [
    "submission = list(subreddit.top(limit=1))\n",
    "submission[0].upvote_ratio, submission[0].num_comments, submission[0].edited"
   ]
  },
  {
   "cell_type": "markdown",
   "metadata": {},
   "source": [
    "💽❓ Data Question:\n",
    "\n",
    "2. Is there any information available that might be a concern when it comes to Ethical Data?\n",
    "\n",
    "It depends how you look at it. Reddit only shows us what data they have, and when you sign up you agree to give this data to them. However you can say no one reads the sign up clauses and so they shouldn't count, but given the data is public anyway, there's not much of an argument."
   ]
  },
  {
   "cell_type": "markdown",
   "metadata": {
    "heading_collapsed": true,
    "hidden": true
   },
   "source": [
    "#### 3. Comment Code"
   ]
  },
  {
   "cell_type": "markdown",
   "metadata": {
    "hidden": true
   },
   "source": [
    "Add comments to the code block below to describe what each line of the code does (Refer to [Obtain Comment Instances Section](https://praw.readthedocs.io/en/stable/getting_started/quick_start.html) when necessary). The code is adapted from [this tutorial](https://praw.readthedocs.io/en/stable/tutorials/comments.html)\n",
    "\n",
    "The purpose is \n",
    "1. to understand what the code is doing \n",
    "2. start to comment your code whenever it is not self-explantory if you have not (others will thank you, YOU will thank you later 😊) "
   ]
  },
  {
   "cell_type": "code",
   "execution_count": 47,
   "metadata": {
    "hidden": true,
    "scrolled": true
   },
   "outputs": [
    {
     "name": "stdout",
     "output_type": "stream",
     "text": [
      "CPU times: user 165 ms, sys: 650 µs, total: 166 ms\n",
      "Wall time: 15.4 s\n"
     ]
    }
   ],
   "source": [
    "%%time\n",
    "# Time the full cell\n",
    "from praw.models import MoreComments  # Load a comments module\n",
    "\n",
    "# Load top comments through api here like so\n",
    "top_comments = []\n",
    "\n",
    "# Loop over every submission in top 10\n",
    "for submission in subreddit.top(limit=10):\n",
    "    # Get every comment\n",
    "    for top_level_comment in submission.comments:\n",
    "        # if its a deep comment, ignore\n",
    "        if isinstance(top_level_comment, MoreComments):\n",
    "            continue\n",
    "        # if top level, add to top level\n",
    "        top_comments.append(top_level_comment.body)"
   ]
  },
  {
   "cell_type": "markdown",
   "metadata": {
    "heading_collapsed": true,
    "hidden": true
   },
   "source": [
    "#### 4. Inspect Comments"
   ]
  },
  {
   "cell_type": "markdown",
   "metadata": {
    "hidden": true
   },
   "source": [
    "How many comments did you extract from the last step? Examine a few comments. "
   ]
  },
  {
   "cell_type": "code",
   "execution_count": 48,
   "metadata": {
    "hidden": true
   },
   "outputs": [
    {
     "data": {
      "text/html": [
       "<div>\n",
       "<style scoped>\n",
       "    .dataframe tbody tr th:only-of-type {\n",
       "        vertical-align: middle;\n",
       "    }\n",
       "\n",
       "    .dataframe tbody tr th {\n",
       "        vertical-align: top;\n",
       "    }\n",
       "\n",
       "    .dataframe thead th {\n",
       "        text-align: right;\n",
       "    }\n",
       "</style>\n",
       "<table border=\"1\" class=\"dataframe\">\n",
       "  <thead>\n",
       "    <tr style=\"text-align: right;\">\n",
       "      <th></th>\n",
       "      <th>comment</th>\n",
       "    </tr>\n",
       "  </thead>\n",
       "  <tbody>\n",
       "    <tr>\n",
       "      <th>0</th>\n",
       "      <td>Of course, the reason so many are grinding so ...</td>\n",
       "    </tr>\n",
       "    <tr>\n",
       "      <th>1</th>\n",
       "      <td>I think this stands true for college too.</td>\n",
       "    </tr>\n",
       "    <tr>\n",
       "      <th>2</th>\n",
       "      <td>I'll second this opinion. In high school, unle...</td>\n",
       "    </tr>\n",
       "    <tr>\n",
       "      <th>3</th>\n",
       "      <td>The only caveat I would mention is that someti...</td>\n",
       "    </tr>\n",
       "    <tr>\n",
       "      <th>4</th>\n",
       "      <td>A corollary I would have for this is instead o...</td>\n",
       "    </tr>\n",
       "    <tr>\n",
       "      <th>...</th>\n",
       "      <td>...</td>\n",
       "    </tr>\n",
       "    <tr>\n",
       "      <th>326</th>\n",
       "      <td>You could just scratch your own hair hard enou...</td>\n",
       "    </tr>\n",
       "    <tr>\n",
       "      <th>327</th>\n",
       "      <td>I would consider obtaining a square of cat fur...</td>\n",
       "    </tr>\n",
       "    <tr>\n",
       "      <th>328</th>\n",
       "      <td>Just measured my cat he’s rated for 100μF (mic...</td>\n",
       "    </tr>\n",
       "    <tr>\n",
       "      <th>329</th>\n",
       "      <td>Charge up the cat, then discharge through a vo...</td>\n",
       "    </tr>\n",
       "    <tr>\n",
       "      <th>330</th>\n",
       "      <td>[deleted]</td>\n",
       "    </tr>\n",
       "  </tbody>\n",
       "</table>\n",
       "<p>331 rows × 1 columns</p>\n",
       "</div>"
      ],
      "text/plain": [
       "                                               comment\n",
       "0    Of course, the reason so many are grinding so ...\n",
       "1            I think this stands true for college too.\n",
       "2    I'll second this opinion. In high school, unle...\n",
       "3    The only caveat I would mention is that someti...\n",
       "4    A corollary I would have for this is instead o...\n",
       "..                                                 ...\n",
       "326  You could just scratch your own hair hard enou...\n",
       "327  I would consider obtaining a square of cat fur...\n",
       "328  Just measured my cat he’s rated for 100μF (mic...\n",
       "329  Charge up the cat, then discharge through a vo...\n",
       "330                                          [deleted]\n",
       "\n",
       "[331 rows x 1 columns]"
      ]
     },
     "execution_count": 48,
     "metadata": {},
     "output_type": "execute_result"
    }
   ],
   "source": [
    "#YOUR CODE HERE  # the answer may vary 693 for r/machinelearning\n",
    "import pandas as pd\n",
    "comment_df = pd.DataFrame(top_comments, columns=['comment'])\n",
    "comment_df"
   ]
  },
  {
   "cell_type": "code",
   "execution_count": 49,
   "metadata": {
    "hidden": true
   },
   "outputs": [
    {
     "data": {
      "text/plain": [
       "[\"DO MORE WORK. If you can't solve a problem, then solve a different problem. (ie, never show up empty handed.) If you won't do the work (and even the geniuses do the work) then you deserve the failure you experience. There are exceptions though, and these are usually undiagnosed adhd, depression, bipolar/schizo, financial pressure, inadequate sleep, yadda yadda yadda. Otherwise your failure to do the work and study is you to blame.\",\n",
       " 'The problem with arguing with these type of people, or even correcting/debating them, is simple. Crystal mommies are kinda hot.  \\n\\n\\nLegit, I try and not be too dismissive, but make it clear that when we say \"energy\" and \"frequency\" and \"quantum,\" we are not talking about the same things. Physicist\\'s observations are repeatable and make predictions about the world. Woo practitioner\\'s observations are subjective, psychologic/psychosomatic, and perceived individually, inwardly. That doesn\\'t make them *false* prima facie, any more than a placebo is false.  \\n\\n\\nUsually, witches find that kind of interesting and we\\'re cool. Sometimes people are an asshole about it, in which case I immediately grow a thick stubble on my neckbeard and type the word \"ackkkshually\". The conversation is dead at that point and everyone involved will be toxic for the rest of it, especially me.',\n",
       " 'My physics teacher thought i had so much potential. I wish he told me before i jumped off.']"
      ]
     },
     "execution_count": 49,
     "metadata": {},
     "output_type": "execute_result"
    }
   ],
   "source": [
    "import random\n",
    "\n",
    "[random.choice(top_comments) for i in range(3)]"
   ]
  },
  {
   "cell_type": "markdown",
   "metadata": {},
   "source": [
    "<details> <summary>Some of the comments from `r/machinelearning` subreddit are:</summary>\n",
    "\n",
    "    ['Awesome visualisation',\n",
    "    'Similar to a stack or connected neurons.',\n",
    "    'Will this Turing pass the Turing Test?']\n",
    "</details>"
   ]
  },
  {
   "cell_type": "markdown",
   "metadata": {},
   "source": [
    "💽❓ Data Question:\n",
    "\n",
    "3. After having a chance to review a few samples of 5 comments from the subreddit, what can you say about the data? \n",
    "\n",
    "HINT: Think about the \"cleanliness\" of the data, the content of the data, think about what you're trying to do - how does this data line up with your goal?\n",
    "\n",
    "The data is all in english and in \"normal\" online languages. Depending on goal it is very usable."
   ]
  },
  {
   "cell_type": "markdown",
   "metadata": {
    "hidden": true
   },
   "source": [
    "#### 5. Extract Top Level Comment from Subreddit `TSLA`."
   ]
  },
  {
   "cell_type": "markdown",
   "metadata": {
    "hidden": true
   },
   "source": [
    "Write your code to extract top level comments from the top 10 topics of a time period, e.g., year, from subreddit `TSLA` and store them in a list `top_comments_tsla`.  "
   ]
  },
  {
   "cell_type": "code",
   "execution_count": 50,
   "metadata": {
    "hidden": true
   },
   "outputs": [
    {
     "name": "stdout",
     "output_type": "stream",
     "text": [
      "CPU times: user 93.2 ms, sys: 0 ns, total: 93.2 ms\n",
      "Wall time: 3.6 s\n"
     ]
    }
   ],
   "source": [
    "%%time\n",
    "top_comments_tsla = []\n",
    "\n",
    "# Loop over every submission in top 10\n",
    "for submission in reddit.subreddit('tsla').top(limit=10):\n",
    "    # Get every comment\n",
    "    for top_level_comment in submission.comments:\n",
    "        # if its a deep comment, ignore\n",
    "        if isinstance(top_level_comment, MoreComments):\n",
    "            continue\n",
    "        # if top level, add to top level\n",
    "        top_comments_tsla.append(top_level_comment.body)"
   ]
  },
  {
   "cell_type": "code",
   "execution_count": 51,
   "metadata": {
    "hidden": true
   },
   "outputs": [
    {
     "data": {
      "text/plain": [
       "170"
      ]
     },
     "execution_count": 51,
     "metadata": {},
     "output_type": "execute_result"
    }
   ],
   "source": [
    "len(top_comments_tsla) # Expected: 174 for r/machinelearning"
   ]
  },
  {
   "cell_type": "code",
   "execution_count": 52,
   "metadata": {
    "hidden": true,
    "scrolled": true
   },
   "outputs": [
    {
     "data": {
      "text/plain": [
       "['🙌 I have never sold a share since 2017, and keep dollar cost averaging in.',\n",
       " 'What do you guys think of EV competition from tradition automakers? Can traditional auto makers like GM catch up in terms of EV market share in near future/ ever?',\n",
       " \"$580 and falling today. What's your price target?\"]"
      ]
     },
     "execution_count": 52,
     "metadata": {},
     "output_type": "execute_result"
    }
   ],
   "source": [
    "[random.choice(top_comments_tsla) for i in range(3)]"
   ]
  },
  {
   "cell_type": "markdown",
   "metadata": {},
   "source": [
    "<details>\n",
    "<summary>Some of the comments from `r/TSLA` subreddit:</summary>\n",
    "\n",
    "    ['I bought puts',\n",
    "    '100%',\n",
    "    'Yes. And I’m bag holding 1200 calls for Friday and am close to throwing myself out the window']\n",
    "</details>"
   ]
  },
  {
   "cell_type": "markdown",
   "metadata": {},
   "source": [
    "💽❓ Data Question:\n",
    "\n",
    "4. Now that you've had a chance to review another subreddits comments, do you see any differences in the kinds of comments either subreddit has - and how might this relate to bias?\n",
    "\n",
    "Yes this one is all about cars and stocks, compared to physics. quite different, will lead to a bias in viewpoint and in demographics"
   ]
  },
  {
   "cell_type": "markdown",
   "metadata": {
    "heading_collapsed": true
   },
   "source": [
    "### Task III: Sentiment Analysis"
   ]
  },
  {
   "cell_type": "markdown",
   "metadata": {
    "hidden": true
   },
   "source": [
    "Let us analyze the sentiment of comments scraped from `r/TSLA` using a pre-trained HuggingFace model to make the inference. Take a [Quick tour](https://huggingface.co/docs/transformers/quicktour). "
   ]
  },
  {
   "cell_type": "markdown",
   "metadata": {
    "hidden": true
   },
   "source": [
    "#### 1. Import `pipeline`"
   ]
  },
  {
   "cell_type": "code",
   "execution_count": 53,
   "metadata": {
    "hidden": true
   },
   "outputs": [],
   "source": [
    "from transformers import pipeline"
   ]
  },
  {
   "cell_type": "markdown",
   "metadata": {
    "hidden": true
   },
   "source": [
    "#### 2. Create a Pipeline to Perform Task \"sentiment-analysis\""
   ]
  },
  {
   "cell_type": "code",
   "execution_count": 54,
   "metadata": {
    "hidden": true
   },
   "outputs": [
    {
     "data": {
      "application/vnd.jupyter.widget-view+json": {
       "model_id": "1e47261bd83f41878d522b7e1e630b29",
       "version_major": 2,
       "version_minor": 0
      },
      "text/plain": [
       "Downloading:   0%|          | 0.00/687 [00:00<?, ?B/s]"
      ]
     },
     "metadata": {},
     "output_type": "display_data"
    },
    {
     "data": {
      "application/vnd.jupyter.widget-view+json": {
       "model_id": "0cd695351b53412984f35836bf027090",
       "version_major": 2,
       "version_minor": 0
      },
      "text/plain": [
       "Downloading:   0%|          | 0.00/1.42G [00:00<?, ?B/s]"
      ]
     },
     "metadata": {},
     "output_type": "display_data"
    },
    {
     "data": {
      "application/vnd.jupyter.widget-view+json": {
       "model_id": "10f40182a8284ba89f660e2c71aac6f5",
       "version_major": 2,
       "version_minor": 0
      },
      "text/plain": [
       "Downloading:   0%|          | 0.00/256 [00:00<?, ?B/s]"
      ]
     },
     "metadata": {},
     "output_type": "display_data"
    },
    {
     "data": {
      "application/vnd.jupyter.widget-view+json": {
       "model_id": "f7067a0365fe475e9ab7df2aefd561f9",
       "version_major": 2,
       "version_minor": 0
      },
      "text/plain": [
       "Downloading:   0%|          | 0.00/798k [00:00<?, ?B/s]"
      ]
     },
     "metadata": {},
     "output_type": "display_data"
    },
    {
     "data": {
      "application/vnd.jupyter.widget-view+json": {
       "model_id": "a7cc98343271496a8bf2dc8fb4eef372",
       "version_major": 2,
       "version_minor": 0
      },
      "text/plain": [
       "Downloading:   0%|          | 0.00/456k [00:00<?, ?B/s]"
      ]
     },
     "metadata": {},
     "output_type": "display_data"
    },
    {
     "data": {
      "application/vnd.jupyter.widget-view+json": {
       "model_id": "5e4d9222a04141cdbc1a12255432cc23",
       "version_major": 2,
       "version_minor": 0
      },
      "text/plain": [
       "Downloading:   0%|          | 0.00/150 [00:00<?, ?B/s]"
      ]
     },
     "metadata": {},
     "output_type": "display_data"
    }
   ],
   "source": [
    "sentiment_model = pipeline(\"sentiment-analysis\", model=\"siebert/sentiment-roberta-large-english\")"
   ]
  },
  {
   "cell_type": "markdown",
   "metadata": {
    "hidden": true
   },
   "source": [
    "#### 3. Get one comment from list `top_comments_tsla` from Task II - 5."
   ]
  },
  {
   "cell_type": "code",
   "execution_count": 55,
   "metadata": {
    "hidden": true
   },
   "outputs": [],
   "source": [
    "comment = random.choice(top_comments_tsla)"
   ]
  },
  {
   "cell_type": "code",
   "execution_count": 56,
   "metadata": {
    "hidden": true
   },
   "outputs": [
    {
     "data": {
      "text/plain": [
       "\"You're a fucking legend\""
      ]
     },
     "execution_count": 56,
     "metadata": {},
     "output_type": "execute_result"
    }
   ],
   "source": [
    "comment"
   ]
  },
  {
   "cell_type": "markdown",
   "metadata": {},
   "source": [
    "The example comment is: `'Bury Burry!!!!!'`. Print out what you get. For reproducibility, use the same comment in the next step; consider setting a seed."
   ]
  },
  {
   "cell_type": "markdown",
   "metadata": {
    "hidden": true
   },
   "source": [
    "#### 4. Make Inference!"
   ]
  },
  {
   "cell_type": "code",
   "execution_count": 57,
   "metadata": {
    "hidden": true
   },
   "outputs": [
    {
     "data": {
      "text/plain": [
       "[{'label': 'POSITIVE', 'score': 0.9981127977371216}]"
      ]
     },
     "execution_count": 57,
     "metadata": {},
     "output_type": "execute_result"
    }
   ],
   "source": [
    "sentiment = sentiment_model(comment)\n",
    "sentiment"
   ]
  },
  {
   "cell_type": "markdown",
   "metadata": {
    "hidden": true
   },
   "source": [
    "What is the type of the output `sentiment`?"
   ]
  },
  {
   "cell_type": "markdown",
   "metadata": {
    "hidden": true
   },
   "source": [
    "```\n",
    "Very positive, as expected for this input\n",
    "```"
   ]
  },
  {
   "cell_type": "code",
   "execution_count": 58,
   "metadata": {
    "hidden": true,
    "scrolled": true
   },
   "outputs": [
    {
     "name": "stdout",
     "output_type": "stream",
     "text": [
      "The comment: You're a fucking legend\n",
      "Predicted Label is POSITIVE and the score is 0.998\n"
     ]
    }
   ],
   "source": [
    "print(f'The comment: {comment}')\n",
    "print(f'Predicted Label is {sentiment[0][\"label\"]} and the score is {sentiment[0][\"score\"]:.3f}')"
   ]
  },
  {
   "cell_type": "markdown",
   "metadata": {},
   "source": [
    "For the example comment, the output is:\n",
    "\n",
    "    The comment: Bury Burry!!!!!\n",
    "    Predicted Label is NEGATIVE and the score is 0.989"
   ]
  },
  {
   "cell_type": "markdown",
   "metadata": {},
   "source": [
    "🖥️❓ Model Question:\n",
    "\n",
    "1. What does the score represent?\n",
    "How sure the model is of its answer"
   ]
  },
  {
   "cell_type": "markdown",
   "metadata": {},
   "source": [
    "### Task IV: Put All Together"
   ]
  },
  {
   "cell_type": "markdown",
   "metadata": {},
   "source": [
    "Let's pull all the piece together, create a simple script that does \n",
    "\n",
    "- get the subreddit\n",
    "- get comments from the top posts for given subreddit\n",
    "- run sentiment analysis "
   ]
  },
  {
   "cell_type": "markdown",
   "metadata": {},
   "source": [
    "#### Complete the Script"
   ]
  },
  {
   "cell_type": "markdown",
   "metadata": {},
   "source": [
    "Once you complete the code, running the following block writes the code into a new Python script and saves it as `top_tlsa_comment_sentiment.py` under the same directory with the notebook. "
   ]
  },
  {
   "cell_type": "code",
   "execution_count": 63,
   "metadata": {
    "code_folding": []
   },
   "outputs": [
    {
     "name": "stdout",
     "output_type": "stream",
     "text": [
      "Overwriting top_tlsa_comment_sentiment.py\n"
     ]
    }
   ],
   "source": [
    "%%writefile top_tlsa_comment_sentiment.py\n",
    "\n",
    "import secrets_reddit\n",
    "import random\n",
    "\n",
    "from typing import Dict, List\n",
    "\n",
    "from praw import Reddit\n",
    "from praw.models.reddit.subreddit import Subreddit\n",
    "from praw.models import MoreComments\n",
    "\n",
    "from transformers import pipeline\n",
    "\n",
    "\n",
    "def get_subreddit(display_name:str) -> Subreddit:\n",
    "    \"\"\"Get subreddit object from display name\n",
    "\n",
    "    Args:\n",
    "        display_name (str): [description]\n",
    "\n",
    "    Returns:\n",
    "        Subreddit: [description]\n",
    "    \"\"\"\n",
    "    reddit = Reddit(\n",
    "        client_id=secrets_reddit.REDDIT_API_CLIENT_ID,        \n",
    "        client_secret=secrets_reddit.REDDIT_API_CLIENT_SECRET,\n",
    "        user_agent=secrets_reddit.REDDIT_API_USER_AGENT\n",
    "        )\n",
    "    \n",
    "    subreddit = reddit.subreddit(display_name)\n",
    "    return subreddit\n",
    "\n",
    "def get_comments(subreddit:Subreddit, limit:int=3) -> List[str]:\n",
    "    \"\"\" Get comments from subreddit\n",
    "\n",
    "    Args:\n",
    "        subreddit (Subreddit): [description]\n",
    "        limit (int, optional): [description]. Defaults to 3.\n",
    "\n",
    "    Returns:\n",
    "        List[str]: List of comments\n",
    "    \"\"\"\n",
    "    top_comments = []\n",
    "    for submission in subreddit.top(limit=limit):\n",
    "        for top_level_comment in submission.comments:\n",
    "            if isinstance(top_level_comment, MoreComments):\n",
    "                continue\n",
    "            top_comments.append(top_level_comment.body)\n",
    "    return top_comments\n",
    "\n",
    "def run_sentiment_analysis(comment:str) -> Dict:\n",
    "    \"\"\"Run sentiment analysis on comment using default distilbert model\n",
    "    \n",
    "    Args:\n",
    "        comment (str): [description]\n",
    "        \n",
    "    Returns:\n",
    "        str: Sentiment analysis result\n",
    "    \"\"\"\n",
    "    sentiment_model = pipeline(\"sentiment-analysis\", model=\"siebert/sentiment-roberta-large-english\")\n",
    "    sentiment = sentiment_model(comment)\n",
    "    return sentiment[0]\n",
    "\n",
    "\n",
    "if __name__ == '__main__':\n",
    "    subreddit = get_subreddit('wallstreetbets')\n",
    "    comments = get_comments(subreddit)\n",
    "    comments = random.sample(comments, 10)\n",
    "    for comment in comments:\n",
    "        sentiment = run_sentiment_analysis(comment)\n",
    "        print(f'The comment: {comment}')\n",
    "        print(f'Predicted Label is {sentiment[\"label\"]} and the score is {sentiment[\"score\"]:.3f}')"
   ]
  },
  {
   "cell_type": "markdown",
   "metadata": {},
   "source": [
    "Run the following block to see the output."
   ]
  },
  {
   "cell_type": "code",
   "execution_count": 64,
   "metadata": {},
   "outputs": [
    {
     "name": "stdout",
     "output_type": "stream",
     "text": [
      "huggingface/tokenizers: The current process just got forked, after parallelism has already been used. Disabling parallelism to avoid deadlocks...\n",
      "To disable this warning, you can either:\n",
      "\t- Avoid using `tokenizers` before the fork if possible\n",
      "\t- Explicitly set the environment variable TOKENIZERS_PARALLELISM=(true | false)\n",
      "The comment: FINALLY JUMPED IN TODAY AT $260 TO SEE IT PLUMMET TO $160 WITHIN AN HOUR, BUT MOMMA DIDN'T RAISE NO BITCH  💎✋  💎✋  💎✋  💎✋  💎✋  🚀🚀🚀🚀🚀 🚀🚀🚀🚀🚀🚀🚀🚀🚀🚀🚀🚀🚀🚀🚀\n",
      "Predicted Label is NEGATIVE and the score is 0.998\n",
      "The comment: They need to be sued.  I’m closing my account with them..\n",
      "Predicted Label is NEGATIVE and the score is 0.999\n",
      "The comment: It's no longer about making money, it's about sending a message. \n",
      "\n",
      "Screw censorship.\n",
      "Predicted Label is POSITIVE and the score is 0.999\n",
      "The comment: OK ALL IS WELL\n",
      "Predicted Label is NEGATIVE and the score is 0.986\n",
      "The comment: [deleted]\n",
      "Predicted Label is NEGATIVE and the score is 0.998\n",
      "The comment: Feels almost nostalgic finding this post again\n",
      "Predicted Label is POSITIVE and the score is 0.998\n",
      "The comment: I don't belong here really, I am a 63 year old Grandma who knows really nothing about the market. I do know what it is like to have bigwigs from corporate expoit workers and profit from them.(retired after 32 years working for Blue Cross and other health insurance Cos.) I had $396.00 cash purchasing power on etrade from a pretty unused account. If I did it right, (got confirmation that trade was placed) bought one share of GME. I hope come Monday I do have it! It is the principal of this not the profit that motivated me\n",
      "\n",
      "Carry on young'uns. You have given me hope for the future of your generation. I will hold!\n",
      "Predicted Label is NEGATIVE and the score is 0.997\n",
      "The comment: Well. This is it. We made it to the top of the trolling game.  \n",
      "\n",
      "\n",
      " This is historical. This will be taught by a favorite history teacher in the future who shows you all the hidden tidbits we so enjoy.   \n",
      "\n",
      "\n",
      " Thank you Future history teacher, thank you for sharing this with your students and giving them a good solid full classroom breakdown laughing fit to help relieve the tension. My god, i salute you.\n",
      "Predicted Label is POSITIVE and the score is 0.999\n",
      "The comment: [removed]\n",
      "Predicted Label is NEGATIVE and the score is 0.997\n",
      "The comment: ABSOLUTE FUCKING LEGEND, second to u/deepfuckingvalue of course.\n",
      "Predicted Label is POSITIVE and the score is 0.994\n"
     ]
    }
   ],
   "source": [
    "!python top_tlsa_comment_sentiment.py"
   ]
  },
  {
   "cell_type": "markdown",
   "metadata": {},
   "source": [
    "<details><summary> Expected output:</summary>\n",
    "\n",
    "    No model was supplied, defaulted to distilbert-base-uncased-finetuned-sst-2-english (https://huggingface.co/distilbert-base-uncased-finetuned-sst-2-english)\n",
    "    The comment: When is DOGE flying\n",
    "    Predicted Label is POSITIVE and the score is 0.689\n",
    "</details>"
   ]
  },
  {
   "cell_type": "markdown",
   "metadata": {},
   "source": [
    "💽❓ Data Question:\n",
    "\n",
    "5. Is the subreddit active? About how many posts or threads per day? How could you find this information?"
   ]
  },
  {
   "cell_type": "markdown",
   "metadata": {},
   "source": [
    "According to this you can get number of posts per day through here https://www.reddit.com/r/redditdev/comments/qcn2o8/comment/hhh2sly/?utm_source=share&utm_medium=web2x&context=3\n",
    "But likely someone else does this data collection for us:\n",
    "https://subredditstats.com/r/wallstreetbets\n",
    "513 posts per day, many more comments"
   ]
  },
  {
   "cell_type": "markdown",
   "metadata": {},
   "source": [
    "💽❓ Data Question:\n",
    "\n",
    "6. Does there seem to be a large distribution of posters or a smaller concentration of posters who are very active? What kind of impact might this have on the data?"
   ]
  },
  {
   "cell_type": "markdown",
   "metadata": {},
   "source": [
    "Smaller concentration of very active posters, which would lead to biasing the model on certain viewpoints and style"
   ]
  },
  {
   "cell_type": "code",
   "execution_count": null,
   "metadata": {},
   "outputs": [],
   "source": []
  },
  {
   "cell_type": "code",
   "execution_count": 66,
   "metadata": {
    "ExecuteTime": {
     "end_time": "2022-11-05T12:25:02.953841Z",
     "start_time": "2022-11-05T12:25:02.946384Z"
    }
   },
   "outputs": [],
   "source": [
    "import secrets_reddit\n",
    "import random\n",
    "\n",
    "from typing import Dict, List\n",
    "\n",
    "from praw import Reddit\n",
    "from praw.models.reddit.subreddit import Subreddit\n",
    "from praw.models import MoreComments\n",
    "\n",
    "from transformers import pipeline\n",
    "\n",
    "\n",
    "def get_subreddit(display_name:str) -> Subreddit:\n",
    "    \"\"\"Get subreddit object from display name\n",
    "\n",
    "    Args:\n",
    "        display_name (str): [description]\n",
    "\n",
    "    Returns:\n",
    "        Subreddit: [description]\n",
    "    \"\"\"\n",
    "    reddit = Reddit(\n",
    "        client_id=secrets_reddit.REDDIT_API_CLIENT_ID,        \n",
    "        client_secret=secrets_reddit.REDDIT_API_CLIENT_SECRET,\n",
    "        user_agent=secrets_reddit.REDDIT_API_USER_AGENT\n",
    "        )\n",
    "    \n",
    "    subreddit = reddit.subreddit(display_name)\n",
    "    return subreddit\n",
    "\n",
    "def get_comments(subreddit:Subreddit, limit:int=3, submissions=None) -> List[str]:\n",
    "    \"\"\" Get comments from subreddit\n",
    "\n",
    "    Args:\n",
    "        subreddit (Subreddit): [description]\n",
    "        limit (int, optional): [description]. Defaults to 3.\n",
    "\n",
    "    Returns:\n",
    "        List[str]: List of comments\n",
    "    \"\"\"\n",
    "    top_comments = []\n",
    "    for submission in submissions:\n",
    "        for top_level_comment in submission.comments:\n",
    "            if isinstance(top_level_comment, MoreComments):\n",
    "                continue\n",
    "            top_comments.append(top_level_comment.body)\n",
    "    return top_comments\n",
    "\n",
    "def run_sentiment_analysis(comment:str) -> Dict:\n",
    "    \"\"\"Run sentiment analysis on comment using default distilbert model\n",
    "    \n",
    "    Args:\n",
    "        comment (str): [description]\n",
    "        \n",
    "    Returns:\n",
    "        str: Sentiment analysis result\n",
    "    \"\"\"\n",
    "    sentiment_model = pipeline(\"sentiment-analysis\", model=\"siebert/sentiment-roberta-large-english\")\n",
    "    sentiment = sentiment_model(comment)\n",
    "    return sentiment[0]"
   ]
  },
  {
   "cell_type": "code",
   "execution_count": 67,
   "metadata": {
    "ExecuteTime": {
     "end_time": "2022-11-05T12:25:31.528988Z",
     "start_time": "2022-11-05T12:25:31.095532Z"
    }
   },
   "outputs": [],
   "source": [
    "import pandas as pd\n",
    "import numpy as np\n",
    "import matplotlib.pyplot as plt\n",
    "import seaborn as sns\n",
    "import datetime as dt"
   ]
  },
  {
   "cell_type": "code",
   "execution_count": 106,
   "metadata": {
    "ExecuteTime": {
     "end_time": "2022-11-05T12:40:26.025530Z",
     "start_time": "2022-11-05T12:40:08.979290Z"
    }
   },
   "outputs": [
    {
     "data": {
      "text/html": [
       "<div>\n",
       "<style scoped>\n",
       "    .dataframe tbody tr th:only-of-type {\n",
       "        vertical-align: middle;\n",
       "    }\n",
       "\n",
       "    .dataframe tbody tr th {\n",
       "        vertical-align: top;\n",
       "    }\n",
       "\n",
       "    .dataframe thead th {\n",
       "        text-align: right;\n",
       "    }\n",
       "</style>\n",
       "<table border=\"1\" class=\"dataframe\">\n",
       "  <thead>\n",
       "    <tr style=\"text-align: right;\">\n",
       "      <th></th>\n",
       "      <th>title</th>\n",
       "      <th>score</th>\n",
       "      <th>created_utc</th>\n",
       "      <th>upvote_ratio</th>\n",
       "      <th>num_comments</th>\n",
       "      <th>sentiment_label</th>\n",
       "      <th>sentiment_score</th>\n",
       "    </tr>\n",
       "  </thead>\n",
       "  <tbody>\n",
       "    <tr>\n",
       "      <th>0</th>\n",
       "      <td>Times Square right now</td>\n",
       "      <td>470591</td>\n",
       "      <td>1.612030e+09</td>\n",
       "      <td>0.99</td>\n",
       "      <td>13740</td>\n",
       "      <td>POSITIVE</td>\n",
       "      <td>0.991911</td>\n",
       "    </tr>\n",
       "    <tr>\n",
       "      <th>1</th>\n",
       "      <td>UPVOTE so everyone sees we got SUPPORT</td>\n",
       "      <td>332360</td>\n",
       "      <td>1.611841e+09</td>\n",
       "      <td>0.98</td>\n",
       "      <td>12933</td>\n",
       "      <td>POSITIVE</td>\n",
       "      <td>0.998546</td>\n",
       "    </tr>\n",
       "    <tr>\n",
       "      <th>2</th>\n",
       "      <td>GME YOLO update — Jan 28 2021</td>\n",
       "      <td>294332</td>\n",
       "      <td>1.611868e+09</td>\n",
       "      <td>0.98</td>\n",
       "      <td>23281</td>\n",
       "      <td>POSITIVE</td>\n",
       "      <td>0.989071</td>\n",
       "    </tr>\n",
       "    <tr>\n",
       "      <th>3</th>\n",
       "      <td>GME YOLO month-end update — Jan 2021</td>\n",
       "      <td>260644</td>\n",
       "      <td>1.611954e+09</td>\n",
       "      <td>0.97</td>\n",
       "      <td>20203</td>\n",
       "      <td>POSITIVE</td>\n",
       "      <td>0.995209</td>\n",
       "    </tr>\n",
       "    <tr>\n",
       "      <th>4</th>\n",
       "      <td>It’s treason then</td>\n",
       "      <td>240211</td>\n",
       "      <td>1.611964e+09</td>\n",
       "      <td>0.98</td>\n",
       "      <td>4642</td>\n",
       "      <td>NEGATIVE</td>\n",
       "      <td>0.997330</td>\n",
       "    </tr>\n",
       "    <tr>\n",
       "      <th>5</th>\n",
       "      <td>🔮WallStreetBets Predictions Tournament for Oct...</td>\n",
       "      <td>229469</td>\n",
       "      <td>1.667023e+09</td>\n",
       "      <td>0.87</td>\n",
       "      <td>1171</td>\n",
       "      <td>POSITIVE</td>\n",
       "      <td>0.995086</td>\n",
       "    </tr>\n",
       "    <tr>\n",
       "      <th>6</th>\n",
       "      <td>CLASS ACTION AGAINST ROBINHOOD. Allowing peopl...</td>\n",
       "      <td>226590</td>\n",
       "      <td>1.611842e+09</td>\n",
       "      <td>0.97</td>\n",
       "      <td>18064</td>\n",
       "      <td>NEGATIVE</td>\n",
       "      <td>0.999422</td>\n",
       "    </tr>\n",
       "    <tr>\n",
       "      <th>7</th>\n",
       "      <td>GME YOLO update — Feb 19 2021</td>\n",
       "      <td>221821</td>\n",
       "      <td>1.613769e+09</td>\n",
       "      <td>0.96</td>\n",
       "      <td>13047</td>\n",
       "      <td>POSITIVE</td>\n",
       "      <td>0.990049</td>\n",
       "    </tr>\n",
       "    <tr>\n",
       "      <th>8</th>\n",
       "      <td>🔮WallStreetBets Predictions Tournament for Sep...</td>\n",
       "      <td>216657</td>\n",
       "      <td>1.664412e+09</td>\n",
       "      <td>0.89</td>\n",
       "      <td>1490</td>\n",
       "      <td>POSITIVE</td>\n",
       "      <td>0.994989</td>\n",
       "    </tr>\n",
       "    <tr>\n",
       "      <th>9</th>\n",
       "      <td>GME YOLO update — Jan 27 2021 ----------------...</td>\n",
       "      <td>216062</td>\n",
       "      <td>1.611782e+09</td>\n",
       "      <td>0.96</td>\n",
       "      <td>14861</td>\n",
       "      <td>NEGATIVE</td>\n",
       "      <td>0.999246</td>\n",
       "    </tr>\n",
       "    <tr>\n",
       "      <th>10</th>\n",
       "      <td>GME YOLO update — Feb 1 2021</td>\n",
       "      <td>215261</td>\n",
       "      <td>1.612214e+09</td>\n",
       "      <td>0.95</td>\n",
       "      <td>18328</td>\n",
       "      <td>POSITIVE</td>\n",
       "      <td>0.990743</td>\n",
       "    </tr>\n",
       "    <tr>\n",
       "      <th>11</th>\n",
       "      <td>IT'S POWER TO THE TRADERS NOW</td>\n",
       "      <td>214023</td>\n",
       "      <td>1.611884e+09</td>\n",
       "      <td>0.97</td>\n",
       "      <td>5688</td>\n",
       "      <td>NEGATIVE</td>\n",
       "      <td>0.987643</td>\n",
       "    </tr>\n",
       "    <tr>\n",
       "      <th>12</th>\n",
       "      <td>Used some of my GME tendies to buy Nintendo Sw...</td>\n",
       "      <td>213932</td>\n",
       "      <td>1.611975e+09</td>\n",
       "      <td>0.93</td>\n",
       "      <td>7064</td>\n",
       "      <td>POSITIVE</td>\n",
       "      <td>0.998560</td>\n",
       "    </tr>\n",
       "    <tr>\n",
       "      <th>13</th>\n",
       "      <td>That’s what I thought</td>\n",
       "      <td>198598</td>\n",
       "      <td>1.611966e+09</td>\n",
       "      <td>0.97</td>\n",
       "      <td>4593</td>\n",
       "      <td>NEGATIVE</td>\n",
       "      <td>0.975104</td>\n",
       "    </tr>\n",
       "    <tr>\n",
       "      <th>14</th>\n",
       "      <td>Can we all take a moment and appreciate the Mo...</td>\n",
       "      <td>196817</td>\n",
       "      <td>1.611795e+09</td>\n",
       "      <td>0.94</td>\n",
       "      <td>6878</td>\n",
       "      <td>POSITIVE</td>\n",
       "      <td>0.998867</td>\n",
       "    </tr>\n",
       "    <tr>\n",
       "      <th>15</th>\n",
       "      <td>It runs very deep, my friends.</td>\n",
       "      <td>190963</td>\n",
       "      <td>1.611870e+09</td>\n",
       "      <td>0.98</td>\n",
       "      <td>2803</td>\n",
       "      <td>POSITIVE</td>\n",
       "      <td>0.994203</td>\n",
       "    </tr>\n",
       "    <tr>\n",
       "      <th>16</th>\n",
       "      <td>I am proud to do my part in paying forward our...</td>\n",
       "      <td>188417</td>\n",
       "      <td>1.612055e+09</td>\n",
       "      <td>0.94</td>\n",
       "      <td>3835</td>\n",
       "      <td>POSITIVE</td>\n",
       "      <td>0.998362</td>\n",
       "    </tr>\n",
       "    <tr>\n",
       "      <th>17</th>\n",
       "      <td>Crazy mannnnnnn. We can't let this slide at all</td>\n",
       "      <td>186819</td>\n",
       "      <td>1.611859e+09</td>\n",
       "      <td>0.97</td>\n",
       "      <td>2391</td>\n",
       "      <td>POSITIVE</td>\n",
       "      <td>0.998484</td>\n",
       "    </tr>\n",
       "    <tr>\n",
       "      <th>18</th>\n",
       "      <td>Drew this for you my fellow retards 💎🙌🏼</td>\n",
       "      <td>184297</td>\n",
       "      <td>1.612123e+09</td>\n",
       "      <td>0.90</td>\n",
       "      <td>3492</td>\n",
       "      <td>POSITIVE</td>\n",
       "      <td>0.994613</td>\n",
       "    </tr>\n",
       "    <tr>\n",
       "      <th>19</th>\n",
       "      <td>AOC got our backs</td>\n",
       "      <td>181185</td>\n",
       "      <td>1.611785e+09</td>\n",
       "      <td>0.87</td>\n",
       "      <td>5362</td>\n",
       "      <td>POSITIVE</td>\n",
       "      <td>0.998489</td>\n",
       "    </tr>\n",
       "    <tr>\n",
       "      <th>20</th>\n",
       "      <td>Mark Cuban spent nearly 2 hours answering ques...</td>\n",
       "      <td>181014</td>\n",
       "      <td>1.612283e+09</td>\n",
       "      <td>0.94</td>\n",
       "      <td>4382</td>\n",
       "      <td>POSITIVE</td>\n",
       "      <td>0.997738</td>\n",
       "    </tr>\n",
       "    <tr>\n",
       "      <th>21</th>\n",
       "      <td>I’m so proud of you all.</td>\n",
       "      <td>178978</td>\n",
       "      <td>1.611870e+09</td>\n",
       "      <td>0.96</td>\n",
       "      <td>2461</td>\n",
       "      <td>POSITIVE</td>\n",
       "      <td>0.998854</td>\n",
       "    </tr>\n",
       "    <tr>\n",
       "      <th>22</th>\n",
       "      <td>WE'RE IN THE ENDGAME NOW</td>\n",
       "      <td>175883</td>\n",
       "      <td>1.611909e+09</td>\n",
       "      <td>0.95</td>\n",
       "      <td>6490</td>\n",
       "      <td>NEGATIVE</td>\n",
       "      <td>0.990876</td>\n",
       "    </tr>\n",
       "    <tr>\n",
       "      <th>23</th>\n",
       "      <td>WSB right now</td>\n",
       "      <td>172533</td>\n",
       "      <td>1.612305e+09</td>\n",
       "      <td>0.94</td>\n",
       "      <td>4156</td>\n",
       "      <td>NEGATIVE</td>\n",
       "      <td>0.575993</td>\n",
       "    </tr>\n",
       "    <tr>\n",
       "      <th>24</th>\n",
       "      <td>In honor of finally seeing the almighty u/deep...</td>\n",
       "      <td>172051</td>\n",
       "      <td>1.611943e+09</td>\n",
       "      <td>0.96</td>\n",
       "      <td>3757</td>\n",
       "      <td>POSITIVE</td>\n",
       "      <td>0.997810</td>\n",
       "    </tr>\n",
       "    <tr>\n",
       "      <th>25</th>\n",
       "      <td>GME YOLO update — Mar 8 2021</td>\n",
       "      <td>169612</td>\n",
       "      <td>1.615238e+09</td>\n",
       "      <td>0.94</td>\n",
       "      <td>8152</td>\n",
       "      <td>POSITIVE</td>\n",
       "      <td>0.989622</td>\n",
       "    </tr>\n",
       "    <tr>\n",
       "      <th>26</th>\n",
       "      <td>Congress might do something for once</td>\n",
       "      <td>168172</td>\n",
       "      <td>1.611876e+09</td>\n",
       "      <td>0.96</td>\n",
       "      <td>6730</td>\n",
       "      <td>NEGATIVE</td>\n",
       "      <td>0.990100</td>\n",
       "    </tr>\n",
       "    <tr>\n",
       "      <th>27</th>\n",
       "      <td>GME YOLO update — Apr 16 2021 — final update</td>\n",
       "      <td>166114</td>\n",
       "      <td>1.618604e+09</td>\n",
       "      <td>0.96</td>\n",
       "      <td>17685</td>\n",
       "      <td>POSITIVE</td>\n",
       "      <td>0.994772</td>\n",
       "    </tr>\n",
       "    <tr>\n",
       "      <th>28</th>\n",
       "      <td>A message to WSB from the Director of the Dian...</td>\n",
       "      <td>164432</td>\n",
       "      <td>1.615677e+09</td>\n",
       "      <td>0.93</td>\n",
       "      <td>5819</td>\n",
       "      <td>POSITIVE</td>\n",
       "      <td>0.995400</td>\n",
       "    </tr>\n",
       "    <tr>\n",
       "      <th>29</th>\n",
       "      <td>Not sure if anyone posted this here, but yikes</td>\n",
       "      <td>160016</td>\n",
       "      <td>1.611874e+09</td>\n",
       "      <td>0.92</td>\n",
       "      <td>5787</td>\n",
       "      <td>NEGATIVE</td>\n",
       "      <td>0.997968</td>\n",
       "    </tr>\n",
       "    <tr>\n",
       "      <th>30</th>\n",
       "      <td>GME YOLO update — Feb 2 2021</td>\n",
       "      <td>159887</td>\n",
       "      <td>1.612300e+09</td>\n",
       "      <td>0.95</td>\n",
       "      <td>17668</td>\n",
       "      <td>POSITIVE</td>\n",
       "      <td>0.991043</td>\n",
       "    </tr>\n",
       "    <tr>\n",
       "      <th>31</th>\n",
       "      <td>Hey everyone, Its Mark Cuban. Jumping on to do...</td>\n",
       "      <td>158998</td>\n",
       "      <td>1.612277e+09</td>\n",
       "      <td>0.91</td>\n",
       "      <td>26630</td>\n",
       "      <td>POSITIVE</td>\n",
       "      <td>0.998214</td>\n",
       "    </tr>\n",
       "    <tr>\n",
       "      <th>32</th>\n",
       "      <td>IMPORTANT!! THERE ARE NO SELLERS!!! DO NOT PAN...</td>\n",
       "      <td>158531</td>\n",
       "      <td>1.611849e+09</td>\n",
       "      <td>0.97</td>\n",
       "      <td>4965</td>\n",
       "      <td>POSITIVE</td>\n",
       "      <td>0.994282</td>\n",
       "    </tr>\n",
       "    <tr>\n",
       "      <th>33</th>\n",
       "      <td>Doing my part</td>\n",
       "      <td>156229</td>\n",
       "      <td>1.611868e+09</td>\n",
       "      <td>0.97</td>\n",
       "      <td>2836</td>\n",
       "      <td>POSITIVE</td>\n",
       "      <td>0.997831</td>\n",
       "    </tr>\n",
       "    <tr>\n",
       "      <th>34</th>\n",
       "      <td>Our favourite analyst. 🚀🚀🙌💎🌕</td>\n",
       "      <td>155128</td>\n",
       "      <td>1.612036e+09</td>\n",
       "      <td>0.95</td>\n",
       "      <td>4125</td>\n",
       "      <td>POSITIVE</td>\n",
       "      <td>0.998733</td>\n",
       "    </tr>\n",
       "    <tr>\n",
       "      <th>35</th>\n",
       "      <td>Forever never dies 🥰</td>\n",
       "      <td>153593</td>\n",
       "      <td>1.612061e+09</td>\n",
       "      <td>0.91</td>\n",
       "      <td>2793</td>\n",
       "      <td>POSITIVE</td>\n",
       "      <td>0.997882</td>\n",
       "    </tr>\n",
       "    <tr>\n",
       "      <th>36</th>\n",
       "      <td>In case you needed proof that there are impost...</td>\n",
       "      <td>152131</td>\n",
       "      <td>1.612217e+09</td>\n",
       "      <td>0.93</td>\n",
       "      <td>5944</td>\n",
       "      <td>NEGATIVE</td>\n",
       "      <td>0.999354</td>\n",
       "    </tr>\n",
       "    <tr>\n",
       "      <th>37</th>\n",
       "      <td>Mic drop</td>\n",
       "      <td>149211</td>\n",
       "      <td>1.611872e+09</td>\n",
       "      <td>0.97</td>\n",
       "      <td>1831</td>\n",
       "      <td>NEGATIVE</td>\n",
       "      <td>0.998790</td>\n",
       "    </tr>\n",
       "    <tr>\n",
       "      <th>38</th>\n",
       "      <td>GME YOLO month-end update — Feb 2021</td>\n",
       "      <td>148776</td>\n",
       "      <td>1.614374e+09</td>\n",
       "      <td>0.94</td>\n",
       "      <td>7741</td>\n",
       "      <td>POSITIVE</td>\n",
       "      <td>0.994716</td>\n",
       "    </tr>\n",
       "    <tr>\n",
       "      <th>39</th>\n",
       "      <td>Fake news 🤣</td>\n",
       "      <td>148682</td>\n",
       "      <td>1.612200e+09</td>\n",
       "      <td>0.92</td>\n",
       "      <td>6085</td>\n",
       "      <td>NEGATIVE</td>\n",
       "      <td>0.999247</td>\n",
       "    </tr>\n",
       "    <tr>\n",
       "      <th>40</th>\n",
       "      <td>WSB PIONEER. FEARLESS BAG HOLDER. BETTER THAN ...</td>\n",
       "      <td>146894</td>\n",
       "      <td>1.611937e+09</td>\n",
       "      <td>0.94</td>\n",
       "      <td>5836</td>\n",
       "      <td>POSITIVE</td>\n",
       "      <td>0.995709</td>\n",
       "    </tr>\n",
       "    <tr>\n",
       "      <th>41</th>\n",
       "      <td>WSB, WHAT IS YOUR STRATEGY? 💎✋🚀</td>\n",
       "      <td>146355</td>\n",
       "      <td>1.611922e+09</td>\n",
       "      <td>0.96</td>\n",
       "      <td>5199</td>\n",
       "      <td>POSITIVE</td>\n",
       "      <td>0.998405</td>\n",
       "    </tr>\n",
       "    <tr>\n",
       "      <th>42</th>\n",
       "      <td>GME YOLO update — Feb 3 2021 – heads up gonna ...</td>\n",
       "      <td>146076</td>\n",
       "      <td>1.612387e+09</td>\n",
       "      <td>0.95</td>\n",
       "      <td>10066</td>\n",
       "      <td>NEGATIVE</td>\n",
       "      <td>0.993736</td>\n",
       "    </tr>\n",
       "    <tr>\n",
       "      <th>43</th>\n",
       "      <td>Today, Interactive Brokers CEO admits that wit...</td>\n",
       "      <td>144955</td>\n",
       "      <td>1.613612e+09</td>\n",
       "      <td>0.93</td>\n",
       "      <td>7917</td>\n",
       "      <td>NEGATIVE</td>\n",
       "      <td>0.997467</td>\n",
       "    </tr>\n",
       "    <tr>\n",
       "      <th>44</th>\n",
       "      <td>If I can hold at -$10MM then you can hold too. 💎🙌</td>\n",
       "      <td>144715</td>\n",
       "      <td>1.611850e+09</td>\n",
       "      <td>0.96</td>\n",
       "      <td>7041</td>\n",
       "      <td>POSITIVE</td>\n",
       "      <td>0.997944</td>\n",
       "    </tr>\n",
       "    <tr>\n",
       "      <th>45</th>\n",
       "      <td>We are all the way up</td>\n",
       "      <td>144341</td>\n",
       "      <td>1.611879e+09</td>\n",
       "      <td>0.97</td>\n",
       "      <td>1990</td>\n",
       "      <td>POSITIVE</td>\n",
       "      <td>0.997764</td>\n",
       "    </tr>\n",
       "    <tr>\n",
       "      <th>46</th>\n",
       "      <td>An Open Letter to Melvin Capital, CNBC, Boomer...</td>\n",
       "      <td>143864</td>\n",
       "      <td>1.611810e+09</td>\n",
       "      <td>0.93</td>\n",
       "      <td>7717</td>\n",
       "      <td>POSITIVE</td>\n",
       "      <td>0.991787</td>\n",
       "    </tr>\n",
       "    <tr>\n",
       "      <th>47</th>\n",
       "      <td>GameStop gear going to the new home at the Chi...</td>\n",
       "      <td>142047</td>\n",
       "      <td>1.616935e+09</td>\n",
       "      <td>0.89</td>\n",
       "      <td>2390</td>\n",
       "      <td>POSITIVE</td>\n",
       "      <td>0.997865</td>\n",
       "    </tr>\n",
       "    <tr>\n",
       "      <th>48</th>\n",
       "      <td>🔮WallStreetBets Predictions Tournament for Aug...</td>\n",
       "      <td>140111</td>\n",
       "      <td>1.661817e+09</td>\n",
       "      <td>0.90</td>\n",
       "      <td>745</td>\n",
       "      <td>POSITIVE</td>\n",
       "      <td>0.995066</td>\n",
       "    </tr>\n",
       "    <tr>\n",
       "      <th>49</th>\n",
       "      <td>I don't need Fox Business to hold me accountab...</td>\n",
       "      <td>140034</td>\n",
       "      <td>1.614287e+09</td>\n",
       "      <td>0.94</td>\n",
       "      <td>2469</td>\n",
       "      <td>POSITIVE</td>\n",
       "      <td>0.996576</td>\n",
       "    </tr>\n",
       "  </tbody>\n",
       "</table>\n",
       "</div>"
      ],
      "text/plain": [
       "                                                title   score   created_utc  \\\n",
       "0                              Times Square right now  470591  1.612030e+09   \n",
       "1              UPVOTE so everyone sees we got SUPPORT  332360  1.611841e+09   \n",
       "2                       GME YOLO update — Jan 28 2021  294332  1.611868e+09   \n",
       "3                GME YOLO month-end update — Jan 2021  260644  1.611954e+09   \n",
       "4                                   It’s treason then  240211  1.611964e+09   \n",
       "5   🔮WallStreetBets Predictions Tournament for Oct...  229469  1.667023e+09   \n",
       "6   CLASS ACTION AGAINST ROBINHOOD. Allowing peopl...  226590  1.611842e+09   \n",
       "7                       GME YOLO update — Feb 19 2021  221821  1.613769e+09   \n",
       "8   🔮WallStreetBets Predictions Tournament for Sep...  216657  1.664412e+09   \n",
       "9   GME YOLO update — Jan 27 2021 ----------------...  216062  1.611782e+09   \n",
       "10                       GME YOLO update — Feb 1 2021  215261  1.612214e+09   \n",
       "11                      IT'S POWER TO THE TRADERS NOW  214023  1.611884e+09   \n",
       "12  Used some of my GME tendies to buy Nintendo Sw...  213932  1.611975e+09   \n",
       "13                              That’s what I thought  198598  1.611966e+09   \n",
       "14  Can we all take a moment and appreciate the Mo...  196817  1.611795e+09   \n",
       "15                     It runs very deep, my friends.  190963  1.611870e+09   \n",
       "16  I am proud to do my part in paying forward our...  188417  1.612055e+09   \n",
       "17    Crazy mannnnnnn. We can't let this slide at all  186819  1.611859e+09   \n",
       "18            Drew this for you my fellow retards 💎🙌🏼  184297  1.612123e+09   \n",
       "19                                  AOC got our backs  181185  1.611785e+09   \n",
       "20  Mark Cuban spent nearly 2 hours answering ques...  181014  1.612283e+09   \n",
       "21                           I’m so proud of you all.  178978  1.611870e+09   \n",
       "22                           WE'RE IN THE ENDGAME NOW  175883  1.611909e+09   \n",
       "23                                      WSB right now  172533  1.612305e+09   \n",
       "24  In honor of finally seeing the almighty u/deep...  172051  1.611943e+09   \n",
       "25                       GME YOLO update — Mar 8 2021  169612  1.615238e+09   \n",
       "26               Congress might do something for once  168172  1.611876e+09   \n",
       "27       GME YOLO update — Apr 16 2021 — final update  166114  1.618604e+09   \n",
       "28  A message to WSB from the Director of the Dian...  164432  1.615677e+09   \n",
       "29     Not sure if anyone posted this here, but yikes  160016  1.611874e+09   \n",
       "30                       GME YOLO update — Feb 2 2021  159887  1.612300e+09   \n",
       "31  Hey everyone, Its Mark Cuban. Jumping on to do...  158998  1.612277e+09   \n",
       "32  IMPORTANT!! THERE ARE NO SELLERS!!! DO NOT PAN...  158531  1.611849e+09   \n",
       "33                                      Doing my part  156229  1.611868e+09   \n",
       "34                       Our favourite analyst. 🚀🚀🙌💎🌕  155128  1.612036e+09   \n",
       "35                               Forever never dies 🥰  153593  1.612061e+09   \n",
       "36  In case you needed proof that there are impost...  152131  1.612217e+09   \n",
       "37                                           Mic drop  149211  1.611872e+09   \n",
       "38               GME YOLO month-end update — Feb 2021  148776  1.614374e+09   \n",
       "39                                        Fake news 🤣  148682  1.612200e+09   \n",
       "40  WSB PIONEER. FEARLESS BAG HOLDER. BETTER THAN ...  146894  1.611937e+09   \n",
       "41                    WSB, WHAT IS YOUR STRATEGY? 💎✋🚀  146355  1.611922e+09   \n",
       "42  GME YOLO update — Feb 3 2021 – heads up gonna ...  146076  1.612387e+09   \n",
       "43  Today, Interactive Brokers CEO admits that wit...  144955  1.613612e+09   \n",
       "44  If I can hold at -$10MM then you can hold too. 💎🙌  144715  1.611850e+09   \n",
       "45                              We are all the way up  144341  1.611879e+09   \n",
       "46  An Open Letter to Melvin Capital, CNBC, Boomer...  143864  1.611810e+09   \n",
       "47  GameStop gear going to the new home at the Chi...  142047  1.616935e+09   \n",
       "48  🔮WallStreetBets Predictions Tournament for Aug...  140111  1.661817e+09   \n",
       "49  I don't need Fox Business to hold me accountab...  140034  1.614287e+09   \n",
       "\n",
       "    upvote_ratio  num_comments sentiment_label  sentiment_score  \n",
       "0           0.99         13740        POSITIVE         0.991911  \n",
       "1           0.98         12933        POSITIVE         0.998546  \n",
       "2           0.98         23281        POSITIVE         0.989071  \n",
       "3           0.97         20203        POSITIVE         0.995209  \n",
       "4           0.98          4642        NEGATIVE         0.997330  \n",
       "5           0.87          1171        POSITIVE         0.995086  \n",
       "6           0.97         18064        NEGATIVE         0.999422  \n",
       "7           0.96         13047        POSITIVE         0.990049  \n",
       "8           0.89          1490        POSITIVE         0.994989  \n",
       "9           0.96         14861        NEGATIVE         0.999246  \n",
       "10          0.95         18328        POSITIVE         0.990743  \n",
       "11          0.97          5688        NEGATIVE         0.987643  \n",
       "12          0.93          7064        POSITIVE         0.998560  \n",
       "13          0.97          4593        NEGATIVE         0.975104  \n",
       "14          0.94          6878        POSITIVE         0.998867  \n",
       "15          0.98          2803        POSITIVE         0.994203  \n",
       "16          0.94          3835        POSITIVE         0.998362  \n",
       "17          0.97          2391        POSITIVE         0.998484  \n",
       "18          0.90          3492        POSITIVE         0.994613  \n",
       "19          0.87          5362        POSITIVE         0.998489  \n",
       "20          0.94          4382        POSITIVE         0.997738  \n",
       "21          0.96          2461        POSITIVE         0.998854  \n",
       "22          0.95          6490        NEGATIVE         0.990876  \n",
       "23          0.94          4156        NEGATIVE         0.575993  \n",
       "24          0.96          3757        POSITIVE         0.997810  \n",
       "25          0.94          8152        POSITIVE         0.989622  \n",
       "26          0.96          6730        NEGATIVE         0.990100  \n",
       "27          0.96         17685        POSITIVE         0.994772  \n",
       "28          0.93          5819        POSITIVE         0.995400  \n",
       "29          0.92          5787        NEGATIVE         0.997968  \n",
       "30          0.95         17668        POSITIVE         0.991043  \n",
       "31          0.91         26630        POSITIVE         0.998214  \n",
       "32          0.97          4965        POSITIVE         0.994282  \n",
       "33          0.97          2836        POSITIVE         0.997831  \n",
       "34          0.95          4125        POSITIVE         0.998733  \n",
       "35          0.91          2793        POSITIVE         0.997882  \n",
       "36          0.93          5944        NEGATIVE         0.999354  \n",
       "37          0.97          1831        NEGATIVE         0.998790  \n",
       "38          0.94          7741        POSITIVE         0.994716  \n",
       "39          0.92          6085        NEGATIVE         0.999247  \n",
       "40          0.94          5836        POSITIVE         0.995709  \n",
       "41          0.96          5199        POSITIVE         0.998405  \n",
       "42          0.95         10066        NEGATIVE         0.993736  \n",
       "43          0.93          7917        NEGATIVE         0.997467  \n",
       "44          0.96          7041        POSITIVE         0.997944  \n",
       "45          0.97          1990        POSITIVE         0.997764  \n",
       "46          0.93          7717        POSITIVE         0.991787  \n",
       "47          0.89          2390        POSITIVE         0.997865  \n",
       "48          0.90           745        POSITIVE         0.995066  \n",
       "49          0.94          2469        POSITIVE         0.996576  "
      ]
     },
     "execution_count": 106,
     "metadata": {},
     "output_type": "execute_result"
    }
   ],
   "source": [
    "# Plot sentiment of post titles for top 50 posts\n",
    "subr = get_subreddit('wallstreetbets')\n",
    "n = 50\n",
    "top_n_posts = list(subr.top(limit=n))\n",
    "top_n_post_sentiments = sentiment_model([p.title for p in top_n_posts])\n",
    "# Create df\n",
    "attributes = ['title', 'score', 'created_utc', 'upvote_ratio', 'num_comments']\n",
    "post_df = pd.DataFrame([[getattr(t, atr) for atr in attributes] + [sent['label'], sent['score']] for t, sent in zip(top_n_posts, top_n_post_sentiments)], columns=attributes + ['sentiment_label', 'sentiment_score'])\n",
    "post_df.head(1), post_df.describe()"
   ]
  },
  {
   "cell_type": "code",
   "execution_count": 108,
   "metadata": {
    "ExecuteTime": {
     "end_time": "2022-11-05T12:41:26.499309Z",
     "start_time": "2022-11-05T12:41:26.475673Z"
    }
   },
   "outputs": [
    {
     "data": {
      "text/html": [
       "<div>\n",
       "<style scoped>\n",
       "    .dataframe tbody tr th:only-of-type {\n",
       "        vertical-align: middle;\n",
       "    }\n",
       "\n",
       "    .dataframe tbody tr th {\n",
       "        vertical-align: top;\n",
       "    }\n",
       "\n",
       "    .dataframe thead th {\n",
       "        text-align: right;\n",
       "    }\n",
       "</style>\n",
       "<table border=\"1\" class=\"dataframe\">\n",
       "  <thead>\n",
       "    <tr style=\"text-align: right;\">\n",
       "      <th></th>\n",
       "      <th>score</th>\n",
       "      <th>created_utc</th>\n",
       "      <th>upvote_ratio</th>\n",
       "      <th>num_comments</th>\n",
       "      <th>sentiment_score</th>\n",
       "      <th>log_score</th>\n",
       "      <th>log_sentiment_score</th>\n",
       "    </tr>\n",
       "  </thead>\n",
       "  <tbody>\n",
       "    <tr>\n",
       "      <th>count</th>\n",
       "      <td>50.000000</td>\n",
       "      <td>5.000000e+01</td>\n",
       "      <td>50.000000</td>\n",
       "      <td>50.000000</td>\n",
       "      <td>50.000000</td>\n",
       "      <td>50.000000</td>\n",
       "      <td>50.000000</td>\n",
       "    </tr>\n",
       "    <tr>\n",
       "      <th>mean</th>\n",
       "      <td>187368.240000</td>\n",
       "      <td>1.615662e+09</td>\n",
       "      <td>0.944400</td>\n",
       "      <td>7625.460000</td>\n",
       "      <td>0.986949</td>\n",
       "      <td>17.467437</td>\n",
       "      <td>-0.022540</td>\n",
       "    </tr>\n",
       "    <tr>\n",
       "      <th>std</th>\n",
       "      <td>57629.828718</td>\n",
       "      <td>1.253210e+07</td>\n",
       "      <td>0.028867</td>\n",
       "      <td>6149.130797</td>\n",
       "      <td>0.059463</td>\n",
       "      <td>0.350560</td>\n",
       "      <td>0.111778</td>\n",
       "    </tr>\n",
       "    <tr>\n",
       "      <th>min</th>\n",
       "      <td>140034.000000</td>\n",
       "      <td>1.611782e+09</td>\n",
       "      <td>0.870000</td>\n",
       "      <td>745.000000</td>\n",
       "      <td>0.575993</td>\n",
       "      <td>17.095418</td>\n",
       "      <td>-0.795878</td>\n",
       "    </tr>\n",
       "    <tr>\n",
       "      <th>25%</th>\n",
       "      <td>149941.000000</td>\n",
       "      <td>1.611871e+09</td>\n",
       "      <td>0.930000</td>\n",
       "      <td>3558.250000</td>\n",
       "      <td>0.993853</td>\n",
       "      <td>17.193984</td>\n",
       "      <td>-0.008896</td>\n",
       "    </tr>\n",
       "    <tr>\n",
       "      <th>50%</th>\n",
       "      <td>170831.500000</td>\n",
       "      <td>1.611971e+09</td>\n",
       "      <td>0.950000</td>\n",
       "      <td>5803.000000</td>\n",
       "      <td>0.996953</td>\n",
       "      <td>17.382178</td>\n",
       "      <td>-0.004403</td>\n",
       "    </tr>\n",
       "    <tr>\n",
       "      <th>75%</th>\n",
       "      <td>210098.500000</td>\n",
       "      <td>1.612304e+09</td>\n",
       "      <td>0.970000</td>\n",
       "      <td>8093.250000</td>\n",
       "      <td>0.998394</td>\n",
       "      <td>17.679967</td>\n",
       "      <td>-0.002319</td>\n",
       "    </tr>\n",
       "    <tr>\n",
       "      <th>max</th>\n",
       "      <td>470591.000000</td>\n",
       "      <td>1.667023e+09</td>\n",
       "      <td>0.990000</td>\n",
       "      <td>26630.000000</td>\n",
       "      <td>0.999422</td>\n",
       "      <td>18.844114</td>\n",
       "      <td>-0.000834</td>\n",
       "    </tr>\n",
       "  </tbody>\n",
       "</table>\n",
       "</div>"
      ],
      "text/plain": [
       "               score   created_utc  upvote_ratio  num_comments  \\\n",
       "count      50.000000  5.000000e+01     50.000000     50.000000   \n",
       "mean   187368.240000  1.615662e+09      0.944400   7625.460000   \n",
       "std     57629.828718  1.253210e+07      0.028867   6149.130797   \n",
       "min    140034.000000  1.611782e+09      0.870000    745.000000   \n",
       "25%    149941.000000  1.611871e+09      0.930000   3558.250000   \n",
       "50%    170831.500000  1.611971e+09      0.950000   5803.000000   \n",
       "75%    210098.500000  1.612304e+09      0.970000   8093.250000   \n",
       "max    470591.000000  1.667023e+09      0.990000  26630.000000   \n",
       "\n",
       "       sentiment_score  log_score  log_sentiment_score  \n",
       "count        50.000000  50.000000            50.000000  \n",
       "mean          0.986949  17.467437            -0.022540  \n",
       "std           0.059463   0.350560             0.111778  \n",
       "min           0.575993  17.095418            -0.795878  \n",
       "25%           0.993853  17.193984            -0.008896  \n",
       "50%           0.996953  17.382178            -0.004403  \n",
       "75%           0.998394  17.679967            -0.002319  \n",
       "max           0.999422  18.844114            -0.000834  "
      ]
     },
     "execution_count": 108,
     "metadata": {},
     "output_type": "execute_result"
    }
   ],
   "source": [
    "# Add extra features\n",
    "post_df['log_score'] = np.log2(post_df['score'])\n",
    "post_df['log_sentiment_score'] = np.log2(post_df['sentiment_score'])\n",
    "post_df.describe()"
   ]
  },
  {
   "cell_type": "code",
   "execution_count": 117,
   "metadata": {
    "ExecuteTime": {
     "end_time": "2022-11-05T12:43:40.324418Z",
     "start_time": "2022-11-05T12:43:40.188399Z"
    }
   },
   "outputs": [
    {
     "data": {
      "text/plain": [
       "<AxesSubplot:xlabel='upvote_ratio', ylabel='sentiment_score'>"
      ]
     },
     "execution_count": 117,
     "metadata": {},
     "output_type": "execute_result"
    },
    {
     "data": {
      "image/png": "[encoded data removed]",
      "text/plain": [
       "<Figure size 432x288 with 1 Axes>"
      ]
     },
     "metadata": {
      "needs_background": "light"
     },
     "output_type": "display_data"
    }
   ],
   "source": [
    "sns.scatterplot(x=post_df['upvote_ratio'], y=post_df['sentiment_score'], hue=post_df['sentiment_label'], palette=['green', 'red'])"
   ]
  },
  {
   "cell_type": "code",
   "execution_count": 121,
   "metadata": {
    "ExecuteTime": {
     "end_time": "2022-11-05T13:03:32.410708Z",
     "start_time": "2022-11-05T13:03:32.395979Z"
    }
   },
   "outputs": [
    {
     "data": {
      "text/plain": [
       "('Someone needs to open a GameStop across the ny stock exchange 💎🙌',\n",
       " 'I think we all will get that tattoo. And forever that brand will be a reminder to never doubt that retards are capable of achieving the retarded.')"
      ]
     },
     "execution_count": 121,
     "metadata": {},
     "output_type": "execute_result"
    }
   ],
   "source": [
    "# Plot the same for comments\n",
    "import concurrent.futures  # Use multi threading for speed\n",
    "def get_toplevel_comments(submission):\n",
    "    return [top_level_comment.body for top_level_comment in submission.comments if not isinstance(top_level_comment, MoreComments)]\n",
    "\n",
    "top_n_comments = []\n",
    "with concurrent.futures.ThreadPoolExecutor(max_workers=7) as tpe:\n",
    "    for post_idx, comments in enumerate(tpe.map(get_toplevel_comments, top_n_posts)):\n",
    "#         print(f\"Done with {post_idx}\")\n",
    "        top_n_comments.append(comments)\n",
    "top_n_comments[0][0], top_n_comments[-1][-1]"
   ]
  },
  {
   "cell_type": "code",
   "execution_count": 126,
   "metadata": {
    "ExecuteTime": {
     "end_time": "2022-11-05T13:17:12.794037Z",
     "start_time": "2022-11-05T13:12:51.742671Z"
    },
    "scrolled": true
   },
   "outputs": [
    {
     "ename": "RuntimeError",
     "evalue": "The expanded size of the tensor (1508) must match the existing size (514) at non-singleton dimension 1.  Target sizes: [1, 1508].  Tensor sizes: [1, 514]",
     "output_type": "error",
     "traceback": [
      "\u001b[0;31m---------------------------------------------------------------------------\u001b[0m",
      "\u001b[0;31mRuntimeError\u001b[0m                              Traceback (most recent call last)",
      "\u001b[0;32m/tmp/ipykernel_29095/1257412398.py\u001b[0m in \u001b[0;36m<module>\u001b[0;34m\u001b[0m\n\u001b[1;32m      4\u001b[0m \u001b[0;31m# sentiment_model will automatically use multiple cores so no need to use a Thread/Process Pool\u001b[0m\u001b[0;34m\u001b[0m\u001b[0;34m\u001b[0m\u001b[0m\n\u001b[1;32m      5\u001b[0m \u001b[0;32mfor\u001b[0m \u001b[0mpost_idx\u001b[0m\u001b[0;34m,\u001b[0m \u001b[0mcomments\u001b[0m \u001b[0;32min\u001b[0m \u001b[0menumerate\u001b[0m\u001b[0;34m(\u001b[0m\u001b[0mtop_n_comments\u001b[0m\u001b[0;34m)\u001b[0m\u001b[0;34m:\u001b[0m\u001b[0;34m\u001b[0m\u001b[0;34m\u001b[0m\u001b[0m\n\u001b[0;32m----> 6\u001b[0;31m     \u001b[0mtop_n_comments_sentiments\u001b[0m\u001b[0;34m.\u001b[0m\u001b[0mappend\u001b[0m\u001b[0;34m(\u001b[0m\u001b[0msentiment_model\u001b[0m\u001b[0;34m(\u001b[0m\u001b[0;34m[\u001b[0m\u001b[0mc\u001b[0m\u001b[0;34m[\u001b[0m\u001b[0;34m:\u001b[0m\u001b[0mmax_seq_length\u001b[0m\u001b[0;34m]\u001b[0m \u001b[0;32mfor\u001b[0m \u001b[0mc\u001b[0m \u001b[0;32min\u001b[0m \u001b[0mcomments\u001b[0m\u001b[0;34m[\u001b[0m\u001b[0;34m:\u001b[0m\u001b[0mmax_comments\u001b[0m\u001b[0;34m]\u001b[0m\u001b[0;34m]\u001b[0m\u001b[0;34m)\u001b[0m\u001b[0;34m)\u001b[0m\u001b[0;34m\u001b[0m\u001b[0;34m\u001b[0m\u001b[0m\n\u001b[0m\u001b[1;32m      7\u001b[0m \u001b[0mtop_n_comments_sentiments\u001b[0m\u001b[0;34m[\u001b[0m\u001b[0;36m0\u001b[0m\u001b[0;34m]\u001b[0m\u001b[0;34m[\u001b[0m\u001b[0;34m:\u001b[0m\u001b[0;36m5\u001b[0m\u001b[0;34m]\u001b[0m\u001b[0;34m\u001b[0m\u001b[0;34m\u001b[0m\u001b[0m\n",
      "\u001b[0;32m~/anaconda3/lib/python3.9/site-packages/transformers/pipelines/text_classification.py\u001b[0m in \u001b[0;36m__call__\u001b[0;34m(self, *args, **kwargs)\u001b[0m\n\u001b[1;32m    138\u001b[0m             \u001b[0mIf\u001b[0m\u001b[0;31m \u001b[0m\u001b[0;31m`\u001b[0m\u001b[0mtop_k\u001b[0m\u001b[0;31m`\u001b[0m \u001b[0;32mis\u001b[0m \u001b[0mused\u001b[0m\u001b[0;34m,\u001b[0m \u001b[0mone\u001b[0m \u001b[0msuch\u001b[0m \u001b[0mdictionary\u001b[0m \u001b[0;32mis\u001b[0m \u001b[0mreturned\u001b[0m \u001b[0mper\u001b[0m \u001b[0mlabel\u001b[0m\u001b[0;34m.\u001b[0m\u001b[0;34m\u001b[0m\u001b[0;34m\u001b[0m\u001b[0m\n\u001b[1;32m    139\u001b[0m         \"\"\"\n\u001b[0;32m--> 140\u001b[0;31m         \u001b[0mresult\u001b[0m \u001b[0;34m=\u001b[0m \u001b[0msuper\u001b[0m\u001b[0;34m(\u001b[0m\u001b[0;34m)\u001b[0m\u001b[0;34m.\u001b[0m\u001b[0m__call__\u001b[0m\u001b[0;34m(\u001b[0m\u001b[0;34m*\u001b[0m\u001b[0margs\u001b[0m\u001b[0;34m,\u001b[0m \u001b[0;34m**\u001b[0m\u001b[0mkwargs\u001b[0m\u001b[0;34m)\u001b[0m\u001b[0;34m\u001b[0m\u001b[0;34m\u001b[0m\u001b[0m\n\u001b[0m\u001b[1;32m    141\u001b[0m         \u001b[0;31m# TODO try and retrieve it in a nicer way from _sanitize_parameters.\u001b[0m\u001b[0;34m\u001b[0m\u001b[0;34m\u001b[0m\u001b[0m\n\u001b[1;32m    142\u001b[0m         \u001b[0m_legacy\u001b[0m \u001b[0;34m=\u001b[0m \u001b[0;34m\"top_k\"\u001b[0m \u001b[0;32mnot\u001b[0m \u001b[0;32min\u001b[0m \u001b[0mkwargs\u001b[0m\u001b[0;34m\u001b[0m\u001b[0;34m\u001b[0m\u001b[0m\n",
      "\u001b[0;32m~/anaconda3/lib/python3.9/site-packages/transformers/pipelines/base.py\u001b[0m in \u001b[0;36m__call__\u001b[0;34m(self, inputs, num_workers, batch_size, *args, **kwargs)\u001b[0m\n\u001b[1;32m   1061\u001b[0m                     \u001b[0minputs\u001b[0m\u001b[0;34m,\u001b[0m \u001b[0mnum_workers\u001b[0m\u001b[0;34m,\u001b[0m \u001b[0mbatch_size\u001b[0m\u001b[0;34m,\u001b[0m \u001b[0mpreprocess_params\u001b[0m\u001b[0;34m,\u001b[0m \u001b[0mforward_params\u001b[0m\u001b[0;34m,\u001b[0m \u001b[0mpostprocess_params\u001b[0m\u001b[0;34m\u001b[0m\u001b[0;34m\u001b[0m\u001b[0m\n\u001b[1;32m   1062\u001b[0m                 )\n\u001b[0;32m-> 1063\u001b[0;31m                 \u001b[0moutputs\u001b[0m \u001b[0;34m=\u001b[0m \u001b[0;34m[\u001b[0m\u001b[0moutput\u001b[0m \u001b[0;32mfor\u001b[0m \u001b[0moutput\u001b[0m \u001b[0;32min\u001b[0m \u001b[0mfinal_iterator\u001b[0m\u001b[0;34m]\u001b[0m\u001b[0;34m\u001b[0m\u001b[0;34m\u001b[0m\u001b[0m\n\u001b[0m\u001b[1;32m   1064\u001b[0m                 \u001b[0;32mreturn\u001b[0m \u001b[0moutputs\u001b[0m\u001b[0;34m\u001b[0m\u001b[0;34m\u001b[0m\u001b[0m\n\u001b[1;32m   1065\u001b[0m             \u001b[0;32melse\u001b[0m\u001b[0;34m:\u001b[0m\u001b[0;34m\u001b[0m\u001b[0;34m\u001b[0m\u001b[0m\n",
      "\u001b[0;32m~/anaconda3/lib/python3.9/site-packages/transformers/pipelines/base.py\u001b[0m in \u001b[0;36m<listcomp>\u001b[0;34m(.0)\u001b[0m\n\u001b[1;32m   1061\u001b[0m                     \u001b[0minputs\u001b[0m\u001b[0;34m,\u001b[0m \u001b[0mnum_workers\u001b[0m\u001b[0;34m,\u001b[0m \u001b[0mbatch_size\u001b[0m\u001b[0;34m,\u001b[0m \u001b[0mpreprocess_params\u001b[0m\u001b[0;34m,\u001b[0m \u001b[0mforward_params\u001b[0m\u001b[0;34m,\u001b[0m \u001b[0mpostprocess_params\u001b[0m\u001b[0;34m\u001b[0m\u001b[0;34m\u001b[0m\u001b[0m\n\u001b[1;32m   1062\u001b[0m                 )\n\u001b[0;32m-> 1063\u001b[0;31m                 \u001b[0moutputs\u001b[0m \u001b[0;34m=\u001b[0m \u001b[0;34m[\u001b[0m\u001b[0moutput\u001b[0m \u001b[0;32mfor\u001b[0m \u001b[0moutput\u001b[0m \u001b[0;32min\u001b[0m \u001b[0mfinal_iterator\u001b[0m\u001b[0;34m]\u001b[0m\u001b[0;34m\u001b[0m\u001b[0;34m\u001b[0m\u001b[0m\n\u001b[0m\u001b[1;32m   1064\u001b[0m                 \u001b[0;32mreturn\u001b[0m \u001b[0moutputs\u001b[0m\u001b[0;34m\u001b[0m\u001b[0;34m\u001b[0m\u001b[0m\n\u001b[1;32m   1065\u001b[0m             \u001b[0;32melse\u001b[0m\u001b[0;34m:\u001b[0m\u001b[0;34m\u001b[0m\u001b[0;34m\u001b[0m\u001b[0m\n",
      "\u001b[0;32m~/anaconda3/lib/python3.9/site-packages/transformers/pipelines/pt_utils.py\u001b[0m in \u001b[0;36m__next__\u001b[0;34m(self)\u001b[0m\n\u001b[1;32m    112\u001b[0m \u001b[0;34m\u001b[0m\u001b[0m\n\u001b[1;32m    113\u001b[0m         \u001b[0;31m# We're out of items within a batch\u001b[0m\u001b[0;34m\u001b[0m\u001b[0;34m\u001b[0m\u001b[0m\n\u001b[0;32m--> 114\u001b[0;31m         \u001b[0mitem\u001b[0m \u001b[0;34m=\u001b[0m \u001b[0mnext\u001b[0m\u001b[0;34m(\u001b[0m\u001b[0mself\u001b[0m\u001b[0;34m.\u001b[0m\u001b[0miterator\u001b[0m\u001b[0;34m)\u001b[0m\u001b[0;34m\u001b[0m\u001b[0;34m\u001b[0m\u001b[0m\n\u001b[0m\u001b[1;32m    115\u001b[0m         \u001b[0mprocessed\u001b[0m \u001b[0;34m=\u001b[0m \u001b[0mself\u001b[0m\u001b[0;34m.\u001b[0m\u001b[0minfer\u001b[0m\u001b[0;34m(\u001b[0m\u001b[0mitem\u001b[0m\u001b[0;34m,\u001b[0m \u001b[0;34m**\u001b[0m\u001b[0mself\u001b[0m\u001b[0;34m.\u001b[0m\u001b[0mparams\u001b[0m\u001b[0;34m)\u001b[0m\u001b[0;34m\u001b[0m\u001b[0;34m\u001b[0m\u001b[0m\n\u001b[1;32m    116\u001b[0m         \u001b[0;31m# We now have a batch of \"inferred things\".\u001b[0m\u001b[0;34m\u001b[0m\u001b[0;34m\u001b[0m\u001b[0m\n",
      "\u001b[0;32m~/anaconda3/lib/python3.9/site-packages/transformers/pipelines/pt_utils.py\u001b[0m in \u001b[0;36m__next__\u001b[0;34m(self)\u001b[0m\n\u001b[1;32m    113\u001b[0m         \u001b[0;31m# We're out of items within a batch\u001b[0m\u001b[0;34m\u001b[0m\u001b[0;34m\u001b[0m\u001b[0m\n\u001b[1;32m    114\u001b[0m         \u001b[0mitem\u001b[0m \u001b[0;34m=\u001b[0m \u001b[0mnext\u001b[0m\u001b[0;34m(\u001b[0m\u001b[0mself\u001b[0m\u001b[0;34m.\u001b[0m\u001b[0miterator\u001b[0m\u001b[0;34m)\u001b[0m\u001b[0;34m\u001b[0m\u001b[0;34m\u001b[0m\u001b[0m\n\u001b[0;32m--> 115\u001b[0;31m         \u001b[0mprocessed\u001b[0m \u001b[0;34m=\u001b[0m \u001b[0mself\u001b[0m\u001b[0;34m.\u001b[0m\u001b[0minfer\u001b[0m\u001b[0;34m(\u001b[0m\u001b[0mitem\u001b[0m\u001b[0;34m,\u001b[0m \u001b[0;34m**\u001b[0m\u001b[0mself\u001b[0m\u001b[0;34m.\u001b[0m\u001b[0mparams\u001b[0m\u001b[0;34m)\u001b[0m\u001b[0;34m\u001b[0m\u001b[0;34m\u001b[0m\u001b[0m\n\u001b[0m\u001b[1;32m    116\u001b[0m         \u001b[0;31m# We now have a batch of \"inferred things\".\u001b[0m\u001b[0;34m\u001b[0m\u001b[0;34m\u001b[0m\u001b[0m\n\u001b[1;32m    117\u001b[0m         \u001b[0;32mif\u001b[0m \u001b[0mself\u001b[0m\u001b[0;34m.\u001b[0m\u001b[0mloader_batch_size\u001b[0m \u001b[0;32mis\u001b[0m \u001b[0;32mnot\u001b[0m \u001b[0;32mNone\u001b[0m\u001b[0;34m:\u001b[0m\u001b[0;34m\u001b[0m\u001b[0;34m\u001b[0m\u001b[0m\n",
      "\u001b[0;32m~/anaconda3/lib/python3.9/site-packages/transformers/pipelines/base.py\u001b[0m in \u001b[0;36mforward\u001b[0;34m(self, model_inputs, **forward_params)\u001b[0m\n\u001b[1;32m    988\u001b[0m                 \u001b[0;32mwith\u001b[0m \u001b[0minference_context\u001b[0m\u001b[0;34m(\u001b[0m\u001b[0;34m)\u001b[0m\u001b[0;34m:\u001b[0m\u001b[0;34m\u001b[0m\u001b[0;34m\u001b[0m\u001b[0m\n\u001b[1;32m    989\u001b[0m                     \u001b[0mmodel_inputs\u001b[0m \u001b[0;34m=\u001b[0m \u001b[0mself\u001b[0m\u001b[0;34m.\u001b[0m\u001b[0m_ensure_tensor_on_device\u001b[0m\u001b[0;34m(\u001b[0m\u001b[0mmodel_inputs\u001b[0m\u001b[0;34m,\u001b[0m \u001b[0mdevice\u001b[0m\u001b[0;34m=\u001b[0m\u001b[0mself\u001b[0m\u001b[0;34m.\u001b[0m\u001b[0mdevice\u001b[0m\u001b[0;34m)\u001b[0m\u001b[0;34m\u001b[0m\u001b[0;34m\u001b[0m\u001b[0m\n\u001b[0;32m--> 990\u001b[0;31m                     \u001b[0mmodel_outputs\u001b[0m \u001b[0;34m=\u001b[0m \u001b[0mself\u001b[0m\u001b[0;34m.\u001b[0m\u001b[0m_forward\u001b[0m\u001b[0;34m(\u001b[0m\u001b[0mmodel_inputs\u001b[0m\u001b[0;34m,\u001b[0m \u001b[0;34m**\u001b[0m\u001b[0mforward_params\u001b[0m\u001b[0;34m)\u001b[0m\u001b[0;34m\u001b[0m\u001b[0;34m\u001b[0m\u001b[0m\n\u001b[0m\u001b[1;32m    991\u001b[0m                     \u001b[0mmodel_outputs\u001b[0m \u001b[0;34m=\u001b[0m \u001b[0mself\u001b[0m\u001b[0;34m.\u001b[0m\u001b[0m_ensure_tensor_on_device\u001b[0m\u001b[0;34m(\u001b[0m\u001b[0mmodel_outputs\u001b[0m\u001b[0;34m,\u001b[0m \u001b[0mdevice\u001b[0m\u001b[0;34m=\u001b[0m\u001b[0mtorch\u001b[0m\u001b[0;34m.\u001b[0m\u001b[0mdevice\u001b[0m\u001b[0;34m(\u001b[0m\u001b[0;34m\"cpu\"\u001b[0m\u001b[0;34m)\u001b[0m\u001b[0;34m)\u001b[0m\u001b[0;34m\u001b[0m\u001b[0;34m\u001b[0m\u001b[0m\n\u001b[1;32m    992\u001b[0m             \u001b[0;32melse\u001b[0m\u001b[0;34m:\u001b[0m\u001b[0;34m\u001b[0m\u001b[0;34m\u001b[0m\u001b[0m\n",
      "\u001b[0;32m~/anaconda3/lib/python3.9/site-packages/transformers/pipelines/text_classification.py\u001b[0m in \u001b[0;36m_forward\u001b[0;34m(self, model_inputs)\u001b[0m\n\u001b[1;32m    165\u001b[0m \u001b[0;34m\u001b[0m\u001b[0m\n\u001b[1;32m    166\u001b[0m     \u001b[0;32mdef\u001b[0m \u001b[0m_forward\u001b[0m\u001b[0;34m(\u001b[0m\u001b[0mself\u001b[0m\u001b[0;34m,\u001b[0m \u001b[0mmodel_inputs\u001b[0m\u001b[0;34m)\u001b[0m\u001b[0;34m:\u001b[0m\u001b[0;34m\u001b[0m\u001b[0;34m\u001b[0m\u001b[0m\n\u001b[0;32m--> 167\u001b[0;31m         \u001b[0;32mreturn\u001b[0m \u001b[0mself\u001b[0m\u001b[0;34m.\u001b[0m\u001b[0mmodel\u001b[0m\u001b[0;34m(\u001b[0m\u001b[0;34m**\u001b[0m\u001b[0mmodel_inputs\u001b[0m\u001b[0;34m)\u001b[0m\u001b[0;34m\u001b[0m\u001b[0;34m\u001b[0m\u001b[0m\n\u001b[0m\u001b[1;32m    168\u001b[0m \u001b[0;34m\u001b[0m\u001b[0m\n\u001b[1;32m    169\u001b[0m     \u001b[0;32mdef\u001b[0m \u001b[0mpostprocess\u001b[0m\u001b[0;34m(\u001b[0m\u001b[0mself\u001b[0m\u001b[0;34m,\u001b[0m \u001b[0mmodel_outputs\u001b[0m\u001b[0;34m,\u001b[0m \u001b[0mfunction_to_apply\u001b[0m\u001b[0;34m=\u001b[0m\u001b[0;32mNone\u001b[0m\u001b[0;34m,\u001b[0m \u001b[0mtop_k\u001b[0m\u001b[0;34m=\u001b[0m\u001b[0;36m1\u001b[0m\u001b[0;34m,\u001b[0m \u001b[0m_legacy\u001b[0m\u001b[0;34m=\u001b[0m\u001b[0;32mTrue\u001b[0m\u001b[0;34m)\u001b[0m\u001b[0;34m:\u001b[0m\u001b[0;34m\u001b[0m\u001b[0;34m\u001b[0m\u001b[0m\n",
      "\u001b[0;32m~/anaconda3/lib/python3.9/site-packages/torch/nn/modules/module.py\u001b[0m in \u001b[0;36m_call_impl\u001b[0;34m(self, *input, **kwargs)\u001b[0m\n\u001b[1;32m   1128\u001b[0m         if not (self._backward_hooks or self._forward_hooks or self._forward_pre_hooks or _global_backward_hooks\n\u001b[1;32m   1129\u001b[0m                 or _global_forward_hooks or _global_forward_pre_hooks):\n\u001b[0;32m-> 1130\u001b[0;31m             \u001b[0;32mreturn\u001b[0m \u001b[0mforward_call\u001b[0m\u001b[0;34m(\u001b[0m\u001b[0;34m*\u001b[0m\u001b[0minput\u001b[0m\u001b[0;34m,\u001b[0m \u001b[0;34m**\u001b[0m\u001b[0mkwargs\u001b[0m\u001b[0;34m)\u001b[0m\u001b[0;34m\u001b[0m\u001b[0;34m\u001b[0m\u001b[0m\n\u001b[0m\u001b[1;32m   1131\u001b[0m         \u001b[0;31m# Do not call functions when jit is used\u001b[0m\u001b[0;34m\u001b[0m\u001b[0;34m\u001b[0m\u001b[0m\n\u001b[1;32m   1132\u001b[0m         \u001b[0mfull_backward_hooks\u001b[0m\u001b[0;34m,\u001b[0m \u001b[0mnon_full_backward_hooks\u001b[0m \u001b[0;34m=\u001b[0m \u001b[0;34m[\u001b[0m\u001b[0;34m]\u001b[0m\u001b[0;34m,\u001b[0m \u001b[0;34m[\u001b[0m\u001b[0;34m]\u001b[0m\u001b[0;34m\u001b[0m\u001b[0;34m\u001b[0m\u001b[0m\n",
      "\u001b[0;32m~/anaconda3/lib/python3.9/site-packages/transformers/models/roberta/modeling_roberta.py\u001b[0m in \u001b[0;36mforward\u001b[0;34m(self, input_ids, attention_mask, token_type_ids, position_ids, head_mask, inputs_embeds, labels, output_attentions, output_hidden_states, return_dict)\u001b[0m\n\u001b[1;32m   1206\u001b[0m         \u001b[0mreturn_dict\u001b[0m \u001b[0;34m=\u001b[0m \u001b[0mreturn_dict\u001b[0m \u001b[0;32mif\u001b[0m \u001b[0mreturn_dict\u001b[0m \u001b[0;32mis\u001b[0m \u001b[0;32mnot\u001b[0m \u001b[0;32mNone\u001b[0m \u001b[0;32melse\u001b[0m \u001b[0mself\u001b[0m\u001b[0;34m.\u001b[0m\u001b[0mconfig\u001b[0m\u001b[0;34m.\u001b[0m\u001b[0muse_return_dict\u001b[0m\u001b[0;34m\u001b[0m\u001b[0;34m\u001b[0m\u001b[0m\n\u001b[1;32m   1207\u001b[0m \u001b[0;34m\u001b[0m\u001b[0m\n\u001b[0;32m-> 1208\u001b[0;31m         outputs = self.roberta(\n\u001b[0m\u001b[1;32m   1209\u001b[0m             \u001b[0minput_ids\u001b[0m\u001b[0;34m,\u001b[0m\u001b[0;34m\u001b[0m\u001b[0;34m\u001b[0m\u001b[0m\n\u001b[1;32m   1210\u001b[0m             \u001b[0mattention_mask\u001b[0m\u001b[0;34m=\u001b[0m\u001b[0mattention_mask\u001b[0m\u001b[0;34m,\u001b[0m\u001b[0;34m\u001b[0m\u001b[0;34m\u001b[0m\u001b[0m\n",
      "\u001b[0;32m~/anaconda3/lib/python3.9/site-packages/torch/nn/modules/module.py\u001b[0m in \u001b[0;36m_call_impl\u001b[0;34m(self, *input, **kwargs)\u001b[0m\n\u001b[1;32m   1128\u001b[0m         if not (self._backward_hooks or self._forward_hooks or self._forward_pre_hooks or _global_backward_hooks\n\u001b[1;32m   1129\u001b[0m                 or _global_forward_hooks or _global_forward_pre_hooks):\n\u001b[0;32m-> 1130\u001b[0;31m             \u001b[0;32mreturn\u001b[0m \u001b[0mforward_call\u001b[0m\u001b[0;34m(\u001b[0m\u001b[0;34m*\u001b[0m\u001b[0minput\u001b[0m\u001b[0;34m,\u001b[0m \u001b[0;34m**\u001b[0m\u001b[0mkwargs\u001b[0m\u001b[0;34m)\u001b[0m\u001b[0;34m\u001b[0m\u001b[0;34m\u001b[0m\u001b[0m\n\u001b[0m\u001b[1;32m   1131\u001b[0m         \u001b[0;31m# Do not call functions when jit is used\u001b[0m\u001b[0;34m\u001b[0m\u001b[0;34m\u001b[0m\u001b[0m\n\u001b[1;32m   1132\u001b[0m         \u001b[0mfull_backward_hooks\u001b[0m\u001b[0;34m,\u001b[0m \u001b[0mnon_full_backward_hooks\u001b[0m \u001b[0;34m=\u001b[0m \u001b[0;34m[\u001b[0m\u001b[0;34m]\u001b[0m\u001b[0;34m,\u001b[0m \u001b[0;34m[\u001b[0m\u001b[0;34m]\u001b[0m\u001b[0;34m\u001b[0m\u001b[0;34m\u001b[0m\u001b[0m\n",
      "\u001b[0;32m~/anaconda3/lib/python3.9/site-packages/transformers/models/roberta/modeling_roberta.py\u001b[0m in \u001b[0;36mforward\u001b[0;34m(self, input_ids, attention_mask, token_type_ids, position_ids, head_mask, inputs_embeds, encoder_hidden_states, encoder_attention_mask, past_key_values, use_cache, output_attentions, output_hidden_states, return_dict)\u001b[0m\n\u001b[1;32m    810\u001b[0m             \u001b[0;32mif\u001b[0m \u001b[0mhasattr\u001b[0m\u001b[0;34m(\u001b[0m\u001b[0mself\u001b[0m\u001b[0;34m.\u001b[0m\u001b[0membeddings\u001b[0m\u001b[0;34m,\u001b[0m \u001b[0;34m\"token_type_ids\"\u001b[0m\u001b[0;34m)\u001b[0m\u001b[0;34m:\u001b[0m\u001b[0;34m\u001b[0m\u001b[0;34m\u001b[0m\u001b[0m\n\u001b[1;32m    811\u001b[0m                 \u001b[0mbuffered_token_type_ids\u001b[0m \u001b[0;34m=\u001b[0m \u001b[0mself\u001b[0m\u001b[0;34m.\u001b[0m\u001b[0membeddings\u001b[0m\u001b[0;34m.\u001b[0m\u001b[0mtoken_type_ids\u001b[0m\u001b[0;34m[\u001b[0m\u001b[0;34m:\u001b[0m\u001b[0;34m,\u001b[0m \u001b[0;34m:\u001b[0m\u001b[0mseq_length\u001b[0m\u001b[0;34m]\u001b[0m\u001b[0;34m\u001b[0m\u001b[0;34m\u001b[0m\u001b[0m\n\u001b[0;32m--> 812\u001b[0;31m                 \u001b[0mbuffered_token_type_ids_expanded\u001b[0m \u001b[0;34m=\u001b[0m \u001b[0mbuffered_token_type_ids\u001b[0m\u001b[0;34m.\u001b[0m\u001b[0mexpand\u001b[0m\u001b[0;34m(\u001b[0m\u001b[0mbatch_size\u001b[0m\u001b[0;34m,\u001b[0m \u001b[0mseq_length\u001b[0m\u001b[0;34m)\u001b[0m\u001b[0;34m\u001b[0m\u001b[0;34m\u001b[0m\u001b[0m\n\u001b[0m\u001b[1;32m    813\u001b[0m                 \u001b[0mtoken_type_ids\u001b[0m \u001b[0;34m=\u001b[0m \u001b[0mbuffered_token_type_ids_expanded\u001b[0m\u001b[0;34m\u001b[0m\u001b[0;34m\u001b[0m\u001b[0m\n\u001b[1;32m    814\u001b[0m             \u001b[0;32melse\u001b[0m\u001b[0;34m:\u001b[0m\u001b[0;34m\u001b[0m\u001b[0;34m\u001b[0m\u001b[0m\n",
      "\u001b[0;31mRuntimeError\u001b[0m: The expanded size of the tensor (1508) must match the existing size (514) at non-singleton dimension 1.  Target sizes: [1, 1508].  Tensor sizes: [1, 514]"
     ]
    }
   ],
   "source": [
    "top_n_comments_sentiments = []\n",
    "max_seq_length = 512\n",
    "max_comments = 514\n",
    "# sentiment_model will automatically use multiple cores so no need to use a Thread/Process Pool\n",
    "for post_idx, comments in enumerate(top_n_comments):\n",
    "    top_n_comments_sentiments.append(sentiment_model([c[:max_seq_length] for c in comments[:max_comments]]))\n",
    "top_n_comments_sentiments[0][:5]"
   ]
  },
  {
   "cell_type": "code",
   "execution_count": 135,
   "metadata": {
    "ExecuteTime": {
     "end_time": "2022-11-05T13:25:29.095174Z",
     "start_time": "2022-11-05T13:25:29.069721Z"
    }
   },
   "outputs": [
    {
     "data": {
      "text/plain": [
       "(   post_idx                                               body  \\\n",
       " 0         0  Someone needs to open a GameStop across the ny...   \n",
       " \n",
       "   sentiment_label  sentiment_score  \n",
       " 0        POSITIVE         0.996979  ,\n",
       "           post_idx  sentiment_score\n",
       " count  1262.000000      1262.000000\n",
       " mean      5.159271         0.991235\n",
       " std       2.578965         0.030822\n",
       " min       0.000000         0.536056\n",
       " 25%       3.000000         0.993899\n",
       " 50%       5.000000         0.997743\n",
       " 75%       8.000000         0.998624\n",
       " max       8.000000         0.999508)"
      ]
     },
     "execution_count": 135,
     "metadata": {},
     "output_type": "execute_result"
    }
   ],
   "source": [
    "# Create df\n",
    "comment_df = pd.DataFrame(\n",
    "    [\n",
    "        [p_idx, c_body, sent['label'], sent['score']]\n",
    "        for p_idx, (comments, sents) in enumerate(zip(top_n_comments, top_n_comments_sentiments))\n",
    "        for c_body, sent in zip(comments, sents)\n",
    "    ],\n",
    "    columns=['post_idx', 'body', 'sentiment_label', 'sentiment_score'],\n",
    ")\n",
    "comment_df.head(1), comment_df.describe()"
   ]
  },
  {
   "cell_type": "code",
   "execution_count": 140,
   "metadata": {
    "ExecuteTime": {
     "end_time": "2022-11-05T13:26:50.129328Z",
     "start_time": "2022-11-05T13:26:50.111356Z"
    }
   },
   "outputs": [
    {
     "data": {
      "text/html": [
       "<div>\n",
       "<style scoped>\n",
       "    .dataframe tbody tr th:only-of-type {\n",
       "        vertical-align: middle;\n",
       "    }\n",
       "\n",
       "    .dataframe tbody tr th {\n",
       "        vertical-align: top;\n",
       "    }\n",
       "\n",
       "    .dataframe thead th {\n",
       "        text-align: right;\n",
       "    }\n",
       "</style>\n",
       "<table border=\"1\" class=\"dataframe\">\n",
       "  <thead>\n",
       "    <tr style=\"text-align: right;\">\n",
       "      <th></th>\n",
       "      <th>body</th>\n",
       "      <th>sentiment_label_comment</th>\n",
       "      <th>sentiment_score_comment</th>\n",
       "      <th>title</th>\n",
       "      <th>score</th>\n",
       "      <th>created_utc</th>\n",
       "      <th>upvote_ratio</th>\n",
       "      <th>num_comments</th>\n",
       "      <th>sentiment_label_post</th>\n",
       "      <th>sentiment_score_post</th>\n",
       "      <th>log_score</th>\n",
       "      <th>log_sentiment_score</th>\n",
       "    </tr>\n",
       "  </thead>\n",
       "  <tbody>\n",
       "    <tr>\n",
       "      <th>0</th>\n",
       "      <td>Someone needs to open a GameStop across the ny...</td>\n",
       "      <td>POSITIVE</td>\n",
       "      <td>0.996979</td>\n",
       "      <td>Times Square right now</td>\n",
       "      <td>470591</td>\n",
       "      <td>1.612030e+09</td>\n",
       "      <td>0.99</td>\n",
       "      <td>13740</td>\n",
       "      <td>POSITIVE</td>\n",
       "      <td>0.991911</td>\n",
       "      <td>18.844114</td>\n",
       "      <td>-0.011718</td>\n",
       "    </tr>\n",
       "    <tr>\n",
       "      <th>0</th>\n",
       "      <td>Bro wtf... 2021 is crazy.</td>\n",
       "      <td>NEGATIVE</td>\n",
       "      <td>0.994540</td>\n",
       "      <td>Times Square right now</td>\n",
       "      <td>470591</td>\n",
       "      <td>1.612030e+09</td>\n",
       "      <td>0.99</td>\n",
       "      <td>13740</td>\n",
       "      <td>POSITIVE</td>\n",
       "      <td>0.991911</td>\n",
       "      <td>18.844114</td>\n",
       "      <td>-0.011718</td>\n",
       "    </tr>\n",
       "    <tr>\n",
       "      <th>0</th>\n",
       "      <td>This is the hype we need for next week!\\n\\nWE ...</td>\n",
       "      <td>POSITIVE</td>\n",
       "      <td>0.998700</td>\n",
       "      <td>Times Square right now</td>\n",
       "      <td>470591</td>\n",
       "      <td>1.612030e+09</td>\n",
       "      <td>0.99</td>\n",
       "      <td>13740</td>\n",
       "      <td>POSITIVE</td>\n",
       "      <td>0.991911</td>\n",
       "      <td>18.844114</td>\n",
       "      <td>-0.011718</td>\n",
       "    </tr>\n",
       "    <tr>\n",
       "      <th>0</th>\n",
       "      <td>This is easily one of the greatest things to h...</td>\n",
       "      <td>POSITIVE</td>\n",
       "      <td>0.998782</td>\n",
       "      <td>Times Square right now</td>\n",
       "      <td>470591</td>\n",
       "      <td>1.612030e+09</td>\n",
       "      <td>0.99</td>\n",
       "      <td>13740</td>\n",
       "      <td>POSITIVE</td>\n",
       "      <td>0.991911</td>\n",
       "      <td>18.844114</td>\n",
       "      <td>-0.011718</td>\n",
       "    </tr>\n",
       "    <tr>\n",
       "      <th>0</th>\n",
       "      <td>Just when you think this sub can't be any dumb...</td>\n",
       "      <td>NEGATIVE</td>\n",
       "      <td>0.998377</td>\n",
       "      <td>Times Square right now</td>\n",
       "      <td>470591</td>\n",
       "      <td>1.612030e+09</td>\n",
       "      <td>0.99</td>\n",
       "      <td>13740</td>\n",
       "      <td>POSITIVE</td>\n",
       "      <td>0.991911</td>\n",
       "      <td>18.844114</td>\n",
       "      <td>-0.011718</td>\n",
       "    </tr>\n",
       "    <tr>\n",
       "      <th>...</th>\n",
       "      <td>...</td>\n",
       "      <td>...</td>\n",
       "      <td>...</td>\n",
       "      <td>...</td>\n",
       "      <td>...</td>\n",
       "      <td>...</td>\n",
       "      <td>...</td>\n",
       "      <td>...</td>\n",
       "      <td>...</td>\n",
       "      <td>...</td>\n",
       "      <td>...</td>\n",
       "      <td>...</td>\n",
       "    </tr>\n",
       "    <tr>\n",
       "      <th>8</th>\n",
       "      <td>BABOONS ASS RED HOLMES 🙊 🩸</td>\n",
       "      <td>POSITIVE</td>\n",
       "      <td>0.996992</td>\n",
       "      <td>🔮WallStreetBets Predictions Tournament for Sep...</td>\n",
       "      <td>216657</td>\n",
       "      <td>1.664412e+09</td>\n",
       "      <td>0.89</td>\n",
       "      <td>1490</td>\n",
       "      <td>POSITIVE</td>\n",
       "      <td>0.994989</td>\n",
       "      <td>17.725053</td>\n",
       "      <td>-0.007247</td>\n",
       "    </tr>\n",
       "    <tr>\n",
       "      <th>8</th>\n",
       "      <td>Tanking again</td>\n",
       "      <td>NEGATIVE</td>\n",
       "      <td>0.999424</td>\n",
       "      <td>🔮WallStreetBets Predictions Tournament for Sep...</td>\n",
       "      <td>216657</td>\n",
       "      <td>1.664412e+09</td>\n",
       "      <td>0.89</td>\n",
       "      <td>1490</td>\n",
       "      <td>POSITIVE</td>\n",
       "      <td>0.994989</td>\n",
       "      <td>17.725053</td>\n",
       "      <td>-0.007247</td>\n",
       "    </tr>\n",
       "    <tr>\n",
       "      <th>8</th>\n",
       "      <td>[DOOM!](https://youtu.be/xoCZ07hwoZ4)</td>\n",
       "      <td>NEGATIVE</td>\n",
       "      <td>0.995840</td>\n",
       "      <td>🔮WallStreetBets Predictions Tournament for Sep...</td>\n",
       "      <td>216657</td>\n",
       "      <td>1.664412e+09</td>\n",
       "      <td>0.89</td>\n",
       "      <td>1490</td>\n",
       "      <td>POSITIVE</td>\n",
       "      <td>0.994989</td>\n",
       "      <td>17.725053</td>\n",
       "      <td>-0.007247</td>\n",
       "    </tr>\n",
       "    <tr>\n",
       "      <th>8</th>\n",
       "      <td>Yoooooooooo</td>\n",
       "      <td>POSITIVE</td>\n",
       "      <td>0.998483</td>\n",
       "      <td>🔮WallStreetBets Predictions Tournament for Sep...</td>\n",
       "      <td>216657</td>\n",
       "      <td>1.664412e+09</td>\n",
       "      <td>0.89</td>\n",
       "      <td>1490</td>\n",
       "      <td>POSITIVE</td>\n",
       "      <td>0.994989</td>\n",
       "      <td>17.725053</td>\n",
       "      <td>-0.007247</td>\n",
       "    </tr>\n",
       "    <tr>\n",
       "      <th>8</th>\n",
       "      <td>Fellas...you're gonna want that cowbell...on t...</td>\n",
       "      <td>POSITIVE</td>\n",
       "      <td>0.994148</td>\n",
       "      <td>🔮WallStreetBets Predictions Tournament for Sep...</td>\n",
       "      <td>216657</td>\n",
       "      <td>1.664412e+09</td>\n",
       "      <td>0.89</td>\n",
       "      <td>1490</td>\n",
       "      <td>POSITIVE</td>\n",
       "      <td>0.994989</td>\n",
       "      <td>17.725053</td>\n",
       "      <td>-0.007247</td>\n",
       "    </tr>\n",
       "  </tbody>\n",
       "</table>\n",
       "<p>1262 rows × 12 columns</p>\n",
       "</div>"
      ],
      "text/plain": [
       "                                                 body sentiment_label_comment  \\\n",
       "0   Someone needs to open a GameStop across the ny...                POSITIVE   \n",
       "0                           Bro wtf... 2021 is crazy.                NEGATIVE   \n",
       "0   This is the hype we need for next week!\\n\\nWE ...                POSITIVE   \n",
       "0   This is easily one of the greatest things to h...                POSITIVE   \n",
       "0   Just when you think this sub can't be any dumb...                NEGATIVE   \n",
       "..                                                ...                     ...   \n",
       "8                          BABOONS ASS RED HOLMES 🙊 🩸                POSITIVE   \n",
       "8                                       Tanking again                NEGATIVE   \n",
       "8               [DOOM!](https://youtu.be/xoCZ07hwoZ4)                NEGATIVE   \n",
       "8                                         Yoooooooooo                POSITIVE   \n",
       "8   Fellas...you're gonna want that cowbell...on t...                POSITIVE   \n",
       "\n",
       "    sentiment_score_comment  \\\n",
       "0                  0.996979   \n",
       "0                  0.994540   \n",
       "0                  0.998700   \n",
       "0                  0.998782   \n",
       "0                  0.998377   \n",
       "..                      ...   \n",
       "8                  0.996992   \n",
       "8                  0.999424   \n",
       "8                  0.995840   \n",
       "8                  0.998483   \n",
       "8                  0.994148   \n",
       "\n",
       "                                                title   score   created_utc  \\\n",
       "0                              Times Square right now  470591  1.612030e+09   \n",
       "0                              Times Square right now  470591  1.612030e+09   \n",
       "0                              Times Square right now  470591  1.612030e+09   \n",
       "0                              Times Square right now  470591  1.612030e+09   \n",
       "0                              Times Square right now  470591  1.612030e+09   \n",
       "..                                                ...     ...           ...   \n",
       "8   🔮WallStreetBets Predictions Tournament for Sep...  216657  1.664412e+09   \n",
       "8   🔮WallStreetBets Predictions Tournament for Sep...  216657  1.664412e+09   \n",
       "8   🔮WallStreetBets Predictions Tournament for Sep...  216657  1.664412e+09   \n",
       "8   🔮WallStreetBets Predictions Tournament for Sep...  216657  1.664412e+09   \n",
       "8   🔮WallStreetBets Predictions Tournament for Sep...  216657  1.664412e+09   \n",
       "\n",
       "    upvote_ratio  num_comments sentiment_label_post  sentiment_score_post  \\\n",
       "0           0.99         13740             POSITIVE              0.991911   \n",
       "0           0.99         13740             POSITIVE              0.991911   \n",
       "0           0.99         13740             POSITIVE              0.991911   \n",
       "0           0.99         13740             POSITIVE              0.991911   \n",
       "0           0.99         13740             POSITIVE              0.991911   \n",
       "..           ...           ...                  ...                   ...   \n",
       "8           0.89          1490             POSITIVE              0.994989   \n",
       "8           0.89          1490             POSITIVE              0.994989   \n",
       "8           0.89          1490             POSITIVE              0.994989   \n",
       "8           0.89          1490             POSITIVE              0.994989   \n",
       "8           0.89          1490             POSITIVE              0.994989   \n",
       "\n",
       "    log_score  log_sentiment_score  \n",
       "0   18.844114            -0.011718  \n",
       "0   18.844114            -0.011718  \n",
       "0   18.844114            -0.011718  \n",
       "0   18.844114            -0.011718  \n",
       "0   18.844114            -0.011718  \n",
       "..        ...                  ...  \n",
       "8   17.725053            -0.007247  \n",
       "8   17.725053            -0.007247  \n",
       "8   17.725053            -0.007247  \n",
       "8   17.725053            -0.007247  \n",
       "8   17.725053            -0.007247  \n",
       "\n",
       "[1262 rows x 12 columns]"
      ]
     },
     "execution_count": 140,
     "metadata": {},
     "output_type": "execute_result"
    }
   ],
   "source": [
    "df = comment_df.set_index('post_idx').merge(post_df, left_index=True, right_index=True, suffixes=['_comment', '_post'])\n",
    "df"
   ]
  },
  {
   "cell_type": "code",
   "execution_count": 142,
   "metadata": {
    "ExecuteTime": {
     "end_time": "2022-11-05T13:27:41.215323Z",
     "start_time": "2022-11-05T13:27:41.042129Z"
    }
   },
   "outputs": [
    {
     "data": {
      "text/plain": [
       "<AxesSubplot:xlabel='sentiment_score_post', ylabel='sentiment_score_comment'>"
      ]
     },
     "execution_count": 142,
     "metadata": {},
     "output_type": "execute_result"
    },
    {
     "data": {
      "image/png": "[encoded data removed]",
      "text/plain": [
       "<Figure size 432x288 with 1 Axes>"
      ]
     },
     "metadata": {
      "needs_background": "light"
     },
     "output_type": "display_data"
    }
   ],
   "source": [
    "sns.scatterplot(x=df['sentiment_score_post'], y=df['sentiment_score_comment'], hue=df['sentiment_label_comment'])"
   ]
  },
  {
   "cell_type": "code",
   "execution_count": 144,
   "metadata": {
    "ExecuteTime": {
     "end_time": "2022-11-05T13:29:09.229615Z",
     "start_time": "2022-11-05T13:29:09.222306Z"
    }
   },
   "outputs": [
    {
     "data": {
      "text/plain": [
       "sentiment_label_post  sentiment_label_comment\n",
       "NEGATIVE              NEGATIVE                    89\n",
       "                      POSITIVE                    49\n",
       "POSITIVE              NEGATIVE                   563\n",
       "                      POSITIVE                   561\n",
       "Name: sentiment_label_comment, dtype: int64"
      ]
     },
     "execution_count": 144,
     "metadata": {},
     "output_type": "execute_result"
    }
   ],
   "source": [
    "df.groupby(['sentiment_label_post'])['sentiment_label_comment'].value_counts()"
   ]
  },
  {
   "cell_type": "code",
   "execution_count": 146,
   "metadata": {
    "ExecuteTime": {
     "end_time": "2022-11-05T13:30:02.572093Z",
     "start_time": "2022-11-05T13:30:02.569257Z"
    }
   },
   "outputs": [],
   "source": [
    "# Interesting, when posts are negative, comments are 2:1 more negative.\n",
    "# When posts are positive, comments are 1:1.\n",
    "# Maybe reddit is by default toxic?"
   ]
  },
  {
   "cell_type": "code",
   "execution_count": null,
   "metadata": {},
   "outputs": [],
   "source": []
  }
 ],
 "metadata": {
  "kernelspec": {
   "display_name": "Python 3 (ipykernel)",
   "language": "python",
   "name": "python3"
  },
  "language_info": {
   "codemirror_mode": {
    "name": "ipython",
    "version": 3
   },
   "file_extension": ".py",
   "mimetype": "text/x-python",
   "name": "python",
   "nbconvert_exporter": "python",
   "pygments_lexer": "ipython3",
   "version": "3.9.7"
  },
  "toc": {
   "base_numbering": 1,
   "nav_menu": {},
   "number_sections": true,
   "sideBar": true,
   "skip_h1_title": false,
   "title_cell": "Table of Contents",
   "title_sidebar": "Contents",
   "toc_cell": false,
   "toc_position": {},
   "toc_section_display": true,
   "toc_window_display": true
  },
  "vscode": {
   "interpreter": {
    "hash": "c57794392b841cffd8686d5c4548e4e2ec78521f49300d60954d1380f1b4bd1f"
   }
  }
 },
 "nbformat": 4,
 "nbformat_minor": 4
}
